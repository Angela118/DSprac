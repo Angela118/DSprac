{
 "cells": [
  {
   "cell_type": "markdown",
   "id": "92e9aa46",
   "metadata": {},
   "source": [
    "# 기본 셋팅"
   ]
  },
  {
   "cell_type": "markdown",
   "id": "da3857c3",
   "metadata": {},
   "source": [
    "## 필요한 라이브러리 로드"
   ]
  },
  {
   "cell_type": "code",
   "execution_count": 1,
   "id": "4241100b",
   "metadata": {},
   "outputs": [],
   "source": [
    "# 데이터 분석을 위한 pandas, 수치계산을 위한 numpy\n",
    "# 시각화를 위한 seaborn, matplotlib.pyplot을 로드\n",
    "\n",
    "import pandas as pd\n",
    "import numpy as np\n",
    "import seaborn as sns\n",
    "import matplotlib.pyplot as plt\n",
    "\n",
    "sns.set_theme(style='whitegrid')"
   ]
  },
  {
   "cell_type": "markdown",
   "id": "e8e1786f",
   "metadata": {},
   "source": [
    "## 데이터셋 로드"
   ]
  },
  {
   "cell_type": "code",
   "execution_count": 2,
   "id": "affffa6d",
   "metadata": {},
   "outputs": [
    {
     "data": {
      "text/plain": [
       "(768, 9)"
      ]
     },
     "execution_count": 2,
     "metadata": {},
     "output_type": "execute_result"
    }
   ],
   "source": [
    "df = pd.read_csv(\"../data/diabetes.csv\")\n",
    "df.shape"
   ]
  },
  {
   "cell_type": "code",
   "execution_count": 3,
   "id": "915500ed",
   "metadata": {},
   "outputs": [
    {
     "data": {
      "text/html": [
       "<div>\n",
       "<style scoped>\n",
       "    .dataframe tbody tr th:only-of-type {\n",
       "        vertical-align: middle;\n",
       "    }\n",
       "\n",
       "    .dataframe tbody tr th {\n",
       "        vertical-align: top;\n",
       "    }\n",
       "\n",
       "    .dataframe thead th {\n",
       "        text-align: right;\n",
       "    }\n",
       "</style>\n",
       "<table border=\"1\" class=\"dataframe\">\n",
       "  <thead>\n",
       "    <tr style=\"text-align: right;\">\n",
       "      <th></th>\n",
       "      <th>Pregnancies</th>\n",
       "      <th>Glucose</th>\n",
       "      <th>BloodPressure</th>\n",
       "      <th>SkinThickness</th>\n",
       "      <th>Insulin</th>\n",
       "      <th>BMI</th>\n",
       "      <th>DiabetesPedigreeFunction</th>\n",
       "      <th>Age</th>\n",
       "      <th>Outcome</th>\n",
       "    </tr>\n",
       "  </thead>\n",
       "  <tbody>\n",
       "    <tr>\n",
       "      <th>0</th>\n",
       "      <td>6</td>\n",
       "      <td>148</td>\n",
       "      <td>72</td>\n",
       "      <td>35</td>\n",
       "      <td>0</td>\n",
       "      <td>33.6</td>\n",
       "      <td>0.627</td>\n",
       "      <td>50</td>\n",
       "      <td>1</td>\n",
       "    </tr>\n",
       "    <tr>\n",
       "      <th>1</th>\n",
       "      <td>1</td>\n",
       "      <td>85</td>\n",
       "      <td>66</td>\n",
       "      <td>29</td>\n",
       "      <td>0</td>\n",
       "      <td>26.6</td>\n",
       "      <td>0.351</td>\n",
       "      <td>31</td>\n",
       "      <td>0</td>\n",
       "    </tr>\n",
       "    <tr>\n",
       "      <th>2</th>\n",
       "      <td>8</td>\n",
       "      <td>183</td>\n",
       "      <td>64</td>\n",
       "      <td>0</td>\n",
       "      <td>0</td>\n",
       "      <td>23.3</td>\n",
       "      <td>0.672</td>\n",
       "      <td>32</td>\n",
       "      <td>1</td>\n",
       "    </tr>\n",
       "    <tr>\n",
       "      <th>3</th>\n",
       "      <td>1</td>\n",
       "      <td>89</td>\n",
       "      <td>66</td>\n",
       "      <td>23</td>\n",
       "      <td>94</td>\n",
       "      <td>28.1</td>\n",
       "      <td>0.167</td>\n",
       "      <td>21</td>\n",
       "      <td>0</td>\n",
       "    </tr>\n",
       "    <tr>\n",
       "      <th>4</th>\n",
       "      <td>0</td>\n",
       "      <td>137</td>\n",
       "      <td>40</td>\n",
       "      <td>35</td>\n",
       "      <td>168</td>\n",
       "      <td>43.1</td>\n",
       "      <td>2.288</td>\n",
       "      <td>33</td>\n",
       "      <td>1</td>\n",
       "    </tr>\n",
       "  </tbody>\n",
       "</table>\n",
       "</div>"
      ],
      "text/plain": [
       "   Pregnancies  Glucose  BloodPressure  SkinThickness  Insulin   BMI  \\\n",
       "0            6      148             72             35        0  33.6   \n",
       "1            1       85             66             29        0  26.6   \n",
       "2            8      183             64              0        0  23.3   \n",
       "3            1       89             66             23       94  28.1   \n",
       "4            0      137             40             35      168  43.1   \n",
       "\n",
       "   DiabetesPedigreeFunction  Age  Outcome  \n",
       "0                     0.627   50        1  \n",
       "1                     0.351   31        0  \n",
       "2                     0.672   32        1  \n",
       "3                     0.167   21        0  \n",
       "4                     2.288   33        1  "
      ]
     },
     "execution_count": 3,
     "metadata": {},
     "output_type": "execute_result"
    }
   ],
   "source": [
    "df.head()"
   ]
  },
  {
   "cell_type": "markdown",
   "id": "c5558e2a",
   "metadata": {},
   "source": [
    "# Feature engineering - new"
   ]
  },
  {
   "cell_type": "markdown",
   "id": "4b4ce27c",
   "metadata": {},
   "source": [
    "## 수치형 변수를 범주형 변수로 만들기"
   ]
  },
  {
   "cell_type": "code",
   "execution_count": 4,
   "id": "1f06f361",
   "metadata": {},
   "outputs": [
    {
     "data": {
      "text/html": [
       "<div>\n",
       "<style scoped>\n",
       "    .dataframe tbody tr th:only-of-type {\n",
       "        vertical-align: middle;\n",
       "    }\n",
       "\n",
       "    .dataframe tbody tr th {\n",
       "        vertical-align: top;\n",
       "    }\n",
       "\n",
       "    .dataframe thead th {\n",
       "        text-align: right;\n",
       "    }\n",
       "</style>\n",
       "<table border=\"1\" class=\"dataframe\">\n",
       "  <thead>\n",
       "    <tr style=\"text-align: right;\">\n",
       "      <th></th>\n",
       "      <th>Pregnancies</th>\n",
       "      <th>Pregnancies_high</th>\n",
       "    </tr>\n",
       "  </thead>\n",
       "  <tbody>\n",
       "    <tr>\n",
       "      <th>0</th>\n",
       "      <td>6</td>\n",
       "      <td>False</td>\n",
       "    </tr>\n",
       "    <tr>\n",
       "      <th>1</th>\n",
       "      <td>1</td>\n",
       "      <td>False</td>\n",
       "    </tr>\n",
       "    <tr>\n",
       "      <th>2</th>\n",
       "      <td>8</td>\n",
       "      <td>True</td>\n",
       "    </tr>\n",
       "    <tr>\n",
       "      <th>3</th>\n",
       "      <td>1</td>\n",
       "      <td>False</td>\n",
       "    </tr>\n",
       "    <tr>\n",
       "      <th>4</th>\n",
       "      <td>0</td>\n",
       "      <td>False</td>\n",
       "    </tr>\n",
       "  </tbody>\n",
       "</table>\n",
       "</div>"
      ],
      "text/plain": [
       "   Pregnancies  Pregnancies_high\n",
       "0            6             False\n",
       "1            1             False\n",
       "2            8              True\n",
       "3            1             False\n",
       "4            0             False"
      ]
     },
     "execution_count": 4,
     "metadata": {},
     "output_type": "execute_result"
    }
   ],
   "source": [
    "# Pregnancies 범주화\n",
    "\n",
    "df[\"Pregnancies_high\"] = df[\"Pregnancies\"] > 6\n",
    "df[[\"Pregnancies\", \"Pregnancies_high\"]].head()"
   ]
  },
  {
   "cell_type": "markdown",
   "id": "df8733ba",
   "metadata": {},
   "source": [
    "## 범주형 변수를 수치형으로 만들기"
   ]
  },
  {
   "cell_type": "code",
   "execution_count": 5,
   "id": "00a9776b",
   "metadata": {},
   "outputs": [
    {
     "data": {
      "text/html": [
       "<div>\n",
       "<style scoped>\n",
       "    .dataframe tbody tr th:only-of-type {\n",
       "        vertical-align: middle;\n",
       "    }\n",
       "\n",
       "    .dataframe tbody tr th {\n",
       "        vertical-align: top;\n",
       "    }\n",
       "\n",
       "    .dataframe thead th {\n",
       "        text-align: right;\n",
       "    }\n",
       "</style>\n",
       "<table border=\"1\" class=\"dataframe\">\n",
       "  <thead>\n",
       "    <tr style=\"text-align: right;\">\n",
       "      <th></th>\n",
       "      <th>Age</th>\n",
       "      <th>Age_low</th>\n",
       "      <th>Age_middle</th>\n",
       "      <th>Age_high</th>\n",
       "    </tr>\n",
       "  </thead>\n",
       "  <tbody>\n",
       "    <tr>\n",
       "      <th>0</th>\n",
       "      <td>50</td>\n",
       "      <td>False</td>\n",
       "      <td>True</td>\n",
       "      <td>False</td>\n",
       "    </tr>\n",
       "    <tr>\n",
       "      <th>1</th>\n",
       "      <td>31</td>\n",
       "      <td>False</td>\n",
       "      <td>True</td>\n",
       "      <td>False</td>\n",
       "    </tr>\n",
       "    <tr>\n",
       "      <th>2</th>\n",
       "      <td>32</td>\n",
       "      <td>False</td>\n",
       "      <td>True</td>\n",
       "      <td>False</td>\n",
       "    </tr>\n",
       "    <tr>\n",
       "      <th>3</th>\n",
       "      <td>21</td>\n",
       "      <td>True</td>\n",
       "      <td>False</td>\n",
       "      <td>False</td>\n",
       "    </tr>\n",
       "    <tr>\n",
       "      <th>4</th>\n",
       "      <td>33</td>\n",
       "      <td>False</td>\n",
       "      <td>True</td>\n",
       "      <td>False</td>\n",
       "    </tr>\n",
       "  </tbody>\n",
       "</table>\n",
       "</div>"
      ],
      "text/plain": [
       "   Age  Age_low  Age_middle  Age_high\n",
       "0   50    False        True     False\n",
       "1   31    False        True     False\n",
       "2   32    False        True     False\n",
       "3   21     True       False     False\n",
       "4   33    False        True     False"
      ]
     },
     "execution_count": 5,
     "metadata": {},
     "output_type": "execute_result"
    }
   ],
   "source": [
    "# Age 범주화\n",
    "# One-Hot Encoding: 범주형 데이터를 수치형으로. 해당 컬럼에 해당되는지 여부\n",
    "# 수치데이터(나이) -> 범주화(나이가<30, 30<=나이<60, 60<나이) -> 범주화 된 해당 데이터를 다시 수치화(True/False)\n",
    "\n",
    "df[\"Age_low\"] = df[\"Age\"] < 30\n",
    "df[\"Age_middle\"] = (df[\"Age\"] >= 30) & (df[\"Age\"] <= 60)\n",
    "df[\"Age_high\"] = df[\"Age\"] > 60\n",
    "df[[\"Age\", \"Age_low\", \"Age_middle\", \"Age_high\"]].head()"
   ]
  },
  {
   "cell_type": "code",
   "execution_count": 6,
   "id": "b0dd6266",
   "metadata": {},
   "outputs": [
    {
     "data": {
      "text/plain": [
       "<AxesSubplot:xlabel='Age_low', ylabel='count'>"
      ]
     },
     "execution_count": 6,
     "metadata": {},
     "output_type": "execute_result"
    },
    {
     "data": {
      "image/png": "[encoded data removed]",
      "text/plain": [
       "<Figure size 432x288 with 1 Axes>"
      ]
     },
     "metadata": {},
     "output_type": "display_data"
    }
   ],
   "source": [
    "sns.countplot(data=df, x=\"Age_low\", hue=\"Outcome\")"
   ]
  },
  {
   "cell_type": "markdown",
   "id": "e6cd22bb",
   "metadata": {},
   "source": [
    "- True = Age_low(25세 미만)인 사람들의 발병률(Outcome=1)이 훨씬 낮다"
   ]
  },
  {
   "cell_type": "code",
   "execution_count": 7,
   "id": "e16b254f",
   "metadata": {},
   "outputs": [
    {
     "data": {
      "text/plain": [
       "<AxesSubplot:xlabel='Age_middle', ylabel='count'>"
      ]
     },
     "execution_count": 7,
     "metadata": {},
     "output_type": "execute_result"
    },
    {
     "data": {
      "image/png": "[encoded data removed]",
      "text/plain": [
       "<Figure size 432x288 with 1 Axes>"
      ]
     },
     "metadata": {},
     "output_type": "display_data"
    }
   ],
   "source": [
    "sns.countplot(data=df, x=\"Age_middle\", hue=\"Outcome\")"
   ]
  },
  {
   "cell_type": "code",
   "execution_count": 8,
   "id": "c3f5a039",
   "metadata": {},
   "outputs": [
    {
     "data": {
      "text/plain": [
       "<AxesSubplot:xlabel='Age_high', ylabel='count'>"
      ]
     },
     "execution_count": 8,
     "metadata": {},
     "output_type": "execute_result"
    },
    {
     "data": {
      "image/png": "[encoded data removed]",
      "text/plain": [
       "<Figure size 432x288 with 1 Axes>"
      ]
     },
     "metadata": {},
     "output_type": "display_data"
    }
   ],
   "source": [
    "sns.countplot(data=df, x=\"Age_high\", hue=\"Outcome\")"
   ]
  },
  {
   "cell_type": "markdown",
   "id": "32037d9a",
   "metadata": {},
   "source": [
    "## 결측치 다루기"
   ]
  },
  {
   "cell_type": "code",
   "execution_count": 9,
   "id": "73daa5fe",
   "metadata": {},
   "outputs": [
    {
     "data": {
      "text/plain": [
       "Pregnancies                 0\n",
       "Glucose                     0\n",
       "BloodPressure               0\n",
       "SkinThickness               0\n",
       "Insulin                     0\n",
       "BMI                         0\n",
       "DiabetesPedigreeFunction    0\n",
       "Age                         0\n",
       "Outcome                     0\n",
       "Pregnancies_high            0\n",
       "Age_low                     0\n",
       "Age_middle                  0\n",
       "Age_high                    0\n",
       "dtype: int64"
      ]
     },
     "execution_count": 9,
     "metadata": {},
     "output_type": "execute_result"
    }
   ],
   "source": [
    "df.isnull().sum()"
   ]
  },
  {
   "cell_type": "markdown",
   "id": "80e9fe43",
   "metadata": {},
   "source": [
    "- 결측치가 없다고 나옴"
   ]
  },
  {
   "cell_type": "code",
   "execution_count": 10,
   "id": "7df9a76e",
   "metadata": {},
   "outputs": [
    {
     "data": {
      "text/html": [
       "<div>\n",
       "<style scoped>\n",
       "    .dataframe tbody tr th:only-of-type {\n",
       "        vertical-align: middle;\n",
       "    }\n",
       "\n",
       "    .dataframe tbody tr th {\n",
       "        vertical-align: top;\n",
       "    }\n",
       "\n",
       "    .dataframe thead th {\n",
       "        text-align: right;\n",
       "    }\n",
       "</style>\n",
       "<table border=\"1\" class=\"dataframe\">\n",
       "  <thead>\n",
       "    <tr style=\"text-align: right;\">\n",
       "      <th></th>\n",
       "      <th>Pregnancies</th>\n",
       "      <th>Glucose</th>\n",
       "      <th>BloodPressure</th>\n",
       "      <th>SkinThickness</th>\n",
       "      <th>Insulin</th>\n",
       "      <th>BMI</th>\n",
       "      <th>DiabetesPedigreeFunction</th>\n",
       "      <th>Age</th>\n",
       "      <th>Outcome</th>\n",
       "    </tr>\n",
       "  </thead>\n",
       "  <tbody>\n",
       "    <tr>\n",
       "      <th>count</th>\n",
       "      <td>768.000000</td>\n",
       "      <td>768.000000</td>\n",
       "      <td>768.000000</td>\n",
       "      <td>768.000000</td>\n",
       "      <td>768.000000</td>\n",
       "      <td>768.000000</td>\n",
       "      <td>768.000000</td>\n",
       "      <td>768.000000</td>\n",
       "      <td>768.000000</td>\n",
       "    </tr>\n",
       "    <tr>\n",
       "      <th>mean</th>\n",
       "      <td>3.845052</td>\n",
       "      <td>120.894531</td>\n",
       "      <td>69.105469</td>\n",
       "      <td>20.536458</td>\n",
       "      <td>79.799479</td>\n",
       "      <td>31.992578</td>\n",
       "      <td>0.471876</td>\n",
       "      <td>33.240885</td>\n",
       "      <td>0.348958</td>\n",
       "    </tr>\n",
       "    <tr>\n",
       "      <th>std</th>\n",
       "      <td>3.369578</td>\n",
       "      <td>31.972618</td>\n",
       "      <td>19.355807</td>\n",
       "      <td>15.952218</td>\n",
       "      <td>115.244002</td>\n",
       "      <td>7.884160</td>\n",
       "      <td>0.331329</td>\n",
       "      <td>11.760232</td>\n",
       "      <td>0.476951</td>\n",
       "    </tr>\n",
       "    <tr>\n",
       "      <th>min</th>\n",
       "      <td>0.000000</td>\n",
       "      <td>0.000000</td>\n",
       "      <td>0.000000</td>\n",
       "      <td>0.000000</td>\n",
       "      <td>0.000000</td>\n",
       "      <td>0.000000</td>\n",
       "      <td>0.078000</td>\n",
       "      <td>21.000000</td>\n",
       "      <td>0.000000</td>\n",
       "    </tr>\n",
       "    <tr>\n",
       "      <th>25%</th>\n",
       "      <td>1.000000</td>\n",
       "      <td>99.000000</td>\n",
       "      <td>62.000000</td>\n",
       "      <td>0.000000</td>\n",
       "      <td>0.000000</td>\n",
       "      <td>27.300000</td>\n",
       "      <td>0.243750</td>\n",
       "      <td>24.000000</td>\n",
       "      <td>0.000000</td>\n",
       "    </tr>\n",
       "    <tr>\n",
       "      <th>50%</th>\n",
       "      <td>3.000000</td>\n",
       "      <td>117.000000</td>\n",
       "      <td>72.000000</td>\n",
       "      <td>23.000000</td>\n",
       "      <td>30.500000</td>\n",
       "      <td>32.000000</td>\n",
       "      <td>0.372500</td>\n",
       "      <td>29.000000</td>\n",
       "      <td>0.000000</td>\n",
       "    </tr>\n",
       "    <tr>\n",
       "      <th>75%</th>\n",
       "      <td>6.000000</td>\n",
       "      <td>140.250000</td>\n",
       "      <td>80.000000</td>\n",
       "      <td>32.000000</td>\n",
       "      <td>127.250000</td>\n",
       "      <td>36.600000</td>\n",
       "      <td>0.626250</td>\n",
       "      <td>41.000000</td>\n",
       "      <td>1.000000</td>\n",
       "    </tr>\n",
       "    <tr>\n",
       "      <th>max</th>\n",
       "      <td>17.000000</td>\n",
       "      <td>199.000000</td>\n",
       "      <td>122.000000</td>\n",
       "      <td>99.000000</td>\n",
       "      <td>846.000000</td>\n",
       "      <td>67.100000</td>\n",
       "      <td>2.420000</td>\n",
       "      <td>81.000000</td>\n",
       "      <td>1.000000</td>\n",
       "    </tr>\n",
       "  </tbody>\n",
       "</table>\n",
       "</div>"
      ],
      "text/plain": [
       "       Pregnancies     Glucose  BloodPressure  SkinThickness     Insulin  \\\n",
       "count   768.000000  768.000000     768.000000     768.000000  768.000000   \n",
       "mean      3.845052  120.894531      69.105469      20.536458   79.799479   \n",
       "std       3.369578   31.972618      19.355807      15.952218  115.244002   \n",
       "min       0.000000    0.000000       0.000000       0.000000    0.000000   \n",
       "25%       1.000000   99.000000      62.000000       0.000000    0.000000   \n",
       "50%       3.000000  117.000000      72.000000      23.000000   30.500000   \n",
       "75%       6.000000  140.250000      80.000000      32.000000  127.250000   \n",
       "max      17.000000  199.000000     122.000000      99.000000  846.000000   \n",
       "\n",
       "              BMI  DiabetesPedigreeFunction         Age     Outcome  \n",
       "count  768.000000                768.000000  768.000000  768.000000  \n",
       "mean    31.992578                  0.471876   33.240885    0.348958  \n",
       "std      7.884160                  0.331329   11.760232    0.476951  \n",
       "min      0.000000                  0.078000   21.000000    0.000000  \n",
       "25%     27.300000                  0.243750   24.000000    0.000000  \n",
       "50%     32.000000                  0.372500   29.000000    0.000000  \n",
       "75%     36.600000                  0.626250   41.000000    1.000000  \n",
       "max     67.100000                  2.420000   81.000000    1.000000  "
      ]
     },
     "execution_count": 10,
     "metadata": {},
     "output_type": "execute_result"
    }
   ],
   "source": [
    "df.describe()"
   ]
  },
  {
   "cell_type": "markdown",
   "id": "34a027b4",
   "metadata": {},
   "source": [
    "- 하지만 실제로는 df.describe()를 해보면 \n",
    "- Glucose, BloodPressure, SkinThickness, Insulin, BMI 같은 애들은 0이 들어갈 수 없는데 0으로 되어 있는 경우가 많음"
   ]
  },
  {
   "cell_type": "code",
   "execution_count": 11,
   "id": "b9bf6fe5",
   "metadata": {},
   "outputs": [
    {
     "data": {
      "text/html": [
       "<div>\n",
       "<style scoped>\n",
       "    .dataframe tbody tr th:only-of-type {\n",
       "        vertical-align: middle;\n",
       "    }\n",
       "\n",
       "    .dataframe tbody tr th {\n",
       "        vertical-align: top;\n",
       "    }\n",
       "\n",
       "    .dataframe thead th {\n",
       "        text-align: right;\n",
       "    }\n",
       "</style>\n",
       "<table border=\"1\" class=\"dataframe\">\n",
       "  <thead>\n",
       "    <tr style=\"text-align: right;\">\n",
       "      <th></th>\n",
       "      <th>Insulin</th>\n",
       "      <th>Insulin_nan</th>\n",
       "    </tr>\n",
       "  </thead>\n",
       "  <tbody>\n",
       "    <tr>\n",
       "      <th>0</th>\n",
       "      <td>0</td>\n",
       "      <td>NaN</td>\n",
       "    </tr>\n",
       "    <tr>\n",
       "      <th>1</th>\n",
       "      <td>0</td>\n",
       "      <td>NaN</td>\n",
       "    </tr>\n",
       "    <tr>\n",
       "      <th>2</th>\n",
       "      <td>0</td>\n",
       "      <td>NaN</td>\n",
       "    </tr>\n",
       "    <tr>\n",
       "      <th>3</th>\n",
       "      <td>94</td>\n",
       "      <td>94.0</td>\n",
       "    </tr>\n",
       "    <tr>\n",
       "      <th>4</th>\n",
       "      <td>168</td>\n",
       "      <td>168.0</td>\n",
       "    </tr>\n",
       "  </tbody>\n",
       "</table>\n",
       "</div>"
      ],
      "text/plain": [
       "   Insulin  Insulin_nan\n",
       "0        0          NaN\n",
       "1        0          NaN\n",
       "2        0          NaN\n",
       "3       94         94.0\n",
       "4      168        168.0"
      ]
     },
     "execution_count": 11,
     "metadata": {},
     "output_type": "execute_result"
    }
   ],
   "source": [
    "# Insulin이 0인 값은 결측치 nan으로 전처리 해준다\n",
    "\n",
    "df[\"Insulin_nan\"] = df[\"Insulin\"].replace(0, np.nan)\n",
    "df[[\"Insulin\", \"Insulin_nan\"]].head()"
   ]
  },
  {
   "cell_type": "code",
   "execution_count": 12,
   "id": "4d50bd66",
   "metadata": {},
   "outputs": [
    {
     "data": {
      "text/plain": [
       "374"
      ]
     },
     "execution_count": 12,
     "metadata": {},
     "output_type": "execute_result"
    }
   ],
   "source": [
    "# Insulin의 결측치 갯수\n",
    "\n",
    "df[\"Insulin_nan\"].isnull().sum()"
   ]
  },
  {
   "cell_type": "code",
   "execution_count": 13,
   "id": "734ecfac",
   "metadata": {},
   "outputs": [
    {
     "data": {
      "text/plain": [
       "0.4869791666666667"
      ]
     },
     "execution_count": 13,
     "metadata": {},
     "output_type": "execute_result"
    }
   ],
   "source": [
    "# Insulin의 결측치 비율\n",
    "\n",
    "df[\"Insulin_nan\"].isnull().mean()"
   ]
  },
  {
   "cell_type": "code",
   "execution_count": 14,
   "id": "716a4e24",
   "metadata": {},
   "outputs": [
    {
     "name": "stderr",
     "output_type": "stream",
     "text": [
      "/var/folders/5n/40w2sqt964z7wvg0nvdc851w0000gn/T/ipykernel_64564/3543129882.py:4: FutureWarning: Indexing with multiple keys (implicitly converted to a tuple of keys) will be deprecated, use a list instead.\n",
      "  df.groupby([\"Outcome\"])[\"Insulin\", \"Insulin_nan\"].describe()\n"
     ]
    },
    {
     "data": {
      "text/html": [
       "<div>\n",
       "<style scoped>\n",
       "    .dataframe tbody tr th:only-of-type {\n",
       "        vertical-align: middle;\n",
       "    }\n",
       "\n",
       "    .dataframe tbody tr th {\n",
       "        vertical-align: top;\n",
       "    }\n",
       "\n",
       "    .dataframe thead tr th {\n",
       "        text-align: left;\n",
       "    }\n",
       "\n",
       "    .dataframe thead tr:last-of-type th {\n",
       "        text-align: right;\n",
       "    }\n",
       "</style>\n",
       "<table border=\"1\" class=\"dataframe\">\n",
       "  <thead>\n",
       "    <tr>\n",
       "      <th></th>\n",
       "      <th colspan=\"8\" halign=\"left\">Insulin</th>\n",
       "      <th colspan=\"8\" halign=\"left\">Insulin_nan</th>\n",
       "    </tr>\n",
       "    <tr>\n",
       "      <th></th>\n",
       "      <th>count</th>\n",
       "      <th>mean</th>\n",
       "      <th>std</th>\n",
       "      <th>min</th>\n",
       "      <th>25%</th>\n",
       "      <th>50%</th>\n",
       "      <th>75%</th>\n",
       "      <th>max</th>\n",
       "      <th>count</th>\n",
       "      <th>mean</th>\n",
       "      <th>std</th>\n",
       "      <th>min</th>\n",
       "      <th>25%</th>\n",
       "      <th>50%</th>\n",
       "      <th>75%</th>\n",
       "      <th>max</th>\n",
       "    </tr>\n",
       "    <tr>\n",
       "      <th>Outcome</th>\n",
       "      <th></th>\n",
       "      <th></th>\n",
       "      <th></th>\n",
       "      <th></th>\n",
       "      <th></th>\n",
       "      <th></th>\n",
       "      <th></th>\n",
       "      <th></th>\n",
       "      <th></th>\n",
       "      <th></th>\n",
       "      <th></th>\n",
       "      <th></th>\n",
       "      <th></th>\n",
       "      <th></th>\n",
       "      <th></th>\n",
       "      <th></th>\n",
       "    </tr>\n",
       "  </thead>\n",
       "  <tbody>\n",
       "    <tr>\n",
       "      <th>0</th>\n",
       "      <td>500.0</td>\n",
       "      <td>68.792000</td>\n",
       "      <td>98.865289</td>\n",
       "      <td>0.0</td>\n",
       "      <td>0.0</td>\n",
       "      <td>39.0</td>\n",
       "      <td>105.00</td>\n",
       "      <td>744.0</td>\n",
       "      <td>264.0</td>\n",
       "      <td>130.287879</td>\n",
       "      <td>102.482237</td>\n",
       "      <td>15.0</td>\n",
       "      <td>66.0</td>\n",
       "      <td>102.5</td>\n",
       "      <td>161.25</td>\n",
       "      <td>744.0</td>\n",
       "    </tr>\n",
       "    <tr>\n",
       "      <th>1</th>\n",
       "      <td>268.0</td>\n",
       "      <td>100.335821</td>\n",
       "      <td>138.689125</td>\n",
       "      <td>0.0</td>\n",
       "      <td>0.0</td>\n",
       "      <td>0.0</td>\n",
       "      <td>167.25</td>\n",
       "      <td>846.0</td>\n",
       "      <td>130.0</td>\n",
       "      <td>206.846154</td>\n",
       "      <td>132.699898</td>\n",
       "      <td>14.0</td>\n",
       "      <td>127.5</td>\n",
       "      <td>169.5</td>\n",
       "      <td>239.25</td>\n",
       "      <td>846.0</td>\n",
       "    </tr>\n",
       "  </tbody>\n",
       "</table>\n",
       "</div>"
      ],
      "text/plain": [
       "        Insulin                                                         \\\n",
       "          count        mean         std  min  25%   50%     75%    max   \n",
       "Outcome                                                                  \n",
       "0         500.0   68.792000   98.865289  0.0  0.0  39.0  105.00  744.0   \n",
       "1         268.0  100.335821  138.689125  0.0  0.0   0.0  167.25  846.0   \n",
       "\n",
       "        Insulin_nan                                                             \n",
       "              count        mean         std   min    25%    50%     75%    max  \n",
       "Outcome                                                                         \n",
       "0             264.0  130.287879  102.482237  15.0   66.0  102.5  161.25  744.0  \n",
       "1             130.0  206.846154  132.699898  14.0  127.5  169.5  239.25  846.0  "
      ]
     },
     "execution_count": 14,
     "metadata": {},
     "output_type": "execute_result"
    }
   ],
   "source": [
    "# Insulin의 결측치를 처리해준 것과 해주지 않은 데이터가 평균값이 어느정도 차이 나는지\n",
    "# 당뇨병 발병 여부(Outcome) 값에 따라서 Insulin, Insulin_nan의 평균값을 보여준다 \n",
    "\n",
    "df.groupby([\"Outcome\"])[\"Insulin\", \"Insulin_nan\"].describe()"
   ]
  },
  {
   "cell_type": "code",
   "execution_count": 15,
   "id": "57fa7eaf",
   "metadata": {},
   "outputs": [
    {
     "name": "stderr",
     "output_type": "stream",
     "text": [
      "/var/folders/5n/40w2sqt964z7wvg0nvdc851w0000gn/T/ipykernel_64564/3311136035.py:3: FutureWarning: Indexing with multiple keys (implicitly converted to a tuple of keys) will be deprecated, use a list instead.\n",
      "  df.groupby([\"Outcome\"])[\"Insulin\", \"Insulin_nan\"].agg([\"mean\", \"median\"])\n"
     ]
    },
    {
     "data": {
      "text/html": [
       "<div>\n",
       "<style scoped>\n",
       "    .dataframe tbody tr th:only-of-type {\n",
       "        vertical-align: middle;\n",
       "    }\n",
       "\n",
       "    .dataframe tbody tr th {\n",
       "        vertical-align: top;\n",
       "    }\n",
       "\n",
       "    .dataframe thead tr th {\n",
       "        text-align: left;\n",
       "    }\n",
       "\n",
       "    .dataframe thead tr:last-of-type th {\n",
       "        text-align: right;\n",
       "    }\n",
       "</style>\n",
       "<table border=\"1\" class=\"dataframe\">\n",
       "  <thead>\n",
       "    <tr>\n",
       "      <th></th>\n",
       "      <th colspan=\"2\" halign=\"left\">Insulin</th>\n",
       "      <th colspan=\"2\" halign=\"left\">Insulin_nan</th>\n",
       "    </tr>\n",
       "    <tr>\n",
       "      <th></th>\n",
       "      <th>mean</th>\n",
       "      <th>median</th>\n",
       "      <th>mean</th>\n",
       "      <th>median</th>\n",
       "    </tr>\n",
       "    <tr>\n",
       "      <th>Outcome</th>\n",
       "      <th></th>\n",
       "      <th></th>\n",
       "      <th></th>\n",
       "      <th></th>\n",
       "    </tr>\n",
       "  </thead>\n",
       "  <tbody>\n",
       "    <tr>\n",
       "      <th>0</th>\n",
       "      <td>68.792000</td>\n",
       "      <td>39.0</td>\n",
       "      <td>130.287879</td>\n",
       "      <td>102.5</td>\n",
       "    </tr>\n",
       "    <tr>\n",
       "      <th>1</th>\n",
       "      <td>100.335821</td>\n",
       "      <td>0.0</td>\n",
       "      <td>206.846154</td>\n",
       "      <td>169.5</td>\n",
       "    </tr>\n",
       "  </tbody>\n",
       "</table>\n",
       "</div>"
      ],
      "text/plain": [
       "            Insulin        Insulin_nan       \n",
       "               mean median        mean median\n",
       "Outcome                                      \n",
       "0         68.792000   39.0  130.287879  102.5\n",
       "1        100.335821    0.0  206.846154  169.5"
      ]
     },
     "execution_count": 15,
     "metadata": {},
     "output_type": "execute_result"
    }
   ],
   "source": [
    "# describe 중에서 보고싶은 것들만 나오게\n",
    "\n",
    "df.groupby([\"Outcome\"])[\"Insulin\", \"Insulin_nan\"].agg([\"mean\", \"median\"])"
   ]
  },
  {
   "cell_type": "markdown",
   "id": "2edf7962",
   "metadata": {},
   "source": [
    "### 결측치를 평균값으로 채우기"
   ]
  },
  {
   "cell_type": "code",
   "execution_count": 16,
   "id": "833ab0aa",
   "metadata": {},
   "outputs": [],
   "source": [
    "# 결측치 채우기\n",
    "# nan 대신 평균값인 130, 206으로 채워준다\n",
    "\n",
    "# df.loc[(df[\"Outcome\"]==0) & (df[\"Insulin_nan\"].isnull()), \"Insulin_nan\"] = 130\n",
    "# df.loc[(df[\"Outcome\"]==1) & (df[\"Insulin_nan\"].isnull()), \"Insulin_nan\"] = 206"
   ]
  },
  {
   "cell_type": "markdown",
   "id": "8ba40c45",
   "metadata": {},
   "source": [
    "### 결측치를 중앙값으로 채우기"
   ]
  },
  {
   "cell_type": "code",
   "execution_count": 17,
   "id": "8d0cda50",
   "metadata": {},
   "outputs": [],
   "source": [
    "# 결측치 채우기\n",
    "# nan 대신 중앙값인 102.5, 169.5로 채워준다\n",
    "\n",
    "df.loc[(df[\"Outcome\"]==0) & (df[\"Insulin_nan\"].isnull()), \"Insulin_nan\"] = 102.5\n",
    "df.loc[(df[\"Outcome\"]==1) & (df[\"Insulin_nan\"].isnull()), \"Insulin_nan\"] = 169.5"
   ]
  },
  {
   "cell_type": "markdown",
   "id": "68d2edc8",
   "metadata": {},
   "source": [
    "## 정규분포로 변환\n",
    "\n",
    "\n",
    "- ML/DL 알고리즘은 한 쪽으로 치우친 데이터 보다, 정규분포를 이루는 데이터에 대해 더 좋은 성능을 낸다."
   ]
  },
  {
   "cell_type": "markdown",
   "id": "01964b6b",
   "metadata": {},
   "source": [
    "### 왜도, 첨도"
   ]
  },
  {
   "cell_type": "code",
   "execution_count": 18,
   "id": "9f6ef504",
   "metadata": {},
   "outputs": [
    {
     "name": "stderr",
     "output_type": "stream",
     "text": [
      "/Users/angelayoon/opt/anaconda3/lib/python3.9/site-packages/seaborn/distributions.py:2619: FutureWarning: `distplot` is a deprecated function and will be removed in a future version. Please adapt your code to use either `displot` (a figure-level function with similar flexibility) or `histplot` (an axes-level function for histograms).\n",
      "  warnings.warn(msg, FutureWarning)\n"
     ]
    },
    {
     "data": {
      "text/plain": [
       "<AxesSubplot:xlabel='Insulin', ylabel='Density'>"
      ]
     },
     "execution_count": 18,
     "metadata": {},
     "output_type": "execute_result"
    },
    {
     "data": {
      "image/png": "[encoded data removed]",
      "text/plain": [
       "<Figure size 432x288 with 1 Axes>"
      ]
     },
     "metadata": {},
     "output_type": "display_data"
    }
   ],
   "source": [
    "# Insulin 데이터 분포 보기\n",
    "\n",
    "sns.distplot(df[\"Insulin\"])"
   ]
  },
  {
   "cell_type": "code",
   "execution_count": 19,
   "id": "7a4d5f93",
   "metadata": {},
   "outputs": [
    {
     "name": "stderr",
     "output_type": "stream",
     "text": [
      "/Users/angelayoon/opt/anaconda3/lib/python3.9/site-packages/seaborn/distributions.py:2619: FutureWarning: `distplot` is a deprecated function and will be removed in a future version. Please adapt your code to use either `displot` (a figure-level function with similar flexibility) or `histplot` (an axes-level function for histograms).\n",
      "  warnings.warn(msg, FutureWarning)\n"
     ]
    },
    {
     "data": {
      "text/plain": [
       "<AxesSubplot:xlabel='Insulin', ylabel='Density'>"
      ]
     },
     "execution_count": 19,
     "metadata": {},
     "output_type": "execute_result"
    },
    {
     "data": {
      "image/png": "[encoded data removed]",
      "text/plain": [
       "<Figure size 432x288 with 1 Axes>"
      ]
     },
     "metadata": {},
     "output_type": "display_data"
    }
   ],
   "source": [
    "# 0 보다 큰 Insulin 값만 가지고 온다\n",
    "\n",
    "sns.distplot(df.loc[df[\"Insulin\"]>0, \"Insulin\"])"
   ]
  },
  {
   "cell_type": "markdown",
   "id": "5e0dabb5",
   "metadata": {},
   "source": [
    "- 여전히 한 쪽으로 치우쳐져 있고(왜도), 굉장히 뾰족한 형태(첨도)\n",
    "- 양쪽으로 꼬리가 길게 빠짐"
   ]
  },
  {
   "cell_type": "code",
   "execution_count": 20,
   "id": "c2a86e6c",
   "metadata": {},
   "outputs": [
    {
     "name": "stderr",
     "output_type": "stream",
     "text": [
      "/Users/angelayoon/opt/anaconda3/lib/python3.9/site-packages/seaborn/distributions.py:2619: FutureWarning: `distplot` is a deprecated function and will be removed in a future version. Please adapt your code to use either `displot` (a figure-level function with similar flexibility) or `histplot` (an axes-level function for histograms).\n",
      "  warnings.warn(msg, FutureWarning)\n"
     ]
    },
    {
     "data": {
      "text/plain": [
       "<AxesSubplot:xlabel='Insulin', ylabel='Density'>"
      ]
     },
     "execution_count": 20,
     "metadata": {},
     "output_type": "execute_result"
    },
    {
     "data": {
      "image/png": "[encoded data removed]",
      "text/plain": [
       "<Figure size 432x288 with 1 Axes>"
      ]
     },
     "metadata": {},
     "output_type": "display_data"
    }
   ],
   "source": [
    "# log를 씌운다\n",
    "# 이 때 1과 같은 작은 숫자를 더해주는데, 그 이유는 0 이하에서는 마이너스 값으로 수렴하기 때문에\n",
    "\n",
    "sns.distplot(np.log(df.loc[df[\"Insulin\"]>0, \"Insulin\"] + 1))"
   ]
  },
  {
   "cell_type": "markdown",
   "id": "6c8d816b",
   "metadata": {},
   "source": [
    "- 좀 더 정규분포 모양으로 바뀜\n",
    "- 양쪽으로 길게 빠지던 꼬리가 짧아짐"
   ]
  },
  {
   "cell_type": "code",
   "execution_count": 21,
   "id": "6d67dea5",
   "metadata": {},
   "outputs": [
    {
     "name": "stderr",
     "output_type": "stream",
     "text": [
      "/Users/angelayoon/opt/anaconda3/lib/python3.9/site-packages/seaborn/distributions.py:2619: FutureWarning: `distplot` is a deprecated function and will be removed in a future version. Please adapt your code to use either `displot` (a figure-level function with similar flexibility) or `histplot` (an axes-level function for histograms).\n",
      "  warnings.warn(msg, FutureWarning)\n"
     ]
    },
    {
     "data": {
      "text/plain": [
       "<AxesSubplot:xlabel='Insulin_nan', ylabel='Density'>"
      ]
     },
     "execution_count": 21,
     "metadata": {},
     "output_type": "execute_result"
    },
    {
     "data": {
      "image/png": "[encoded data removed]",
      "text/plain": [
       "<Figure size 432x288 with 1 Axes>"
      ]
     },
     "metadata": {},
     "output_type": "display_data"
    }
   ],
   "source": [
    "sns.distplot(df[\"Insulin_nan\"])"
   ]
  },
  {
   "cell_type": "code",
   "execution_count": 22,
   "id": "b42a8c28",
   "metadata": {},
   "outputs": [
    {
     "name": "stderr",
     "output_type": "stream",
     "text": [
      "/Users/angelayoon/opt/anaconda3/lib/python3.9/site-packages/seaborn/distributions.py:2619: FutureWarning: `distplot` is a deprecated function and will be removed in a future version. Please adapt your code to use either `displot` (a figure-level function with similar flexibility) or `histplot` (an axes-level function for histograms).\n",
      "  warnings.warn(msg, FutureWarning)\n"
     ]
    },
    {
     "data": {
      "text/plain": [
       "<AxesSubplot:xlabel='Insulin_log', ylabel='Density'>"
      ]
     },
     "execution_count": 22,
     "metadata": {},
     "output_type": "execute_result"
    },
    {
     "data": {
      "image/png": "[encoded data removed]",
      "text/plain": [
       "<Figure size 432x288 with 1 Axes>"
      ]
     },
     "metadata": {},
     "output_type": "display_data"
    }
   ],
   "source": [
    "# 1 이하의 값에서 마이너스 무한대로 수렴하기 때문에 +1을 해준다\n",
    "\n",
    "df[\"Insulin_log\"] = np.log(df[\"Insulin_nan\"] + 1)\n",
    "sns.distplot(df[\"Insulin_log\"])"
   ]
  },
  {
   "cell_type": "markdown",
   "id": "44ba495d",
   "metadata": {},
   "source": [
    "## 상관분석을 통해 파생변수 만들기\n",
    "\n",
    "- Glucose-Insulin의 상관계수가 높음 & 뚜렷하게 구분되는 지점이 보임\n",
    "- Glucose가 100보다 낮고, Insulin이 중앙값보다 낮을 때, 당뇨병이 걸릴 확률이 현저히 떨어짐"
   ]
  },
  {
   "cell_type": "code",
   "execution_count": 23,
   "id": "7bb597cd",
   "metadata": {},
   "outputs": [
    {
     "data": {
      "text/plain": [
       "<seaborn.axisgrid.FacetGrid at 0x7fac73b65130>"
      ]
     },
     "execution_count": 23,
     "metadata": {},
     "output_type": "execute_result"
    },
    {
     "data": {
      "image/png": "[encoded data removed]",
      "text/plain": [
       "<Figure size 417.675x360 with 1 Axes>"
      ]
     },
     "metadata": {},
     "output_type": "display_data"
    }
   ],
   "source": [
    "sns.lmplot(data=df, x=\"Insulin_nan\", y=\"Glucose\", hue=\"Outcome\")"
   ]
  },
  {
   "cell_type": "code",
   "execution_count": 24,
   "id": "8aecec98",
   "metadata": {},
   "outputs": [
    {
     "data": {
      "text/plain": [
       "0    False\n",
       "1     True\n",
       "2    False\n",
       "3     True\n",
       "4    False\n",
       "Name: low_glu_insulin, dtype: bool"
      ]
     },
     "execution_count": 24,
     "metadata": {},
     "output_type": "execute_result"
    }
   ],
   "source": [
    "df[\"low_glu_insulin\"] = (df[\"Glucose\"] < 100) & (df[\"Insulin_nan\"] <= 102.5)\n",
    "df[\"low_glu_insulin\"].head()"
   ]
  },
  {
   "cell_type": "code",
   "execution_count": 25,
   "id": "c71e80ab",
   "metadata": {},
   "outputs": [
    {
     "data": {
      "text/html": [
       "<div>\n",
       "<style scoped>\n",
       "    .dataframe tbody tr th:only-of-type {\n",
       "        vertical-align: middle;\n",
       "    }\n",
       "\n",
       "    .dataframe tbody tr th {\n",
       "        vertical-align: top;\n",
       "    }\n",
       "\n",
       "    .dataframe thead th {\n",
       "        text-align: right;\n",
       "    }\n",
       "</style>\n",
       "<table border=\"1\" class=\"dataframe\">\n",
       "  <thead>\n",
       "    <tr style=\"text-align: right;\">\n",
       "      <th>low_glu_insulin</th>\n",
       "      <th>False</th>\n",
       "      <th>True</th>\n",
       "    </tr>\n",
       "    <tr>\n",
       "      <th>Outcome</th>\n",
       "      <th></th>\n",
       "      <th></th>\n",
       "    </tr>\n",
       "  </thead>\n",
       "  <tbody>\n",
       "    <tr>\n",
       "      <th>0</th>\n",
       "      <td>332</td>\n",
       "      <td>168</td>\n",
       "    </tr>\n",
       "    <tr>\n",
       "      <th>1</th>\n",
       "      <td>263</td>\n",
       "      <td>5</td>\n",
       "    </tr>\n",
       "  </tbody>\n",
       "</table>\n",
       "</div>"
      ],
      "text/plain": [
       "low_glu_insulin  False  True\n",
       "Outcome                     \n",
       "0                  332   168\n",
       "1                  263     5"
      ]
     },
     "execution_count": 25,
     "metadata": {},
     "output_type": "execute_result"
    }
   ],
   "source": [
    "# 범주형 값에 대한 cross table을 그려준다\n",
    "\n",
    "pd.crosstab(df[\"Outcome\"], df[\"low_glu_insulin\"])"
   ]
  },
  {
   "cell_type": "markdown",
   "id": "ad9c09ff",
   "metadata": {},
   "source": [
    "## 이상치(Outlier) 다루기\n",
    "\n",
    "- https://ko.wikipedia.org/wiki/%EC%83%81%EC%9E%90_%EC%88%98%EC%97%BC_%EA%B7%B8%EB%A6%BC"
   ]
  },
  {
   "cell_type": "code",
   "execution_count": 26,
   "id": "ece62094",
   "metadata": {},
   "outputs": [
    {
     "name": "stderr",
     "output_type": "stream",
     "text": [
      "/Users/angelayoon/opt/anaconda3/lib/python3.9/site-packages/seaborn/_decorators.py:36: FutureWarning: Pass the following variable as a keyword arg: x. From version 0.12, the only valid positional argument will be `data`, and passing other arguments without an explicit keyword will result in an error or misinterpretation.\n",
      "  warnings.warn(\n"
     ]
    },
    {
     "data": {
      "text/plain": [
       "<AxesSubplot:xlabel='Insulin'>"
      ]
     },
     "execution_count": 26,
     "metadata": {},
     "output_type": "execute_result"
    },
    {
     "data": {
      "image/png": "[encoded data removed]",
      "text/plain": [
       "<Figure size 1080x144 with 1 Axes>"
      ]
     },
     "metadata": {},
     "output_type": "display_data"
    }
   ],
   "source": [
    "plt.figure(figsize=(15,2))\n",
    "sns.boxplot(df[\"Insulin\"])"
   ]
  },
  {
   "cell_type": "code",
   "execution_count": 27,
   "id": "8fb5abc3",
   "metadata": {},
   "outputs": [
    {
     "name": "stderr",
     "output_type": "stream",
     "text": [
      "/Users/angelayoon/opt/anaconda3/lib/python3.9/site-packages/seaborn/_decorators.py:36: FutureWarning: Pass the following variable as a keyword arg: x. From version 0.12, the only valid positional argument will be `data`, and passing other arguments without an explicit keyword will result in an error or misinterpretation.\n",
      "  warnings.warn(\n"
     ]
    },
    {
     "data": {
      "text/plain": [
       "<AxesSubplot:xlabel='Insulin_nan'>"
      ]
     },
     "execution_count": 27,
     "metadata": {},
     "output_type": "execute_result"
    },
    {
     "data": {
      "image/png": "[encoded data removed]",
      "text/plain": [
       "<Figure size 1080x144 with 1 Axes>"
      ]
     },
     "metadata": {},
     "output_type": "display_data"
    }
   ],
   "source": [
    "plt.figure(figsize=(15,2))\n",
    "sns.boxplot(df[\"Insulin_nan\"])"
   ]
  },
  {
   "cell_type": "code",
   "execution_count": 28,
   "id": "4c0e0033",
   "metadata": {},
   "outputs": [
    {
     "data": {
      "text/plain": [
       "count    768.000000\n",
       "mean     141.753906\n",
       "std       89.100847\n",
       "min       14.000000\n",
       "25%      102.500000\n",
       "50%      102.500000\n",
       "75%      169.500000\n",
       "max      846.000000\n",
       "Name: Insulin_nan, dtype: float64"
      ]
     },
     "execution_count": 28,
     "metadata": {},
     "output_type": "execute_result"
    }
   ],
   "source": [
    "df[\"Insulin_nan\"].describe()"
   ]
  },
  {
   "cell_type": "markdown",
   "id": "60829cc9",
   "metadata": {},
   "source": [
    "- 25%: 상자의 시작 값\n",
    "- 결측치를 전부 중앙값으로 채워줘서 25% == 50%로 나옴 (원래는 중앙값인 50%가 있어야 함)"
   ]
  },
  {
   "cell_type": "markdown",
   "id": "09133840",
   "metadata": {},
   "source": [
    "### 이상치 구하기\n",
    "\n",
    "- 사분위수 범위(IQR, Interquartile range, Q3-Q1)을 구한다.\n",
    "- 이상치(Outlier): Q3보다 1.5IQR 이상 초과하는 값과 Q1 보다 1.5IQR 이상 미달하는 값"
   ]
  },
  {
   "cell_type": "code",
   "execution_count": 29,
   "id": "6ff7b5be",
   "metadata": {},
   "outputs": [
    {
     "data": {
      "text/plain": [
       "67.0"
      ]
     },
     "execution_count": 29,
     "metadata": {},
     "output_type": "execute_result"
    }
   ],
   "source": [
    "# 3사분위 수와 1사분위 수를 구한다.\n",
    "# IQR 값을 구한다\n",
    "\n",
    "Q3 = df[\"Insulin_nan\"].quantile(0.75)\n",
    "Q1 = df[\"Insulin_nan\"].quantile(0.25)\n",
    "IQR = Q3 - Q1\n",
    "IQR"
   ]
  },
  {
   "cell_type": "code",
   "execution_count": 30,
   "id": "ef91c255",
   "metadata": {},
   "outputs": [],
   "source": [
    "outlier = Q3 + (IQR * 1.5)"
   ]
  },
  {
   "cell_type": "code",
   "execution_count": 31,
   "id": "9a25b29e",
   "metadata": {},
   "outputs": [
    {
     "data": {
      "text/plain": [
       "(51, 16)"
      ]
     },
     "execution_count": 31,
     "metadata": {},
     "output_type": "execute_result"
    }
   ],
   "source": [
    "# Outlier 갯수 = 51\n",
    "\n",
    "df[df[\"Insulin_nan\"] > outlier].shape"
   ]
  },
  {
   "cell_type": "code",
   "execution_count": 32,
   "id": "34e91d7e",
   "metadata": {},
   "outputs": [
    {
     "data": {
      "text/plain": [
       "(3, 16)"
      ]
     },
     "execution_count": 32,
     "metadata": {},
     "output_type": "execute_result"
    }
   ],
   "source": [
    "# 51개를 전부 제거하기엔 너무 많으니까, 600이상인 값 3개만 제거한다\n",
    "\n",
    "df[df[\"Insulin_nan\"] > 600].shape"
   ]
  },
  {
   "cell_type": "markdown",
   "id": "d16a41ef",
   "metadata": {},
   "source": [
    "## Scaling\n",
    "\n",
    "- ex) 주관식을 채점한다고 할 때, 채점자에 따라서 점수를 후하게 줄 수도, 박하게 줄 수도 있기 때문에 일정한 수치 범위로 scaling 해준다."
   ]
  },
  {
   "cell_type": "markdown",
   "id": "98357b28",
   "metadata": {},
   "source": [
    "- DiabetesPedigreeFuncion의 경우 숫자가 작은 편 (0.0~2.5)\n",
    "- Glucose의 경우 다른 feature들에 비해 숫자가 큰 편 (0~250)\n",
    "\n",
    "(사실은 많은 차이가 나는 건 아님)"
   ]
  },
  {
   "cell_type": "code",
   "execution_count": 33,
   "id": "939024f6",
   "metadata": {},
   "outputs": [
    {
     "data": {
      "text/plain": [
       "array([[ 0.84832379,  0.46849198],\n",
       "       [-1.12339636, -0.36506078],\n",
       "       [ 1.94372388,  0.60439732],\n",
       "       ...,\n",
       "       [ 0.00330087, -0.68519336],\n",
       "       [ 0.1597866 , -0.37110101],\n",
       "       [-0.8730192 , -0.47378505]])"
      ]
     },
     "execution_count": 33,
     "metadata": {},
     "output_type": "execute_result"
    }
   ],
   "source": [
    "from sklearn.preprocessing import StandardScaler\n",
    "\n",
    "scaler = StandardScaler()\n",
    "scaler.fit(df[[\"Glucose\", \"DiabetesPedigreeFunction\"]])\n",
    "scale = scaler.transform(df[[\"Glucose\", \"DiabetesPedigreeFunction\"]])\n",
    "scale"
   ]
  },
  {
   "cell_type": "code",
   "execution_count": 34,
   "id": "12835711",
   "metadata": {},
   "outputs": [],
   "source": [
    "# df[[\"Glucose\", \"DiabetesPedigreeFunction\"]] = scale\n",
    "# df[[\"Glucose\", \"DiabetesPedigreeFunction\"]].head()"
   ]
  },
  {
   "cell_type": "code",
   "execution_count": 35,
   "id": "35ba9063",
   "metadata": {},
   "outputs": [
    {
     "data": {
      "text/plain": [
       "array([[<AxesSubplot:title={'center':'Glucose'}>,\n",
       "        <AxesSubplot:title={'center':'DiabetesPedigreeFunction'}>]],\n",
       "      dtype=object)"
      ]
     },
     "execution_count": 35,
     "metadata": {},
     "output_type": "execute_result"
    },
    {
     "data": {
      "image/png": "[encoded data removed]",
      "text/plain": [
       "<Figure size 1080x216 with 2 Axes>"
      ]
     },
     "metadata": {},
     "output_type": "display_data"
    }
   ],
   "source": [
    "df[[\"Glucose\", \"DiabetesPedigreeFunction\"]].hist(figsize=(15, 3))"
   ]
  },
  {
   "cell_type": "markdown",
   "id": "901a92f0",
   "metadata": {},
   "source": [
    "- Glucose 와 DiabetesPedigreeFunction의 수치 범위가 비슷해짐\n",
    "- Glucose: -4 ~ 2\n",
    "- DiabetesPedigreeFucntion: -1 ~ 3"
   ]
  },
  {
   "cell_type": "markdown",
   "id": "cb7f97ad",
   "metadata": {},
   "source": [
    "# 새로운 .csv 파일에 저장하기 - new"
   ]
  },
  {
   "cell_type": "code",
   "execution_count": 36,
   "id": "e4c1adb5",
   "metadata": {},
   "outputs": [],
   "source": [
    "# csv파일로 저장하기\n",
    "# 원래의 인덱스를 Unnamed:0이라는 컬럼에 따로 저장해줌. -> 이걸 없애려면 index=False\n",
    "\n",
    "df.to_csv(\"../data/diabetes_feature.csv\", index=False)"
   ]
  },
  {
   "cell_type": "code",
   "execution_count": 37,
   "id": "8608c89f",
   "metadata": {},
   "outputs": [
    {
     "data": {
      "text/html": [
       "<div>\n",
       "<style scoped>\n",
       "    .dataframe tbody tr th:only-of-type {\n",
       "        vertical-align: middle;\n",
       "    }\n",
       "\n",
       "    .dataframe tbody tr th {\n",
       "        vertical-align: top;\n",
       "    }\n",
       "\n",
       "    .dataframe thead th {\n",
       "        text-align: right;\n",
       "    }\n",
       "</style>\n",
       "<table border=\"1\" class=\"dataframe\">\n",
       "  <thead>\n",
       "    <tr style=\"text-align: right;\">\n",
       "      <th></th>\n",
       "      <th>Pregnancies</th>\n",
       "      <th>Glucose</th>\n",
       "      <th>BloodPressure</th>\n",
       "      <th>SkinThickness</th>\n",
       "      <th>Insulin</th>\n",
       "      <th>BMI</th>\n",
       "      <th>DiabetesPedigreeFunction</th>\n",
       "      <th>Age</th>\n",
       "      <th>Outcome</th>\n",
       "      <th>Pregnancies_high</th>\n",
       "      <th>Age_low</th>\n",
       "      <th>Age_middle</th>\n",
       "      <th>Age_high</th>\n",
       "      <th>Insulin_nan</th>\n",
       "      <th>Insulin_log</th>\n",
       "      <th>low_glu_insulin</th>\n",
       "    </tr>\n",
       "  </thead>\n",
       "  <tbody>\n",
       "    <tr>\n",
       "      <th>0</th>\n",
       "      <td>6</td>\n",
       "      <td>148</td>\n",
       "      <td>72</td>\n",
       "      <td>35</td>\n",
       "      <td>0</td>\n",
       "      <td>33.6</td>\n",
       "      <td>0.627</td>\n",
       "      <td>50</td>\n",
       "      <td>1</td>\n",
       "      <td>False</td>\n",
       "      <td>False</td>\n",
       "      <td>True</td>\n",
       "      <td>False</td>\n",
       "      <td>169.5</td>\n",
       "      <td>5.138735</td>\n",
       "      <td>False</td>\n",
       "    </tr>\n",
       "    <tr>\n",
       "      <th>1</th>\n",
       "      <td>1</td>\n",
       "      <td>85</td>\n",
       "      <td>66</td>\n",
       "      <td>29</td>\n",
       "      <td>0</td>\n",
       "      <td>26.6</td>\n",
       "      <td>0.351</td>\n",
       "      <td>31</td>\n",
       "      <td>0</td>\n",
       "      <td>False</td>\n",
       "      <td>False</td>\n",
       "      <td>True</td>\n",
       "      <td>False</td>\n",
       "      <td>102.5</td>\n",
       "      <td>4.639572</td>\n",
       "      <td>True</td>\n",
       "    </tr>\n",
       "    <tr>\n",
       "      <th>2</th>\n",
       "      <td>8</td>\n",
       "      <td>183</td>\n",
       "      <td>64</td>\n",
       "      <td>0</td>\n",
       "      <td>0</td>\n",
       "      <td>23.3</td>\n",
       "      <td>0.672</td>\n",
       "      <td>32</td>\n",
       "      <td>1</td>\n",
       "      <td>True</td>\n",
       "      <td>False</td>\n",
       "      <td>True</td>\n",
       "      <td>False</td>\n",
       "      <td>169.5</td>\n",
       "      <td>5.138735</td>\n",
       "      <td>False</td>\n",
       "    </tr>\n",
       "    <tr>\n",
       "      <th>3</th>\n",
       "      <td>1</td>\n",
       "      <td>89</td>\n",
       "      <td>66</td>\n",
       "      <td>23</td>\n",
       "      <td>94</td>\n",
       "      <td>28.1</td>\n",
       "      <td>0.167</td>\n",
       "      <td>21</td>\n",
       "      <td>0</td>\n",
       "      <td>False</td>\n",
       "      <td>True</td>\n",
       "      <td>False</td>\n",
       "      <td>False</td>\n",
       "      <td>94.0</td>\n",
       "      <td>4.553877</td>\n",
       "      <td>True</td>\n",
       "    </tr>\n",
       "    <tr>\n",
       "      <th>4</th>\n",
       "      <td>0</td>\n",
       "      <td>137</td>\n",
       "      <td>40</td>\n",
       "      <td>35</td>\n",
       "      <td>168</td>\n",
       "      <td>43.1</td>\n",
       "      <td>2.288</td>\n",
       "      <td>33</td>\n",
       "      <td>1</td>\n",
       "      <td>False</td>\n",
       "      <td>False</td>\n",
       "      <td>True</td>\n",
       "      <td>False</td>\n",
       "      <td>168.0</td>\n",
       "      <td>5.129899</td>\n",
       "      <td>False</td>\n",
       "    </tr>\n",
       "  </tbody>\n",
       "</table>\n",
       "</div>"
      ],
      "text/plain": [
       "   Pregnancies  Glucose  BloodPressure  SkinThickness  Insulin   BMI  \\\n",
       "0            6      148             72             35        0  33.6   \n",
       "1            1       85             66             29        0  26.6   \n",
       "2            8      183             64              0        0  23.3   \n",
       "3            1       89             66             23       94  28.1   \n",
       "4            0      137             40             35      168  43.1   \n",
       "\n",
       "   DiabetesPedigreeFunction  Age  Outcome  Pregnancies_high  Age_low  \\\n",
       "0                     0.627   50        1             False    False   \n",
       "1                     0.351   31        0             False    False   \n",
       "2                     0.672   32        1              True    False   \n",
       "3                     0.167   21        0             False     True   \n",
       "4                     2.288   33        1             False    False   \n",
       "\n",
       "   Age_middle  Age_high  Insulin_nan  Insulin_log  low_glu_insulin  \n",
       "0        True     False        169.5     5.138735            False  \n",
       "1        True     False        102.5     4.639572             True  \n",
       "2        True     False        169.5     5.138735            False  \n",
       "3       False     False         94.0     4.553877             True  \n",
       "4        True     False        168.0     5.129899            False  "
      ]
     },
     "execution_count": 37,
     "metadata": {},
     "output_type": "execute_result"
    }
   ],
   "source": [
    "pd.read_csv(\"../data/diabetes_feature.csv\").head()"
   ]
  },
  {
   "cell_type": "markdown",
   "id": "5d87b3fb",
   "metadata": {},
   "source": [
    "# 학습을 위한 데이터셋 준비하기"
   ]
  },
  {
   "cell_type": "markdown",
   "id": "f0974392",
   "metadata": {},
   "source": [
    "## 학습, 예측 데이터셋 나누기"
   ]
  },
  {
   "cell_type": "code",
   "execution_count": 38,
   "id": "3fc43728",
   "metadata": {},
   "outputs": [
    {
     "data": {
      "text/plain": [
       "614"
      ]
     },
     "execution_count": 38,
     "metadata": {},
     "output_type": "execute_result"
    }
   ],
   "source": [
    "# 8:2의 비율로 구하기 위해 전체 데이터의 행에서 80% 위치에 해당되는 값을 구해서 split_count라는 변수에 담는다.\n",
    "# training data와 test data로 나눌 때 614번째 인덱스를 기준으로 나눈다\n",
    "\n",
    "split_count = int(df.shape[0]*0.8)\n",
    "split_count"
   ]
  },
  {
   "cell_type": "code",
   "execution_count": 39,
   "id": "8728b2ff",
   "metadata": {},
   "outputs": [
    {
     "data": {
      "text/plain": [
       "(614, 16)"
      ]
     },
     "execution_count": 39,
     "metadata": {},
     "output_type": "execute_result"
    }
   ],
   "source": [
    "# train, test로 슬라이싱을 통해 데이터를 나누고 복사본을 만든다.\n",
    "# index 0~613 = train data set\n",
    "\n",
    "train = df[:split_count].copy()\n",
    "train.shape"
   ]
  },
  {
   "cell_type": "code",
   "execution_count": 40,
   "id": "ea7b31ee",
   "metadata": {},
   "outputs": [
    {
     "data": {
      "text/plain": [
       "(610, 16)"
      ]
     },
     "execution_count": 40,
     "metadata": {},
     "output_type": "execute_result"
    }
   ],
   "source": [
    "# train 데이터에서 500 이상인 Outlier 제거\n",
    "\n",
    "train = train[train[\"Insulin_nan\"] < 600]\n",
    "train.shape"
   ]
  },
  {
   "cell_type": "code",
   "execution_count": 41,
   "id": "4009340f",
   "metadata": {},
   "outputs": [
    {
     "data": {
      "text/plain": [
       "(154, 16)"
      ]
     },
     "execution_count": 41,
     "metadata": {},
     "output_type": "execute_result"
    }
   ],
   "source": [
    "# index 614~767 = test data set\n",
    "\n",
    "test = df[split_count:].copy()\n",
    "test.shape"
   ]
  },
  {
   "cell_type": "markdown",
   "id": "3b4b7e45",
   "metadata": {},
   "source": [
    "## 학습, 예측에 사용할 컬럼 - new"
   ]
  },
  {
   "cell_type": "code",
   "execution_count": 42,
   "id": "3816c8ca",
   "metadata": {},
   "outputs": [
    {
     "data": {
      "text/plain": [
       "['Glucose',\n",
       " 'BloodPressure',\n",
       " 'SkinThickness',\n",
       " 'BMI',\n",
       " 'DiabetesPedigreeFunction',\n",
       " 'Age',\n",
       " 'Pregnancies_high',\n",
       " 'Insulin_nan',\n",
       " 'low_glu_insulin']"
      ]
     },
     "execution_count": 42,
     "metadata": {},
     "output_type": "execute_result"
    }
   ],
   "source": [
    "# feature_names라는 변수에 학습과 예측에 사용할 컬럼명을 리스트로 가져온다.\n",
    "# 가장 마지막 컬럼인 'Outcome'은 정답값으로 사용하기 위해 뺀다.\n",
    "\n",
    "feature_names = train.columns.tolist()\n",
    "feature_names.remove(\"Pregnancies\")\n",
    "feature_names.remove(\"Outcome\")\n",
    "feature_names.remove(\"Age_low\")\n",
    "feature_names.remove(\"Age_middle\")\n",
    "feature_names.remove(\"Age_high\")\n",
    "feature_names.remove(\"Insulin\")\n",
    "feature_names.remove(\"Insulin_log\")\n",
    "feature_names"
   ]
  },
  {
   "cell_type": "markdown",
   "id": "b4d5fb55",
   "metadata": {},
   "source": [
    "## 정답값이자 예측해야 될 값 - new"
   ]
  },
  {
   "cell_type": "code",
   "execution_count": 43,
   "id": "caca0dd7",
   "metadata": {},
   "outputs": [
    {
     "data": {
      "text/plain": [
       "'Outcome'"
      ]
     },
     "execution_count": 43,
     "metadata": {},
     "output_type": "execute_result"
    }
   ],
   "source": [
    "# label_name이라는 변수에 예측할 컬럼인 Outcome을 담는다. \n",
    "# 하나만 사용할 것이기 때문에 리스트가 아닌 String 형태로 가져온다\n",
    "\n",
    "label_name = \"Outcome\"\n",
    "label_name"
   ]
  },
  {
   "cell_type": "markdown",
   "id": "2ff36ac3",
   "metadata": {},
   "source": [
    "## 학습, 예측 데이터셋 만들기"
   ]
  },
  {
   "cell_type": "code",
   "execution_count": 44,
   "id": "096c5e9a",
   "metadata": {},
   "outputs": [
    {
     "name": "stdout",
     "output_type": "stream",
     "text": [
      "(610, 9)\n"
     ]
    },
    {
     "data": {
      "text/html": [
       "<div>\n",
       "<style scoped>\n",
       "    .dataframe tbody tr th:only-of-type {\n",
       "        vertical-align: middle;\n",
       "    }\n",
       "\n",
       "    .dataframe tbody tr th {\n",
       "        vertical-align: top;\n",
       "    }\n",
       "\n",
       "    .dataframe thead th {\n",
       "        text-align: right;\n",
       "    }\n",
       "</style>\n",
       "<table border=\"1\" class=\"dataframe\">\n",
       "  <thead>\n",
       "    <tr style=\"text-align: right;\">\n",
       "      <th></th>\n",
       "      <th>Glucose</th>\n",
       "      <th>BloodPressure</th>\n",
       "      <th>SkinThickness</th>\n",
       "      <th>BMI</th>\n",
       "      <th>DiabetesPedigreeFunction</th>\n",
       "      <th>Age</th>\n",
       "      <th>Pregnancies_high</th>\n",
       "      <th>Insulin_nan</th>\n",
       "      <th>low_glu_insulin</th>\n",
       "    </tr>\n",
       "  </thead>\n",
       "  <tbody>\n",
       "    <tr>\n",
       "      <th>0</th>\n",
       "      <td>148</td>\n",
       "      <td>72</td>\n",
       "      <td>35</td>\n",
       "      <td>33.6</td>\n",
       "      <td>0.627</td>\n",
       "      <td>50</td>\n",
       "      <td>False</td>\n",
       "      <td>169.5</td>\n",
       "      <td>False</td>\n",
       "    </tr>\n",
       "    <tr>\n",
       "      <th>1</th>\n",
       "      <td>85</td>\n",
       "      <td>66</td>\n",
       "      <td>29</td>\n",
       "      <td>26.6</td>\n",
       "      <td>0.351</td>\n",
       "      <td>31</td>\n",
       "      <td>False</td>\n",
       "      <td>102.5</td>\n",
       "      <td>True</td>\n",
       "    </tr>\n",
       "    <tr>\n",
       "      <th>2</th>\n",
       "      <td>183</td>\n",
       "      <td>64</td>\n",
       "      <td>0</td>\n",
       "      <td>23.3</td>\n",
       "      <td>0.672</td>\n",
       "      <td>32</td>\n",
       "      <td>True</td>\n",
       "      <td>169.5</td>\n",
       "      <td>False</td>\n",
       "    </tr>\n",
       "    <tr>\n",
       "      <th>3</th>\n",
       "      <td>89</td>\n",
       "      <td>66</td>\n",
       "      <td>23</td>\n",
       "      <td>28.1</td>\n",
       "      <td>0.167</td>\n",
       "      <td>21</td>\n",
       "      <td>False</td>\n",
       "      <td>94.0</td>\n",
       "      <td>True</td>\n",
       "    </tr>\n",
       "    <tr>\n",
       "      <th>4</th>\n",
       "      <td>137</td>\n",
       "      <td>40</td>\n",
       "      <td>35</td>\n",
       "      <td>43.1</td>\n",
       "      <td>2.288</td>\n",
       "      <td>33</td>\n",
       "      <td>False</td>\n",
       "      <td>168.0</td>\n",
       "      <td>False</td>\n",
       "    </tr>\n",
       "  </tbody>\n",
       "</table>\n",
       "</div>"
      ],
      "text/plain": [
       "   Glucose  BloodPressure  SkinThickness   BMI  DiabetesPedigreeFunction  Age  \\\n",
       "0      148             72             35  33.6                     0.627   50   \n",
       "1       85             66             29  26.6                     0.351   31   \n",
       "2      183             64              0  23.3                     0.672   32   \n",
       "3       89             66             23  28.1                     0.167   21   \n",
       "4      137             40             35  43.1                     2.288   33   \n",
       "\n",
       "   Pregnancies_high  Insulin_nan  low_glu_insulin  \n",
       "0             False        169.5            False  \n",
       "1             False        102.5             True  \n",
       "2              True        169.5            False  \n",
       "3             False         94.0             True  \n",
       "4             False        168.0            False  "
      ]
     },
     "execution_count": 44,
     "metadata": {},
     "output_type": "execute_result"
    }
   ],
   "source": [
    "# 학습세트 만들기 예) 시험의 기출문제\n",
    "# 대문자 X는 행렬 형태\n",
    "\n",
    "X_train = train[feature_names]\n",
    "print(X_train.shape)\n",
    "X_train.head()"
   ]
  },
  {
   "cell_type": "code",
   "execution_count": 45,
   "id": "5c70e90f",
   "metadata": {},
   "outputs": [
    {
     "name": "stdout",
     "output_type": "stream",
     "text": [
      "(610,)\n"
     ]
    },
    {
     "data": {
      "text/plain": [
       "0    1\n",
       "1    0\n",
       "2    1\n",
       "3    0\n",
       "4    1\n",
       "Name: Outcome, dtype: int64"
      ]
     },
     "execution_count": 45,
     "metadata": {},
     "output_type": "execute_result"
    }
   ],
   "source": [
    "# 정답값을 만들어 준다. 예) 기출문제의 정답\n",
    "# 소문자 y는 벡터 형태\n",
    "\n",
    "y_train = train[label_name]\n",
    "print(y_train.shape)\n",
    "y_train.head()"
   ]
  },
  {
   "cell_type": "code",
   "execution_count": 46,
   "id": "f703a619",
   "metadata": {},
   "outputs": [
    {
     "name": "stdout",
     "output_type": "stream",
     "text": [
      "(154, 9)\n"
     ]
    },
    {
     "data": {
      "text/html": [
       "<div>\n",
       "<style scoped>\n",
       "    .dataframe tbody tr th:only-of-type {\n",
       "        vertical-align: middle;\n",
       "    }\n",
       "\n",
       "    .dataframe tbody tr th {\n",
       "        vertical-align: top;\n",
       "    }\n",
       "\n",
       "    .dataframe thead th {\n",
       "        text-align: right;\n",
       "    }\n",
       "</style>\n",
       "<table border=\"1\" class=\"dataframe\">\n",
       "  <thead>\n",
       "    <tr style=\"text-align: right;\">\n",
       "      <th></th>\n",
       "      <th>Glucose</th>\n",
       "      <th>BloodPressure</th>\n",
       "      <th>SkinThickness</th>\n",
       "      <th>BMI</th>\n",
       "      <th>DiabetesPedigreeFunction</th>\n",
       "      <th>Age</th>\n",
       "      <th>Pregnancies_high</th>\n",
       "      <th>Insulin_nan</th>\n",
       "      <th>low_glu_insulin</th>\n",
       "    </tr>\n",
       "  </thead>\n",
       "  <tbody>\n",
       "    <tr>\n",
       "      <th>614</th>\n",
       "      <td>138</td>\n",
       "      <td>74</td>\n",
       "      <td>26</td>\n",
       "      <td>36.1</td>\n",
       "      <td>0.557</td>\n",
       "      <td>50</td>\n",
       "      <td>True</td>\n",
       "      <td>144.0</td>\n",
       "      <td>False</td>\n",
       "    </tr>\n",
       "    <tr>\n",
       "      <th>615</th>\n",
       "      <td>106</td>\n",
       "      <td>72</td>\n",
       "      <td>0</td>\n",
       "      <td>25.8</td>\n",
       "      <td>0.207</td>\n",
       "      <td>27</td>\n",
       "      <td>False</td>\n",
       "      <td>102.5</td>\n",
       "      <td>False</td>\n",
       "    </tr>\n",
       "    <tr>\n",
       "      <th>616</th>\n",
       "      <td>117</td>\n",
       "      <td>96</td>\n",
       "      <td>0</td>\n",
       "      <td>28.7</td>\n",
       "      <td>0.157</td>\n",
       "      <td>30</td>\n",
       "      <td>False</td>\n",
       "      <td>102.5</td>\n",
       "      <td>False</td>\n",
       "    </tr>\n",
       "    <tr>\n",
       "      <th>617</th>\n",
       "      <td>68</td>\n",
       "      <td>62</td>\n",
       "      <td>13</td>\n",
       "      <td>20.1</td>\n",
       "      <td>0.257</td>\n",
       "      <td>23</td>\n",
       "      <td>False</td>\n",
       "      <td>15.0</td>\n",
       "      <td>True</td>\n",
       "    </tr>\n",
       "    <tr>\n",
       "      <th>618</th>\n",
       "      <td>112</td>\n",
       "      <td>82</td>\n",
       "      <td>24</td>\n",
       "      <td>28.2</td>\n",
       "      <td>1.282</td>\n",
       "      <td>50</td>\n",
       "      <td>True</td>\n",
       "      <td>169.5</td>\n",
       "      <td>False</td>\n",
       "    </tr>\n",
       "  </tbody>\n",
       "</table>\n",
       "</div>"
      ],
      "text/plain": [
       "     Glucose  BloodPressure  SkinThickness   BMI  DiabetesPedigreeFunction  \\\n",
       "614      138             74             26  36.1                     0.557   \n",
       "615      106             72              0  25.8                     0.207   \n",
       "616      117             96              0  28.7                     0.157   \n",
       "617       68             62             13  20.1                     0.257   \n",
       "618      112             82             24  28.2                     1.282   \n",
       "\n",
       "     Age  Pregnancies_high  Insulin_nan  low_glu_insulin  \n",
       "614   50              True        144.0            False  \n",
       "615   27             False        102.5            False  \n",
       "616   30             False        102.5            False  \n",
       "617   23             False         15.0             True  \n",
       "618   50              True        169.5            False  "
      ]
     },
     "execution_count": 46,
     "metadata": {},
     "output_type": "execute_result"
    }
   ],
   "source": [
    "# 예측에 사용할 데이터세트를 만든다. 예) 실전 시험 문제\n",
    "\n",
    "X_test = test[feature_names]\n",
    "print(X_test.shape)\n",
    "X_test.head()"
   ]
  },
  {
   "cell_type": "code",
   "execution_count": 47,
   "id": "6764d2bc",
   "metadata": {},
   "outputs": [
    {
     "name": "stdout",
     "output_type": "stream",
     "text": [
      "(154,)\n"
     ]
    },
    {
     "data": {
      "text/plain": [
       "614    1\n",
       "615    0\n",
       "616    0\n",
       "617    0\n",
       "618    1\n",
       "Name: Outcome, dtype: int64"
      ]
     },
     "execution_count": 47,
     "metadata": {},
     "output_type": "execute_result"
    }
   ],
   "source": [
    "# 예측의 정답값 예) 실전 시험 문제의 정답\n",
    "\n",
    "y_test = test[label_name]\n",
    "print(y_test.shape)\n",
    "y_test.head()"
   ]
  },
  {
   "cell_type": "markdown",
   "id": "fca4e461",
   "metadata": {},
   "source": [
    "# 머신러닝 알고리즘 가져오기"
   ]
  },
  {
   "cell_type": "code",
   "execution_count": 48,
   "id": "a4ecb4f5",
   "metadata": {},
   "outputs": [
    {
     "data": {
      "text/plain": [
       "DecisionTreeClassifier()"
      ]
     },
     "execution_count": 48,
     "metadata": {},
     "output_type": "execute_result"
    }
   ],
   "source": [
    "from sklearn.tree import DecisionTreeClassifier\n",
    "\n",
    "model = DecisionTreeClassifier()\n",
    "model"
   ]
  },
  {
   "cell_type": "markdown",
   "id": "a9874c88",
   "metadata": {},
   "source": [
    "## 학습(훈련)\n",
    "\n",
    "- 시험을 볼 때 기출문제(X_train)과 정답(y_train)을 보고 공부하는 과정과 유사합니다."
   ]
  },
  {
   "cell_type": "code",
   "execution_count": 49,
   "id": "60165af0",
   "metadata": {},
   "outputs": [
    {
     "data": {
      "text/plain": [
       "DecisionTreeClassifier()"
      ]
     },
     "execution_count": 49,
     "metadata": {},
     "output_type": "execute_result"
    }
   ],
   "source": [
    "# Insulin의 결측치를 nan으로 처리해준 Insulin_nan으로 대체하면, 에러가 남\n",
    "# nan 값들을 처리해줘야 함\n",
    "\n",
    "model.fit(X_train, y_train)"
   ]
  },
  {
   "cell_type": "markdown",
   "id": "5847c2dd",
   "metadata": {},
   "source": [
    "## 예측\n",
    "- 실전 시험문제(X_test)라고 보면 됩니다. 우리가 정답을 직접 예측합니다."
   ]
  },
  {
   "cell_type": "code",
   "execution_count": 50,
   "id": "0ef24a31",
   "metadata": {},
   "outputs": [
    {
     "data": {
      "text/plain": [
       "array([1, 0, 0, 0, 1])"
      ]
     },
     "execution_count": 50,
     "metadata": {},
     "output_type": "execute_result"
    }
   ],
   "source": [
    "y_predict = model.predict(X_test)\n",
    "y_predict[:5]"
   ]
  },
  {
   "cell_type": "markdown",
   "id": "8fb31bdd",
   "metadata": {},
   "source": [
    "## 트리 알고리즘 분석하기\n",
    "\n",
    "- DecisionTree를 시각화 합니다."
   ]
  },
  {
   "cell_type": "code",
   "execution_count": 51,
   "id": "12fc98b0",
   "metadata": {},
   "outputs": [
    {
     "data": {
      "image/png": "[encoded data removed]",
      "text/plain": [
       "<Figure size 1440x1440 with 1 Axes>"
      ]
     },
     "metadata": {},
     "output_type": "display_data"
    }
   ],
   "source": [
    "from sklearn.tree import plot_tree\n",
    "from sklearn._config import set_config\n",
    "\n",
    "set_config(print_changed_only=False)\n",
    "\n",
    "plt.figure(figsize=(20,20))\n",
    "tree = plot_tree(model, feature_names=feature_names, filled=True, fontsize=10)"
   ]
  },
  {
   "cell_type": "markdown",
   "id": "25f087e8",
   "metadata": {},
   "source": [
    "- 데이터를 나누기 가장 좋은 조건이라서 가장 위에 있음"
   ]
  },
  {
   "cell_type": "code",
   "execution_count": 52,
   "id": "55bb83c2",
   "metadata": {
    "scrolled": true
   },
   "outputs": [
    {
     "data": {
      "image/svg+xml": [
       "<?xml version=\"1.0\" encoding=\"UTF-8\" standalone=\"no\"?>\n",
       "<!DOCTYPE svg PUBLIC \"-//W3C//DTD SVG 1.1//EN\"\n",
       " \"http://www.w3.org/Graphics/SVG/1.1/DTD/svg11.dtd\">\n",
       "<!-- Generated by graphviz version 9.0.0 (20230911.1827)\n",
       " -->\n",
       "<!-- Title: Tree Pages: 1 -->\n",
       "<svg width=\"3816pt\" height=\"1309pt\"\n",
       " viewBox=\"0.00 0.00 3816.00 1309.00\" xmlns=\"http://www.w3.org/2000/svg\" xmlns:xlink=\"http://www.w3.org/1999/xlink\">\n",
       "<g id=\"graph0\" class=\"graph\" transform=\"scale(1 1) rotate(0) translate(4 1305)\">\n",
       "<title>Tree</title>\n",
       "<polygon fill=\"white\" stroke=\"none\" points=\"-4,4 -4,-1305 3812,-1305 3812,4 -4,4\"/>\n",
       "<!-- 0 -->\n",
       "<g id=\"node1\" class=\"node\">\n",
       "<title>0</title>\n",
       "<polygon fill=\"#f3c4a2\" stroke=\"black\" points=\"2411.38,-1301 2268.62,-1301 2268.62,-1233 2411.38,-1233 2411.38,-1301\"/>\n",
       "<text text-anchor=\"middle\" x=\"2340\" y=\"-1283.7\" font-family=\"Helvetica,sans-Serif\" font-size=\"14.00\">Insulin_nan &lt;= 143.5</text>\n",
       "<text text-anchor=\"middle\" x=\"2340\" y=\"-1268.7\" font-family=\"Helvetica,sans-Serif\" font-size=\"14.00\">gini = 0.453</text>\n",
       "<text text-anchor=\"middle\" x=\"2340\" y=\"-1253.7\" font-family=\"Helvetica,sans-Serif\" font-size=\"14.00\">samples = 610</text>\n",
       "<text text-anchor=\"middle\" x=\"2340\" y=\"-1238.7\" font-family=\"Helvetica,sans-Serif\" font-size=\"14.00\">value = [399, 211]</text>\n",
       "</g>\n",
       "<!-- 1 -->\n",
       "<g id=\"node2\" class=\"node\">\n",
       "<title>1</title>\n",
       "<polygon fill=\"#e88d4c\" stroke=\"black\" points=\"1832.38,-1197 1689.62,-1197 1689.62,-1129 1832.38,-1129 1832.38,-1197\"/>\n",
       "<text text-anchor=\"middle\" x=\"1761\" y=\"-1179.7\" font-family=\"Helvetica,sans-Serif\" font-size=\"14.00\">Insulin_nan &lt;= 109.0</text>\n",
       "<text text-anchor=\"middle\" x=\"1761\" y=\"-1164.7\" font-family=\"Helvetica,sans-Serif\" font-size=\"14.00\">gini = 0.163</text>\n",
       "<text text-anchor=\"middle\" x=\"1761\" y=\"-1149.7\" font-family=\"Helvetica,sans-Serif\" font-size=\"14.00\">samples = 380</text>\n",
       "<text text-anchor=\"middle\" x=\"1761\" y=\"-1134.7\" font-family=\"Helvetica,sans-Serif\" font-size=\"14.00\">value = [346, 34]</text>\n",
       "</g>\n",
       "<!-- 0&#45;&gt;1 -->\n",
       "<g id=\"edge1\" class=\"edge\">\n",
       "<title>0&#45;&gt;1</title>\n",
       "<path fill=\"none\" stroke=\"black\" d=\"M2268.13,-1253.34C2160.42,-1234.36 1957.64,-1198.64 1843.85,-1178.6\"/>\n",
       "<polygon fill=\"black\" stroke=\"black\" points=\"1844.73,-1175.2 1834.28,-1176.91 1843.52,-1182.09 1844.73,-1175.2\"/>\n",
       "<text text-anchor=\"middle\" x=\"1847.13\" y=\"-1191.32\" font-family=\"Helvetica,sans-Serif\" font-size=\"14.00\">True</text>\n",
       "</g>\n",
       "<!-- 74 -->\n",
       "<g id=\"node75\" class=\"node\">\n",
       "<title>74</title>\n",
       "<polygon fill=\"#74baed\" stroke=\"black\" points=\"2777.12,-1197 2626.88,-1197 2626.88,-1129 2777.12,-1129 2777.12,-1197\"/>\n",
       "<text text-anchor=\"middle\" x=\"2702\" y=\"-1179.7\" font-family=\"Helvetica,sans-Serif\" font-size=\"14.00\">Insulin_nan &lt;= 169.75</text>\n",
       "<text text-anchor=\"middle\" x=\"2702\" y=\"-1164.7\" font-family=\"Helvetica,sans-Serif\" font-size=\"14.00\">gini = 0.355</text>\n",
       "<text text-anchor=\"middle\" x=\"2702\" y=\"-1149.7\" font-family=\"Helvetica,sans-Serif\" font-size=\"14.00\">samples = 230</text>\n",
       "<text text-anchor=\"middle\" x=\"2702\" y=\"-1134.7\" font-family=\"Helvetica,sans-Serif\" font-size=\"14.00\">value = [53, 177]</text>\n",
       "</g>\n",
       "<!-- 0&#45;&gt;74 -->\n",
       "<g id=\"edge74\" class=\"edge\">\n",
       "<title>0&#45;&gt;74</title>\n",
       "<path fill=\"none\" stroke=\"black\" d=\"M2411.52,-1245.85C2470.13,-1229.33 2553.26,-1205.91 2615.58,-1188.35\"/>\n",
       "<polygon fill=\"black\" stroke=\"black\" points=\"2616.44,-1191.74 2625.12,-1185.66 2614.54,-1185.01 2616.44,-1191.74\"/>\n",
       "<text text-anchor=\"middle\" x=\"2614.36\" y=\"-1201.26\" font-family=\"Helvetica,sans-Serif\" font-size=\"14.00\">False</text>\n",
       "</g>\n",
       "<!-- 2 -->\n",
       "<g id=\"node3\" class=\"node\">\n",
       "<title>2</title>\n",
       "<polygon fill=\"#e68844\" stroke=\"black\" points=\"1544.25,-1093 1427.75,-1093 1427.75,-1025 1544.25,-1025 1544.25,-1093\"/>\n",
       "<text text-anchor=\"middle\" x=\"1486\" y=\"-1075.7\" font-family=\"Helvetica,sans-Serif\" font-size=\"14.00\">BMI &lt;= 49.95</text>\n",
       "<text text-anchor=\"middle\" x=\"1486\" y=\"-1060.7\" font-family=\"Helvetica,sans-Serif\" font-size=\"14.00\">gini = 0.098</text>\n",
       "<text text-anchor=\"middle\" x=\"1486\" y=\"-1045.7\" font-family=\"Helvetica,sans-Serif\" font-size=\"14.00\">samples = 329</text>\n",
       "<text text-anchor=\"middle\" x=\"1486\" y=\"-1030.7\" font-family=\"Helvetica,sans-Serif\" font-size=\"14.00\">value = [312, 17]</text>\n",
       "</g>\n",
       "<!-- 1&#45;&gt;2 -->\n",
       "<g id=\"edge2\" class=\"edge\">\n",
       "<title>1&#45;&gt;2</title>\n",
       "<path fill=\"none\" stroke=\"black\" d=\"M1689.46,-1135.47C1648.12,-1120.13 1596.35,-1100.93 1555.38,-1085.73\"/>\n",
       "<polygon fill=\"black\" stroke=\"black\" points=\"1556.68,-1082.48 1546.09,-1082.29 1554.25,-1089.05 1556.68,-1082.48\"/>\n",
       "</g>\n",
       "<!-- 45 -->\n",
       "<g id=\"node46\" class=\"node\">\n",
       "<title>45</title>\n",
       "<polygon fill=\"#f2c09c\" stroke=\"black\" points=\"1823,-1093 1699,-1093 1699,-1025 1823,-1025 1823,-1093\"/>\n",
       "<text text-anchor=\"middle\" x=\"1761\" y=\"-1075.7\" font-family=\"Helvetica,sans-Serif\" font-size=\"14.00\">Glucose &lt;= 124.5</text>\n",
       "<text text-anchor=\"middle\" x=\"1761\" y=\"-1060.7\" font-family=\"Helvetica,sans-Serif\" font-size=\"14.00\">gini = 0.444</text>\n",
       "<text text-anchor=\"middle\" x=\"1761\" y=\"-1045.7\" font-family=\"Helvetica,sans-Serif\" font-size=\"14.00\">samples = 51</text>\n",
       "<text text-anchor=\"middle\" x=\"1761\" y=\"-1030.7\" font-family=\"Helvetica,sans-Serif\" font-size=\"14.00\">value = [34, 17]</text>\n",
       "</g>\n",
       "<!-- 1&#45;&gt;45 -->\n",
       "<g id=\"edge45\" class=\"edge\">\n",
       "<title>1&#45;&gt;45</title>\n",
       "<path fill=\"none\" stroke=\"black\" d=\"M1761,-1128.6C1761,-1121.03 1761,-1112.87 1761,-1104.9\"/>\n",
       "<polygon fill=\"black\" stroke=\"black\" points=\"1764.5,-1104.99 1761,-1094.99 1757.5,-1104.99 1764.5,-1104.99\"/>\n",
       "</g>\n",
       "<!-- 3 -->\n",
       "<g id=\"node4\" class=\"node\">\n",
       "<title>3</title>\n",
       "<polygon fill=\"#e68742\" stroke=\"black\" points=\"1331,-989 1207,-989 1207,-921 1331,-921 1331,-989\"/>\n",
       "<text text-anchor=\"middle\" x=\"1269\" y=\"-971.7\" font-family=\"Helvetica,sans-Serif\" font-size=\"14.00\">Glucose &lt;= 151.5</text>\n",
       "<text text-anchor=\"middle\" x=\"1269\" y=\"-956.7\" font-family=\"Helvetica,sans-Serif\" font-size=\"14.00\">gini = 0.082</text>\n",
       "<text text-anchor=\"middle\" x=\"1269\" y=\"-941.7\" font-family=\"Helvetica,sans-Serif\" font-size=\"14.00\">samples = 326</text>\n",
       "<text text-anchor=\"middle\" x=\"1269\" y=\"-926.7\" font-family=\"Helvetica,sans-Serif\" font-size=\"14.00\">value = [312, 14]</text>\n",
       "</g>\n",
       "<!-- 2&#45;&gt;3 -->\n",
       "<g id=\"edge3\" class=\"edge\">\n",
       "<title>2&#45;&gt;3</title>\n",
       "<path fill=\"none\" stroke=\"black\" d=\"M1427.28,-1030.4C1400.78,-1017.94 1369.23,-1003.11 1341.3,-989.98\"/>\n",
       "<polygon fill=\"black\" stroke=\"black\" points=\"1343.1,-986.96 1332.56,-985.87 1340.12,-993.3 1343.1,-986.96\"/>\n",
       "</g>\n",
       "<!-- 44 -->\n",
       "<g id=\"node45\" class=\"node\">\n",
       "<title>44</title>\n",
       "<polygon fill=\"#399de5\" stroke=\"black\" points=\"1533,-981.5 1439,-981.5 1439,-928.5 1533,-928.5 1533,-981.5\"/>\n",
       "<text text-anchor=\"middle\" x=\"1486\" y=\"-964.2\" font-family=\"Helvetica,sans-Serif\" font-size=\"14.00\">gini = 0.0</text>\n",
       "<text text-anchor=\"middle\" x=\"1486\" y=\"-949.2\" font-family=\"Helvetica,sans-Serif\" font-size=\"14.00\">samples = 3</text>\n",
       "<text text-anchor=\"middle\" x=\"1486\" y=\"-934.2\" font-family=\"Helvetica,sans-Serif\" font-size=\"14.00\">value = [0, 3]</text>\n",
       "</g>\n",
       "<!-- 2&#45;&gt;44 -->\n",
       "<g id=\"edge44\" class=\"edge\">\n",
       "<title>2&#45;&gt;44</title>\n",
       "<path fill=\"none\" stroke=\"black\" d=\"M1486,-1024.6C1486,-1014.47 1486,-1003.28 1486,-992.93\"/>\n",
       "<polygon fill=\"black\" stroke=\"black\" points=\"1489.5,-993.22 1486,-983.22 1482.5,-993.22 1489.5,-993.22\"/>\n",
       "</g>\n",
       "<!-- 4 -->\n",
       "<g id=\"node5\" class=\"node\">\n",
       "<title>4</title>\n",
       "<polygon fill=\"#e68540\" stroke=\"black\" points=\"1104.62,-885 969.38,-885 969.38,-817 1104.62,-817 1104.62,-885\"/>\n",
       "<text text-anchor=\"middle\" x=\"1037\" y=\"-867.7\" font-family=\"Helvetica,sans-Serif\" font-size=\"14.00\">Insulin_nan &lt;= 99.5</text>\n",
       "<text text-anchor=\"middle\" x=\"1037\" y=\"-852.7\" font-family=\"Helvetica,sans-Serif\" font-size=\"14.00\">gini = 0.062</text>\n",
       "<text text-anchor=\"middle\" x=\"1037\" y=\"-837.7\" font-family=\"Helvetica,sans-Serif\" font-size=\"14.00\">samples = 312</text>\n",
       "<text text-anchor=\"middle\" x=\"1037\" y=\"-822.7\" font-family=\"Helvetica,sans-Serif\" font-size=\"14.00\">value = [302, 10]</text>\n",
       "</g>\n",
       "<!-- 3&#45;&gt;4 -->\n",
       "<g id=\"edge4\" class=\"edge\">\n",
       "<title>3&#45;&gt;4</title>\n",
       "<path fill=\"none\" stroke=\"black\" d=\"M1206.52,-926.53C1178.43,-914.18 1144.97,-899.47 1115.23,-886.4\"/>\n",
       "<polygon fill=\"black\" stroke=\"black\" points=\"1116.83,-883.28 1106.27,-882.46 1114.02,-889.68 1116.83,-883.28\"/>\n",
       "</g>\n",
       "<!-- 37 -->\n",
       "<g id=\"node38\" class=\"node\">\n",
       "<title>37</title>\n",
       "<polygon fill=\"#efb388\" stroke=\"black\" points=\"1319.75,-885 1218.25,-885 1218.25,-817 1319.75,-817 1319.75,-885\"/>\n",
       "<text text-anchor=\"middle\" x=\"1269\" y=\"-867.7\" font-family=\"Helvetica,sans-Serif\" font-size=\"14.00\">Age &lt;= 36.0</text>\n",
       "<text text-anchor=\"middle\" x=\"1269\" y=\"-852.7\" font-family=\"Helvetica,sans-Serif\" font-size=\"14.00\">gini = 0.408</text>\n",
       "<text text-anchor=\"middle\" x=\"1269\" y=\"-837.7\" font-family=\"Helvetica,sans-Serif\" font-size=\"14.00\">samples = 14</text>\n",
       "<text text-anchor=\"middle\" x=\"1269\" y=\"-822.7\" font-family=\"Helvetica,sans-Serif\" font-size=\"14.00\">value = [10, 4]</text>\n",
       "</g>\n",
       "<!-- 3&#45;&gt;37 -->\n",
       "<g id=\"edge37\" class=\"edge\">\n",
       "<title>3&#45;&gt;37</title>\n",
       "<path fill=\"none\" stroke=\"black\" d=\"M1269,-920.6C1269,-913.03 1269,-904.87 1269,-896.9\"/>\n",
       "<polygon fill=\"black\" stroke=\"black\" points=\"1272.5,-896.99 1269,-886.99 1265.5,-896.99 1272.5,-896.99\"/>\n",
       "</g>\n",
       "<!-- 5 -->\n",
       "<g id=\"node6\" class=\"node\">\n",
       "<title>5</title>\n",
       "<polygon fill=\"#e78d4b\" stroke=\"black\" points=\"964.62,-781 829.38,-781 829.38,-713 964.62,-713 964.62,-781\"/>\n",
       "<text text-anchor=\"middle\" x=\"897\" y=\"-763.7\" font-family=\"Helvetica,sans-Serif\" font-size=\"14.00\">Insulin_nan &lt;= 95.5</text>\n",
       "<text text-anchor=\"middle\" x=\"897\" y=\"-748.7\" font-family=\"Helvetica,sans-Serif\" font-size=\"14.00\">gini = 0.154</text>\n",
       "<text text-anchor=\"middle\" x=\"897\" y=\"-733.7\" font-family=\"Helvetica,sans-Serif\" font-size=\"14.00\">samples = 119</text>\n",
       "<text text-anchor=\"middle\" x=\"897\" y=\"-718.7\" font-family=\"Helvetica,sans-Serif\" font-size=\"14.00\">value = [109, 10]</text>\n",
       "</g>\n",
       "<!-- 4&#45;&gt;5 -->\n",
       "<g id=\"edge5\" class=\"edge\">\n",
       "<title>4&#45;&gt;5</title>\n",
       "<path fill=\"none\" stroke=\"black\" d=\"M991.16,-816.6C978.71,-807.53 965.1,-797.61 952.19,-788.21\"/>\n",
       "<polygon fill=\"black\" stroke=\"black\" points=\"954.31,-785.42 944.17,-782.36 950.19,-791.08 954.31,-785.42\"/>\n",
       "</g>\n",
       "<!-- 36 -->\n",
       "<g id=\"node37\" class=\"node\">\n",
       "<title>36</title>\n",
       "<polygon fill=\"#e58139\" stroke=\"black\" points=\"1091.5,-773.5 982.5,-773.5 982.5,-720.5 1091.5,-720.5 1091.5,-773.5\"/>\n",
       "<text text-anchor=\"middle\" x=\"1037\" y=\"-756.2\" font-family=\"Helvetica,sans-Serif\" font-size=\"14.00\">gini = 0.0</text>\n",
       "<text text-anchor=\"middle\" x=\"1037\" y=\"-741.2\" font-family=\"Helvetica,sans-Serif\" font-size=\"14.00\">samples = 193</text>\n",
       "<text text-anchor=\"middle\" x=\"1037\" y=\"-726.2\" font-family=\"Helvetica,sans-Serif\" font-size=\"14.00\">value = [193, 0]</text>\n",
       "</g>\n",
       "<!-- 4&#45;&gt;36 -->\n",
       "<g id=\"edge36\" class=\"edge\">\n",
       "<title>4&#45;&gt;36</title>\n",
       "<path fill=\"none\" stroke=\"black\" d=\"M1037,-816.6C1037,-806.47 1037,-795.28 1037,-784.93\"/>\n",
       "<polygon fill=\"black\" stroke=\"black\" points=\"1040.5,-785.22 1037,-775.22 1033.5,-785.22 1040.5,-785.22\"/>\n",
       "</g>\n",
       "<!-- 6 -->\n",
       "<g id=\"node7\" class=\"node\">\n",
       "<title>6</title>\n",
       "<polygon fill=\"#e78a48\" stroke=\"black\" points=\"865.38,-677 710.62,-677 710.62,-609 865.38,-609 865.38,-677\"/>\n",
       "<text text-anchor=\"middle\" x=\"788\" y=\"-659.7\" font-family=\"Helvetica,sans-Serif\" font-size=\"14.00\">BloodPressure &lt;= 83.0</text>\n",
       "<text text-anchor=\"middle\" x=\"788\" y=\"-644.7\" font-family=\"Helvetica,sans-Serif\" font-size=\"14.00\">gini = 0.127</text>\n",
       "<text text-anchor=\"middle\" x=\"788\" y=\"-629.7\" font-family=\"Helvetica,sans-Serif\" font-size=\"14.00\">samples = 117</text>\n",
       "<text text-anchor=\"middle\" x=\"788\" y=\"-614.7\" font-family=\"Helvetica,sans-Serif\" font-size=\"14.00\">value = [109, 8]</text>\n",
       "</g>\n",
       "<!-- 5&#45;&gt;6 -->\n",
       "<g id=\"edge6\" class=\"edge\">\n",
       "<title>5&#45;&gt;6</title>\n",
       "<path fill=\"none\" stroke=\"black\" d=\"M861.31,-712.6C851.99,-703.88 841.84,-694.38 832.14,-685.31\"/>\n",
       "<polygon fill=\"black\" stroke=\"black\" points=\"834.57,-682.78 824.88,-678.51 829.79,-687.9 834.57,-682.78\"/>\n",
       "</g>\n",
       "<!-- 35 -->\n",
       "<g id=\"node36\" class=\"node\">\n",
       "<title>35</title>\n",
       "<polygon fill=\"#399de5\" stroke=\"black\" points=\"977,-669.5 883,-669.5 883,-616.5 977,-616.5 977,-669.5\"/>\n",
       "<text text-anchor=\"middle\" x=\"930\" y=\"-652.2\" font-family=\"Helvetica,sans-Serif\" font-size=\"14.00\">gini = 0.0</text>\n",
       "<text text-anchor=\"middle\" x=\"930\" y=\"-637.2\" font-family=\"Helvetica,sans-Serif\" font-size=\"14.00\">samples = 2</text>\n",
       "<text text-anchor=\"middle\" x=\"930\" y=\"-622.2\" font-family=\"Helvetica,sans-Serif\" font-size=\"14.00\">value = [0, 2]</text>\n",
       "</g>\n",
       "<!-- 5&#45;&gt;35 -->\n",
       "<g id=\"edge35\" class=\"edge\">\n",
       "<title>5&#45;&gt;35</title>\n",
       "<path fill=\"none\" stroke=\"black\" d=\"M907.81,-712.6C911.12,-702.36 914.78,-691.04 918.16,-680.6\"/>\n",
       "<polygon fill=\"black\" stroke=\"black\" points=\"921.47,-681.74 921.22,-671.15 914.81,-679.58 921.47,-681.74\"/>\n",
       "</g>\n",
       "<!-- 7 -->\n",
       "<g id=\"node8\" class=\"node\">\n",
       "<title>7</title>\n",
       "<polygon fill=\"#e68743\" stroke=\"black\" points=\"771.38,-573 538.62,-573 538.62,-505 771.38,-505 771.38,-573\"/>\n",
       "<text text-anchor=\"middle\" x=\"655\" y=\"-555.7\" font-family=\"Helvetica,sans-Serif\" font-size=\"14.00\">DiabetesPedigreeFunction &lt;= 0.677</text>\n",
       "<text text-anchor=\"middle\" x=\"655\" y=\"-540.7\" font-family=\"Helvetica,sans-Serif\" font-size=\"14.00\">gini = 0.088</text>\n",
       "<text text-anchor=\"middle\" x=\"655\" y=\"-525.7\" font-family=\"Helvetica,sans-Serif\" font-size=\"14.00\">samples = 108</text>\n",
       "<text text-anchor=\"middle\" x=\"655\" y=\"-510.7\" font-family=\"Helvetica,sans-Serif\" font-size=\"14.00\">value = [103, 5]</text>\n",
       "</g>\n",
       "<!-- 6&#45;&gt;7 -->\n",
       "<g id=\"edge7\" class=\"edge\">\n",
       "<title>6&#45;&gt;7</title>\n",
       "<path fill=\"none\" stroke=\"black\" d=\"M744.45,-608.6C732.62,-599.53 719.69,-589.61 707.43,-580.21\"/>\n",
       "<polygon fill=\"black\" stroke=\"black\" points=\"709.91,-577.7 699.85,-574.39 705.65,-583.26 709.91,-577.7\"/>\n",
       "</g>\n",
       "<!-- 30 -->\n",
       "<g id=\"node31\" class=\"node\">\n",
       "<title>30</title>\n",
       "<polygon fill=\"#f2c09c\" stroke=\"black\" points=\"970.62,-573 817.38,-573 817.38,-505 970.62,-505 970.62,-573\"/>\n",
       "<text text-anchor=\"middle\" x=\"894\" y=\"-555.7\" font-family=\"Helvetica,sans-Serif\" font-size=\"14.00\">SkinThickness &lt;= 40.0</text>\n",
       "<text text-anchor=\"middle\" x=\"894\" y=\"-540.7\" font-family=\"Helvetica,sans-Serif\" font-size=\"14.00\">gini = 0.444</text>\n",
       "<text text-anchor=\"middle\" x=\"894\" y=\"-525.7\" font-family=\"Helvetica,sans-Serif\" font-size=\"14.00\">samples = 9</text>\n",
       "<text text-anchor=\"middle\" x=\"894\" y=\"-510.7\" font-family=\"Helvetica,sans-Serif\" font-size=\"14.00\">value = [6, 3]</text>\n",
       "</g>\n",
       "<!-- 6&#45;&gt;30 -->\n",
       "<g id=\"edge30\" class=\"edge\">\n",
       "<title>6&#45;&gt;30</title>\n",
       "<path fill=\"none\" stroke=\"black\" d=\"M822.71,-608.6C831.77,-599.88 841.64,-590.38 851.07,-581.31\"/>\n",
       "<polygon fill=\"black\" stroke=\"black\" points=\"853.34,-583.98 858.12,-574.52 848.49,-578.93 853.34,-583.98\"/>\n",
       "</g>\n",
       "<!-- 8 -->\n",
       "<g id=\"node9\" class=\"node\">\n",
       "<title>8</title>\n",
       "<polygon fill=\"#e6843e\" stroke=\"black\" points=\"523.62,-469 370.38,-469 370.38,-401 523.62,-401 523.62,-469\"/>\n",
       "<text text-anchor=\"middle\" x=\"447\" y=\"-451.7\" font-family=\"Helvetica,sans-Serif\" font-size=\"14.00\">SkinThickness &lt;= 31.5</text>\n",
       "<text text-anchor=\"middle\" x=\"447\" y=\"-436.7\" font-family=\"Helvetica,sans-Serif\" font-size=\"14.00\">gini = 0.044</text>\n",
       "<text text-anchor=\"middle\" x=\"447\" y=\"-421.7\" font-family=\"Helvetica,sans-Serif\" font-size=\"14.00\">samples = 89</text>\n",
       "<text text-anchor=\"middle\" x=\"447\" y=\"-406.7\" font-family=\"Helvetica,sans-Serif\" font-size=\"14.00\">value = [87, 2]</text>\n",
       "</g>\n",
       "<!-- 7&#45;&gt;8 -->\n",
       "<g id=\"edge8\" class=\"edge\">\n",
       "<title>7&#45;&gt;8</title>\n",
       "<path fill=\"none\" stroke=\"black\" d=\"M586.89,-504.6C567.23,-494.96 545.62,-484.36 525.38,-474.44\"/>\n",
       "<polygon fill=\"black\" stroke=\"black\" points=\"527.14,-471.4 516.62,-470.14 524.06,-477.69 527.14,-471.4\"/>\n",
       "</g>\n",
       "<!-- 19 -->\n",
       "<g id=\"node20\" class=\"node\">\n",
       "<title>19</title>\n",
       "<polygon fill=\"#ea995e\" stroke=\"black\" points=\"731.62,-469 578.38,-469 578.38,-401 731.62,-401 731.62,-469\"/>\n",
       "<text text-anchor=\"middle\" x=\"655\" y=\"-451.7\" font-family=\"Helvetica,sans-Serif\" font-size=\"14.00\">SkinThickness &lt;= 13.5</text>\n",
       "<text text-anchor=\"middle\" x=\"655\" y=\"-436.7\" font-family=\"Helvetica,sans-Serif\" font-size=\"14.00\">gini = 0.266</text>\n",
       "<text text-anchor=\"middle\" x=\"655\" y=\"-421.7\" font-family=\"Helvetica,sans-Serif\" font-size=\"14.00\">samples = 19</text>\n",
       "<text text-anchor=\"middle\" x=\"655\" y=\"-406.7\" font-family=\"Helvetica,sans-Serif\" font-size=\"14.00\">value = [16, 3]</text>\n",
       "</g>\n",
       "<!-- 7&#45;&gt;19 -->\n",
       "<g id=\"edge19\" class=\"edge\">\n",
       "<title>7&#45;&gt;19</title>\n",
       "<path fill=\"none\" stroke=\"black\" d=\"M655,-504.6C655,-497.03 655,-488.87 655,-480.9\"/>\n",
       "<polygon fill=\"black\" stroke=\"black\" points=\"658.5,-480.99 655,-470.99 651.5,-480.99 658.5,-480.99\"/>\n",
       "</g>\n",
       "<!-- 9 -->\n",
       "<g id=\"node10\" class=\"node\">\n",
       "<title>9</title>\n",
       "<polygon fill=\"#e58139\" stroke=\"black\" points=\"312.75,-357.5 211.25,-357.5 211.25,-304.5 312.75,-304.5 312.75,-357.5\"/>\n",
       "<text text-anchor=\"middle\" x=\"262\" y=\"-340.2\" font-family=\"Helvetica,sans-Serif\" font-size=\"14.00\">gini = 0.0</text>\n",
       "<text text-anchor=\"middle\" x=\"262\" y=\"-325.2\" font-family=\"Helvetica,sans-Serif\" font-size=\"14.00\">samples = 65</text>\n",
       "<text text-anchor=\"middle\" x=\"262\" y=\"-310.2\" font-family=\"Helvetica,sans-Serif\" font-size=\"14.00\">value = [65, 0]</text>\n",
       "</g>\n",
       "<!-- 8&#45;&gt;9 -->\n",
       "<g id=\"edge9\" class=\"edge\">\n",
       "<title>8&#45;&gt;9</title>\n",
       "<path fill=\"none\" stroke=\"black\" d=\"M386.42,-400.6C364.68,-388.61 340.26,-375.15 318.84,-363.34\"/>\n",
       "<polygon fill=\"black\" stroke=\"black\" points=\"320.69,-360.36 310.24,-358.6 317.31,-366.49 320.69,-360.36\"/>\n",
       "</g>\n",
       "<!-- 10 -->\n",
       "<g id=\"node11\" class=\"node\">\n",
       "<title>10</title>\n",
       "<polygon fill=\"#e78c4b\" stroke=\"black\" points=\"563.38,-365 330.62,-365 330.62,-297 563.38,-297 563.38,-365\"/>\n",
       "<text text-anchor=\"middle\" x=\"447\" y=\"-347.7\" font-family=\"Helvetica,sans-Serif\" font-size=\"14.00\">DiabetesPedigreeFunction &lt;= 0.509</text>\n",
       "<text text-anchor=\"middle\" x=\"447\" y=\"-332.7\" font-family=\"Helvetica,sans-Serif\" font-size=\"14.00\">gini = 0.153</text>\n",
       "<text text-anchor=\"middle\" x=\"447\" y=\"-317.7\" font-family=\"Helvetica,sans-Serif\" font-size=\"14.00\">samples = 24</text>\n",
       "<text text-anchor=\"middle\" x=\"447\" y=\"-302.7\" font-family=\"Helvetica,sans-Serif\" font-size=\"14.00\">value = [22, 2]</text>\n",
       "</g>\n",
       "<!-- 8&#45;&gt;10 -->\n",
       "<g id=\"edge10\" class=\"edge\">\n",
       "<title>8&#45;&gt;10</title>\n",
       "<path fill=\"none\" stroke=\"black\" d=\"M447,-400.6C447,-393.03 447,-384.87 447,-376.9\"/>\n",
       "<polygon fill=\"black\" stroke=\"black\" points=\"450.5,-376.99 447,-366.99 443.5,-376.99 450.5,-376.99\"/>\n",
       "</g>\n",
       "<!-- 11 -->\n",
       "<g id=\"node12\" class=\"node\">\n",
       "<title>11</title>\n",
       "<polygon fill=\"#e68742\" stroke=\"black\" points=\"314.38,-261 159.62,-261 159.62,-193 314.38,-193 314.38,-261\"/>\n",
       "<text text-anchor=\"middle\" x=\"237\" y=\"-243.7\" font-family=\"Helvetica,sans-Serif\" font-size=\"14.00\">BloodPressure &lt;= 54.0</text>\n",
       "<text text-anchor=\"middle\" x=\"237\" y=\"-228.7\" font-family=\"Helvetica,sans-Serif\" font-size=\"14.00\">gini = 0.087</text>\n",
       "<text text-anchor=\"middle\" x=\"237\" y=\"-213.7\" font-family=\"Helvetica,sans-Serif\" font-size=\"14.00\">samples = 22</text>\n",
       "<text text-anchor=\"middle\" x=\"237\" y=\"-198.7\" font-family=\"Helvetica,sans-Serif\" font-size=\"14.00\">value = [21, 1]</text>\n",
       "</g>\n",
       "<!-- 10&#45;&gt;11 -->\n",
       "<g id=\"edge11\" class=\"edge\">\n",
       "<title>10&#45;&gt;11</title>\n",
       "<path fill=\"none\" stroke=\"black\" d=\"M378.24,-296.6C358.39,-286.96 336.56,-276.36 316.14,-266.44\"/>\n",
       "<polygon fill=\"black\" stroke=\"black\" points=\"317.8,-263.36 307.28,-262.13 314.74,-269.65 317.8,-263.36\"/>\n",
       "</g>\n",
       "<!-- 16 -->\n",
       "<g id=\"node17\" class=\"node\">\n",
       "<title>16</title>\n",
       "<polygon fill=\"#ffffff\" stroke=\"black\" points=\"565.38,-261 332.62,-261 332.62,-193 565.38,-193 565.38,-261\"/>\n",
       "<text text-anchor=\"middle\" x=\"449\" y=\"-243.7\" font-family=\"Helvetica,sans-Serif\" font-size=\"14.00\">DiabetesPedigreeFunction &lt;= 0.593</text>\n",
       "<text text-anchor=\"middle\" x=\"449\" y=\"-228.7\" font-family=\"Helvetica,sans-Serif\" font-size=\"14.00\">gini = 0.5</text>\n",
       "<text text-anchor=\"middle\" x=\"449\" y=\"-213.7\" font-family=\"Helvetica,sans-Serif\" font-size=\"14.00\">samples = 2</text>\n",
       "<text text-anchor=\"middle\" x=\"449\" y=\"-198.7\" font-family=\"Helvetica,sans-Serif\" font-size=\"14.00\">value = [1, 1]</text>\n",
       "</g>\n",
       "<!-- 10&#45;&gt;16 -->\n",
       "<g id=\"edge16\" class=\"edge\">\n",
       "<title>10&#45;&gt;16</title>\n",
       "<path fill=\"none\" stroke=\"black\" d=\"M447.65,-296.6C447.8,-289.03 447.96,-280.87 448.12,-272.9\"/>\n",
       "<polygon fill=\"black\" stroke=\"black\" points=\"451.62,-273.05 448.31,-262.99 444.62,-272.92 451.62,-273.05\"/>\n",
       "</g>\n",
       "<!-- 12 -->\n",
       "<g id=\"node13\" class=\"node\">\n",
       "<title>12</title>\n",
       "<polygon fill=\"#f2c09c\" stroke=\"black\" points=\"170.62,-157 35.38,-157 35.38,-89 170.62,-89 170.62,-157\"/>\n",
       "<text text-anchor=\"middle\" x=\"103\" y=\"-139.7\" font-family=\"Helvetica,sans-Serif\" font-size=\"14.00\">Insulin_nan &lt;= 85.5</text>\n",
       "<text text-anchor=\"middle\" x=\"103\" y=\"-124.7\" font-family=\"Helvetica,sans-Serif\" font-size=\"14.00\">gini = 0.444</text>\n",
       "<text text-anchor=\"middle\" x=\"103\" y=\"-109.7\" font-family=\"Helvetica,sans-Serif\" font-size=\"14.00\">samples = 3</text>\n",
       "<text text-anchor=\"middle\" x=\"103\" y=\"-94.7\" font-family=\"Helvetica,sans-Serif\" font-size=\"14.00\">value = [2, 1]</text>\n",
       "</g>\n",
       "<!-- 11&#45;&gt;12 -->\n",
       "<g id=\"edge12\" class=\"edge\">\n",
       "<title>11&#45;&gt;12</title>\n",
       "<path fill=\"none\" stroke=\"black\" d=\"M193.12,-192.6C181.21,-183.53 168.18,-173.61 155.83,-164.21\"/>\n",
       "<polygon fill=\"black\" stroke=\"black\" points=\"158.26,-161.66 148.18,-158.39 154.02,-167.23 158.26,-161.66\"/>\n",
       "</g>\n",
       "<!-- 15 -->\n",
       "<g id=\"node16\" class=\"node\">\n",
       "<title>15</title>\n",
       "<polygon fill=\"#e58139\" stroke=\"black\" points=\"289.75,-149.5 188.25,-149.5 188.25,-96.5 289.75,-96.5 289.75,-149.5\"/>\n",
       "<text text-anchor=\"middle\" x=\"239\" y=\"-132.2\" font-family=\"Helvetica,sans-Serif\" font-size=\"14.00\">gini = 0.0</text>\n",
       "<text text-anchor=\"middle\" x=\"239\" y=\"-117.2\" font-family=\"Helvetica,sans-Serif\" font-size=\"14.00\">samples = 19</text>\n",
       "<text text-anchor=\"middle\" x=\"239\" y=\"-102.2\" font-family=\"Helvetica,sans-Serif\" font-size=\"14.00\">value = [19, 0]</text>\n",
       "</g>\n",
       "<!-- 11&#45;&gt;15 -->\n",
       "<g id=\"edge15\" class=\"edge\">\n",
       "<title>11&#45;&gt;15</title>\n",
       "<path fill=\"none\" stroke=\"black\" d=\"M237.65,-192.6C237.85,-182.47 238.07,-171.28 238.28,-160.93\"/>\n",
       "<polygon fill=\"black\" stroke=\"black\" points=\"241.77,-161.29 238.47,-151.22 234.77,-161.15 241.77,-161.29\"/>\n",
       "</g>\n",
       "<!-- 13 -->\n",
       "<g id=\"node14\" class=\"node\">\n",
       "<title>13</title>\n",
       "<polygon fill=\"#e58139\" stroke=\"black\" points=\"94,-53 0,-53 0,0 94,0 94,-53\"/>\n",
       "<text text-anchor=\"middle\" x=\"47\" y=\"-35.7\" font-family=\"Helvetica,sans-Serif\" font-size=\"14.00\">gini = 0.0</text>\n",
       "<text text-anchor=\"middle\" x=\"47\" y=\"-20.7\" font-family=\"Helvetica,sans-Serif\" font-size=\"14.00\">samples = 2</text>\n",
       "<text text-anchor=\"middle\" x=\"47\" y=\"-5.7\" font-family=\"Helvetica,sans-Serif\" font-size=\"14.00\">value = [2, 0]</text>\n",
       "</g>\n",
       "<!-- 12&#45;&gt;13 -->\n",
       "<g id=\"edge13\" class=\"edge\">\n",
       "<title>12&#45;&gt;13</title>\n",
       "<path fill=\"none\" stroke=\"black\" d=\"M83.26,-88.68C78.38,-80.45 73.13,-71.59 68.18,-63.25\"/>\n",
       "<polygon fill=\"black\" stroke=\"black\" points=\"71.23,-61.51 63.12,-54.7 65.2,-65.08 71.23,-61.51\"/>\n",
       "</g>\n",
       "<!-- 14 -->\n",
       "<g id=\"node15\" class=\"node\">\n",
       "<title>14</title>\n",
       "<polygon fill=\"#399de5\" stroke=\"black\" points=\"206,-53 112,-53 112,0 206,0 206,-53\"/>\n",
       "<text text-anchor=\"middle\" x=\"159\" y=\"-35.7\" font-family=\"Helvetica,sans-Serif\" font-size=\"14.00\">gini = 0.0</text>\n",
       "<text text-anchor=\"middle\" x=\"159\" y=\"-20.7\" font-family=\"Helvetica,sans-Serif\" font-size=\"14.00\">samples = 1</text>\n",
       "<text text-anchor=\"middle\" x=\"159\" y=\"-5.7\" font-family=\"Helvetica,sans-Serif\" font-size=\"14.00\">value = [0, 1]</text>\n",
       "</g>\n",
       "<!-- 12&#45;&gt;14 -->\n",
       "<g id=\"edge14\" class=\"edge\">\n",
       "<title>12&#45;&gt;14</title>\n",
       "<path fill=\"none\" stroke=\"black\" d=\"M122.74,-88.68C127.62,-80.45 132.87,-71.59 137.82,-63.25\"/>\n",
       "<polygon fill=\"black\" stroke=\"black\" points=\"140.8,-65.08 142.88,-54.7 134.77,-61.51 140.8,-65.08\"/>\n",
       "</g>\n",
       "<!-- 17 -->\n",
       "<g id=\"node18\" class=\"node\">\n",
       "<title>17</title>\n",
       "<polygon fill=\"#399de5\" stroke=\"black\" points=\"422,-149.5 328,-149.5 328,-96.5 422,-96.5 422,-149.5\"/>\n",
       "<text text-anchor=\"middle\" x=\"375\" y=\"-132.2\" font-family=\"Helvetica,sans-Serif\" font-size=\"14.00\">gini = 0.0</text>\n",
       "<text text-anchor=\"middle\" x=\"375\" y=\"-117.2\" font-family=\"Helvetica,sans-Serif\" font-size=\"14.00\">samples = 1</text>\n",
       "<text text-anchor=\"middle\" x=\"375\" y=\"-102.2\" font-family=\"Helvetica,sans-Serif\" font-size=\"14.00\">value = [0, 1]</text>\n",
       "</g>\n",
       "<!-- 16&#45;&gt;17 -->\n",
       "<g id=\"edge17\" class=\"edge\">\n",
       "<title>16&#45;&gt;17</title>\n",
       "<path fill=\"none\" stroke=\"black\" d=\"M424.77,-192.6C416.95,-181.82 408.25,-169.83 400.35,-158.94\"/>\n",
       "<polygon fill=\"black\" stroke=\"black\" points=\"403.24,-156.97 394.54,-150.93 397.58,-161.08 403.24,-156.97\"/>\n",
       "</g>\n",
       "<!-- 18 -->\n",
       "<g id=\"node19\" class=\"node\">\n",
       "<title>18</title>\n",
       "<polygon fill=\"#e58139\" stroke=\"black\" points=\"534,-149.5 440,-149.5 440,-96.5 534,-96.5 534,-149.5\"/>\n",
       "<text text-anchor=\"middle\" x=\"487\" y=\"-132.2\" font-family=\"Helvetica,sans-Serif\" font-size=\"14.00\">gini = 0.0</text>\n",
       "<text text-anchor=\"middle\" x=\"487\" y=\"-117.2\" font-family=\"Helvetica,sans-Serif\" font-size=\"14.00\">samples = 1</text>\n",
       "<text text-anchor=\"middle\" x=\"487\" y=\"-102.2\" font-family=\"Helvetica,sans-Serif\" font-size=\"14.00\">value = [1, 0]</text>\n",
       "</g>\n",
       "<!-- 16&#45;&gt;18 -->\n",
       "<g id=\"edge18\" class=\"edge\">\n",
       "<title>16&#45;&gt;18</title>\n",
       "<path fill=\"none\" stroke=\"black\" d=\"M461.44,-192.6C465.3,-182.25 469.56,-170.8 473.49,-160.27\"/>\n",
       "<polygon fill=\"black\" stroke=\"black\" points=\"476.68,-161.72 476.89,-151.12 470.12,-159.27 476.68,-161.72\"/>\n",
       "</g>\n",
       "<!-- 20 -->\n",
       "<g id=\"node21\" class=\"node\">\n",
       "<title>20</title>\n",
       "<polygon fill=\"#399de5\" stroke=\"black\" points=\"675,-357.5 581,-357.5 581,-304.5 675,-304.5 675,-357.5\"/>\n",
       "<text text-anchor=\"middle\" x=\"628\" y=\"-340.2\" font-family=\"Helvetica,sans-Serif\" font-size=\"14.00\">gini = 0.0</text>\n",
       "<text text-anchor=\"middle\" x=\"628\" y=\"-325.2\" font-family=\"Helvetica,sans-Serif\" font-size=\"14.00\">samples = 1</text>\n",
       "<text text-anchor=\"middle\" x=\"628\" y=\"-310.2\" font-family=\"Helvetica,sans-Serif\" font-size=\"14.00\">value = [0, 1]</text>\n",
       "</g>\n",
       "<!-- 19&#45;&gt;20 -->\n",
       "<g id=\"edge20\" class=\"edge\">\n",
       "<title>19&#45;&gt;20</title>\n",
       "<path fill=\"none\" stroke=\"black\" d=\"M646.16,-400.6C643.45,-390.36 640.45,-379.04 637.69,-368.6\"/>\n",
       "<polygon fill=\"black\" stroke=\"black\" points=\"641.13,-367.94 635.19,-359.17 634.37,-369.73 641.13,-367.94\"/>\n",
       "</g>\n",
       "<!-- 21 -->\n",
       "<g id=\"node22\" class=\"node\">\n",
       "<title>21</title>\n",
       "<polygon fill=\"#e89152\" stroke=\"black\" points=\"828.62,-365 693.38,-365 693.38,-297 828.62,-297 828.62,-365\"/>\n",
       "<text text-anchor=\"middle\" x=\"761\" y=\"-347.7\" font-family=\"Helvetica,sans-Serif\" font-size=\"14.00\">Insulin_nan &lt;= 89.5</text>\n",
       "<text text-anchor=\"middle\" x=\"761\" y=\"-332.7\" font-family=\"Helvetica,sans-Serif\" font-size=\"14.00\">gini = 0.198</text>\n",
       "<text text-anchor=\"middle\" x=\"761\" y=\"-317.7\" font-family=\"Helvetica,sans-Serif\" font-size=\"14.00\">samples = 18</text>\n",
       "<text text-anchor=\"middle\" x=\"761\" y=\"-302.7\" font-family=\"Helvetica,sans-Serif\" font-size=\"14.00\">value = [16, 2]</text>\n",
       "</g>\n",
       "<!-- 19&#45;&gt;21 -->\n",
       "<g id=\"edge21\" class=\"edge\">\n",
       "<title>19&#45;&gt;21</title>\n",
       "<path fill=\"none\" stroke=\"black\" d=\"M689.71,-400.6C698.77,-391.88 708.64,-382.38 718.07,-373.31\"/>\n",
       "<polygon fill=\"black\" stroke=\"black\" points=\"720.34,-375.98 725.12,-366.52 715.49,-370.93 720.34,-375.98\"/>\n",
       "</g>\n",
       "<!-- 22 -->\n",
       "<g id=\"node23\" class=\"node\">\n",
       "<title>22</title>\n",
       "<polygon fill=\"#e78946\" stroke=\"black\" points=\"807.75,-261 706.25,-261 706.25,-193 807.75,-193 807.75,-261\"/>\n",
       "<text text-anchor=\"middle\" x=\"757\" y=\"-243.7\" font-family=\"Helvetica,sans-Serif\" font-size=\"14.00\">BMI &lt;= 35.95</text>\n",
       "<text text-anchor=\"middle\" x=\"757\" y=\"-228.7\" font-family=\"Helvetica,sans-Serif\" font-size=\"14.00\">gini = 0.117</text>\n",
       "<text text-anchor=\"middle\" x=\"757\" y=\"-213.7\" font-family=\"Helvetica,sans-Serif\" font-size=\"14.00\">samples = 16</text>\n",
       "<text text-anchor=\"middle\" x=\"757\" y=\"-198.7\" font-family=\"Helvetica,sans-Serif\" font-size=\"14.00\">value = [15, 1]</text>\n",
       "</g>\n",
       "<!-- 21&#45;&gt;22 -->\n",
       "<g id=\"edge22\" class=\"edge\">\n",
       "<title>21&#45;&gt;22</title>\n",
       "<path fill=\"none\" stroke=\"black\" d=\"M759.69,-296.6C759.39,-289.03 759.07,-280.87 758.76,-272.9\"/>\n",
       "<polygon fill=\"black\" stroke=\"black\" points=\"762.26,-272.84 758.37,-262.99 755.27,-273.12 762.26,-272.84\"/>\n",
       "</g>\n",
       "<!-- 27 -->\n",
       "<g id=\"node28\" class=\"node\">\n",
       "<title>27</title>\n",
       "<polygon fill=\"#ffffff\" stroke=\"black\" points=\"980.38,-261 825.62,-261 825.62,-193 980.38,-193 980.38,-261\"/>\n",
       "<text text-anchor=\"middle\" x=\"903\" y=\"-243.7\" font-family=\"Helvetica,sans-Serif\" font-size=\"14.00\">BloodPressure &lt;= 65.0</text>\n",
       "<text text-anchor=\"middle\" x=\"903\" y=\"-228.7\" font-family=\"Helvetica,sans-Serif\" font-size=\"14.00\">gini = 0.5</text>\n",
       "<text text-anchor=\"middle\" x=\"903\" y=\"-213.7\" font-family=\"Helvetica,sans-Serif\" font-size=\"14.00\">samples = 2</text>\n",
       "<text text-anchor=\"middle\" x=\"903\" y=\"-198.7\" font-family=\"Helvetica,sans-Serif\" font-size=\"14.00\">value = [1, 1]</text>\n",
       "</g>\n",
       "<!-- 21&#45;&gt;27 -->\n",
       "<g id=\"edge27\" class=\"edge\">\n",
       "<title>21&#45;&gt;27</title>\n",
       "<path fill=\"none\" stroke=\"black\" d=\"M807.5,-296.6C820.25,-287.44 834.2,-277.42 847.4,-267.94\"/>\n",
       "<polygon fill=\"black\" stroke=\"black\" points=\"849.09,-271.03 855.17,-262.36 845.01,-265.35 849.09,-271.03\"/>\n",
       "</g>\n",
       "<!-- 23 -->\n",
       "<g id=\"node24\" class=\"node\">\n",
       "<title>23</title>\n",
       "<polygon fill=\"#e58139\" stroke=\"black\" points=\"663.75,-149.5 562.25,-149.5 562.25,-96.5 663.75,-96.5 663.75,-149.5\"/>\n",
       "<text text-anchor=\"middle\" x=\"613\" y=\"-132.2\" font-family=\"Helvetica,sans-Serif\" font-size=\"14.00\">gini = 0.0</text>\n",
       "<text text-anchor=\"middle\" x=\"613\" y=\"-117.2\" font-family=\"Helvetica,sans-Serif\" font-size=\"14.00\">samples = 13</text>\n",
       "<text text-anchor=\"middle\" x=\"613\" y=\"-102.2\" font-family=\"Helvetica,sans-Serif\" font-size=\"14.00\">value = [13, 0]</text>\n",
       "</g>\n",
       "<!-- 22&#45;&gt;23 -->\n",
       "<g id=\"edge23\" class=\"edge\">\n",
       "<title>22&#45;&gt;23</title>\n",
       "<path fill=\"none\" stroke=\"black\" d=\"M709.85,-192.6C693.39,-180.94 674.96,-167.89 658.63,-156.32\"/>\n",
       "<polygon fill=\"black\" stroke=\"black\" points=\"660.71,-153.5 650.53,-150.58 656.66,-159.22 660.71,-153.5\"/>\n",
       "</g>\n",
       "<!-- 24 -->\n",
       "<g id=\"node25\" class=\"node\">\n",
       "<title>24</title>\n",
       "<polygon fill=\"#f2c09c\" stroke=\"black\" points=\"834.62,-157 681.38,-157 681.38,-89 834.62,-89 834.62,-157\"/>\n",
       "<text text-anchor=\"middle\" x=\"758\" y=\"-139.7\" font-family=\"Helvetica,sans-Serif\" font-size=\"14.00\">SkinThickness &lt;= 36.0</text>\n",
       "<text text-anchor=\"middle\" x=\"758\" y=\"-124.7\" font-family=\"Helvetica,sans-Serif\" font-size=\"14.00\">gini = 0.444</text>\n",
       "<text text-anchor=\"middle\" x=\"758\" y=\"-109.7\" font-family=\"Helvetica,sans-Serif\" font-size=\"14.00\">samples = 3</text>\n",
       "<text text-anchor=\"middle\" x=\"758\" y=\"-94.7\" font-family=\"Helvetica,sans-Serif\" font-size=\"14.00\">value = [2, 1]</text>\n",
       "</g>\n",
       "<!-- 22&#45;&gt;24 -->\n",
       "<g id=\"edge24\" class=\"edge\">\n",
       "<title>22&#45;&gt;24</title>\n",
       "<path fill=\"none\" stroke=\"black\" d=\"M757.33,-192.6C757.4,-185.03 757.48,-176.87 757.56,-168.9\"/>\n",
       "<polygon fill=\"black\" stroke=\"black\" points=\"761.06,-169.02 757.66,-158.99 754.06,-168.95 761.06,-169.02\"/>\n",
       "</g>\n",
       "<!-- 25 -->\n",
       "<g id=\"node26\" class=\"node\">\n",
       "<title>25</title>\n",
       "<polygon fill=\"#399de5\" stroke=\"black\" points=\"749,-53 655,-53 655,0 749,0 749,-53\"/>\n",
       "<text text-anchor=\"middle\" x=\"702\" y=\"-35.7\" font-family=\"Helvetica,sans-Serif\" font-size=\"14.00\">gini = 0.0</text>\n",
       "<text text-anchor=\"middle\" x=\"702\" y=\"-20.7\" font-family=\"Helvetica,sans-Serif\" font-size=\"14.00\">samples = 1</text>\n",
       "<text text-anchor=\"middle\" x=\"702\" y=\"-5.7\" font-family=\"Helvetica,sans-Serif\" font-size=\"14.00\">value = [0, 1]</text>\n",
       "</g>\n",
       "<!-- 24&#45;&gt;25 -->\n",
       "<g id=\"edge25\" class=\"edge\">\n",
       "<title>24&#45;&gt;25</title>\n",
       "<path fill=\"none\" stroke=\"black\" d=\"M738.26,-88.68C733.38,-80.45 728.13,-71.59 723.18,-63.25\"/>\n",
       "<polygon fill=\"black\" stroke=\"black\" points=\"726.23,-61.51 718.12,-54.7 720.2,-65.08 726.23,-61.51\"/>\n",
       "</g>\n",
       "<!-- 26 -->\n",
       "<g id=\"node27\" class=\"node\">\n",
       "<title>26</title>\n",
       "<polygon fill=\"#e58139\" stroke=\"black\" points=\"861,-53 767,-53 767,0 861,0 861,-53\"/>\n",
       "<text text-anchor=\"middle\" x=\"814\" y=\"-35.7\" font-family=\"Helvetica,sans-Serif\" font-size=\"14.00\">gini = 0.0</text>\n",
       "<text text-anchor=\"middle\" x=\"814\" y=\"-20.7\" font-family=\"Helvetica,sans-Serif\" font-size=\"14.00\">samples = 2</text>\n",
       "<text text-anchor=\"middle\" x=\"814\" y=\"-5.7\" font-family=\"Helvetica,sans-Serif\" font-size=\"14.00\">value = [2, 0]</text>\n",
       "</g>\n",
       "<!-- 24&#45;&gt;26 -->\n",
       "<g id=\"edge26\" class=\"edge\">\n",
       "<title>24&#45;&gt;26</title>\n",
       "<path fill=\"none\" stroke=\"black\" d=\"M777.74,-88.68C782.62,-80.45 787.87,-71.59 792.82,-63.25\"/>\n",
       "<polygon fill=\"black\" stroke=\"black\" points=\"795.8,-65.08 797.88,-54.7 789.77,-61.51 795.8,-65.08\"/>\n",
       "</g>\n",
       "<!-- 28 -->\n",
       "<g id=\"node29\" class=\"node\">\n",
       "<title>28</title>\n",
       "<polygon fill=\"#e58139\" stroke=\"black\" points=\"949,-149.5 855,-149.5 855,-96.5 949,-96.5 949,-149.5\"/>\n",
       "<text text-anchor=\"middle\" x=\"902\" y=\"-132.2\" font-family=\"Helvetica,sans-Serif\" font-size=\"14.00\">gini = 0.0</text>\n",
       "<text text-anchor=\"middle\" x=\"902\" y=\"-117.2\" font-family=\"Helvetica,sans-Serif\" font-size=\"14.00\">samples = 1</text>\n",
       "<text text-anchor=\"middle\" x=\"902\" y=\"-102.2\" font-family=\"Helvetica,sans-Serif\" font-size=\"14.00\">value = [1, 0]</text>\n",
       "</g>\n",
       "<!-- 27&#45;&gt;28 -->\n",
       "<g id=\"edge28\" class=\"edge\">\n",
       "<title>27&#45;&gt;28</title>\n",
       "<path fill=\"none\" stroke=\"black\" d=\"M902.67,-192.6C902.57,-182.47 902.46,-171.28 902.36,-160.93\"/>\n",
       "<polygon fill=\"black\" stroke=\"black\" points=\"905.86,-161.18 902.27,-151.22 898.87,-161.25 905.86,-161.18\"/>\n",
       "</g>\n",
       "<!-- 29 -->\n",
       "<g id=\"node30\" class=\"node\">\n",
       "<title>29</title>\n",
       "<polygon fill=\"#399de5\" stroke=\"black\" points=\"1061,-149.5 967,-149.5 967,-96.5 1061,-96.5 1061,-149.5\"/>\n",
       "<text text-anchor=\"middle\" x=\"1014\" y=\"-132.2\" font-family=\"Helvetica,sans-Serif\" font-size=\"14.00\">gini = 0.0</text>\n",
       "<text text-anchor=\"middle\" x=\"1014\" y=\"-117.2\" font-family=\"Helvetica,sans-Serif\" font-size=\"14.00\">samples = 1</text>\n",
       "<text text-anchor=\"middle\" x=\"1014\" y=\"-102.2\" font-family=\"Helvetica,sans-Serif\" font-size=\"14.00\">value = [0, 1]</text>\n",
       "</g>\n",
       "<!-- 27&#45;&gt;29 -->\n",
       "<g id=\"edge29\" class=\"edge\">\n",
       "<title>27&#45;&gt;29</title>\n",
       "<path fill=\"none\" stroke=\"black\" d=\"M939.35,-192.6C951.67,-181.27 965.44,-168.62 977.76,-157.3\"/>\n",
       "<polygon fill=\"black\" stroke=\"black\" points=\"979.92,-160.07 984.91,-150.73 975.18,-154.92 979.92,-160.07\"/>\n",
       "</g>\n",
       "<!-- 31 -->\n",
       "<g id=\"node32\" class=\"node\">\n",
       "<title>31</title>\n",
       "<polygon fill=\"#e9965a\" stroke=\"black\" points=\"961.62,-469 826.38,-469 826.38,-401 961.62,-401 961.62,-469\"/>\n",
       "<text text-anchor=\"middle\" x=\"894\" y=\"-451.7\" font-family=\"Helvetica,sans-Serif\" font-size=\"14.00\">Insulin_nan &lt;= 38.0</text>\n",
       "<text text-anchor=\"middle\" x=\"894\" y=\"-436.7\" font-family=\"Helvetica,sans-Serif\" font-size=\"14.00\">gini = 0.245</text>\n",
       "<text text-anchor=\"middle\" x=\"894\" y=\"-421.7\" font-family=\"Helvetica,sans-Serif\" font-size=\"14.00\">samples = 7</text>\n",
       "<text text-anchor=\"middle\" x=\"894\" y=\"-406.7\" font-family=\"Helvetica,sans-Serif\" font-size=\"14.00\">value = [6, 1]</text>\n",
       "</g>\n",
       "<!-- 30&#45;&gt;31 -->\n",
       "<g id=\"edge31\" class=\"edge\">\n",
       "<title>30&#45;&gt;31</title>\n",
       "<path fill=\"none\" stroke=\"black\" d=\"M894,-504.6C894,-497.03 894,-488.87 894,-480.9\"/>\n",
       "<polygon fill=\"black\" stroke=\"black\" points=\"897.5,-480.99 894,-470.99 890.5,-480.99 897.5,-480.99\"/>\n",
       "</g>\n",
       "<!-- 34 -->\n",
       "<g id=\"node35\" class=\"node\">\n",
       "<title>34</title>\n",
       "<polygon fill=\"#399de5\" stroke=\"black\" points=\"1074,-461.5 980,-461.5 980,-408.5 1074,-408.5 1074,-461.5\"/>\n",
       "<text text-anchor=\"middle\" x=\"1027\" y=\"-444.2\" font-family=\"Helvetica,sans-Serif\" font-size=\"14.00\">gini = 0.0</text>\n",
       "<text text-anchor=\"middle\" x=\"1027\" y=\"-429.2\" font-family=\"Helvetica,sans-Serif\" font-size=\"14.00\">samples = 2</text>\n",
       "<text text-anchor=\"middle\" x=\"1027\" y=\"-414.2\" font-family=\"Helvetica,sans-Serif\" font-size=\"14.00\">value = [0, 2]</text>\n",
       "</g>\n",
       "<!-- 30&#45;&gt;34 -->\n",
       "<g id=\"edge34\" class=\"edge\">\n",
       "<title>30&#45;&gt;34</title>\n",
       "<path fill=\"none\" stroke=\"black\" d=\"M937.55,-504.6C952.61,-493.05 969.45,-480.13 984.43,-468.65\"/>\n",
       "<polygon fill=\"black\" stroke=\"black\" points=\"986.48,-471.49 992.28,-462.63 982.22,-465.94 986.48,-471.49\"/>\n",
       "</g>\n",
       "<!-- 32 -->\n",
       "<g id=\"node33\" class=\"node\">\n",
       "<title>32</title>\n",
       "<polygon fill=\"#399de5\" stroke=\"black\" points=\"941,-357.5 847,-357.5 847,-304.5 941,-304.5 941,-357.5\"/>\n",
       "<text text-anchor=\"middle\" x=\"894\" y=\"-340.2\" font-family=\"Helvetica,sans-Serif\" font-size=\"14.00\">gini = 0.0</text>\n",
       "<text text-anchor=\"middle\" x=\"894\" y=\"-325.2\" font-family=\"Helvetica,sans-Serif\" font-size=\"14.00\">samples = 1</text>\n",
       "<text text-anchor=\"middle\" x=\"894\" y=\"-310.2\" font-family=\"Helvetica,sans-Serif\" font-size=\"14.00\">value = [0, 1]</text>\n",
       "</g>\n",
       "<!-- 31&#45;&gt;32 -->\n",
       "<g id=\"edge32\" class=\"edge\">\n",
       "<title>31&#45;&gt;32</title>\n",
       "<path fill=\"none\" stroke=\"black\" d=\"M894,-400.6C894,-390.47 894,-379.28 894,-368.93\"/>\n",
       "<polygon fill=\"black\" stroke=\"black\" points=\"897.5,-369.22 894,-359.22 890.5,-369.22 897.5,-369.22\"/>\n",
       "</g>\n",
       "<!-- 33 -->\n",
       "<g id=\"node34\" class=\"node\">\n",
       "<title>33</title>\n",
       "<polygon fill=\"#e58139\" stroke=\"black\" points=\"1053,-357.5 959,-357.5 959,-304.5 1053,-304.5 1053,-357.5\"/>\n",
       "<text text-anchor=\"middle\" x=\"1006\" y=\"-340.2\" font-family=\"Helvetica,sans-Serif\" font-size=\"14.00\">gini = 0.0</text>\n",
       "<text text-anchor=\"middle\" x=\"1006\" y=\"-325.2\" font-family=\"Helvetica,sans-Serif\" font-size=\"14.00\">samples = 6</text>\n",
       "<text text-anchor=\"middle\" x=\"1006\" y=\"-310.2\" font-family=\"Helvetica,sans-Serif\" font-size=\"14.00\">value = [6, 0]</text>\n",
       "</g>\n",
       "<!-- 31&#45;&gt;33 -->\n",
       "<g id=\"edge33\" class=\"edge\">\n",
       "<title>31&#45;&gt;33</title>\n",
       "<path fill=\"none\" stroke=\"black\" d=\"M930.67,-400.6C943.11,-389.27 957,-376.62 969.44,-365.3\"/>\n",
       "<polygon fill=\"black\" stroke=\"black\" points=\"971.62,-368.05 976.65,-358.73 966.9,-362.87 971.62,-368.05\"/>\n",
       "</g>\n",
       "<!-- 38 -->\n",
       "<g id=\"node39\" class=\"node\">\n",
       "<title>38</title>\n",
       "<polygon fill=\"#7bbeee\" stroke=\"black\" points=\"1264.38,-781 1109.62,-781 1109.62,-713 1264.38,-713 1264.38,-781\"/>\n",
       "<text text-anchor=\"middle\" x=\"1187\" y=\"-763.7\" font-family=\"Helvetica,sans-Serif\" font-size=\"14.00\">BloodPressure &lt;= 67.0</text>\n",
       "<text text-anchor=\"middle\" x=\"1187\" y=\"-748.7\" font-family=\"Helvetica,sans-Serif\" font-size=\"14.00\">gini = 0.375</text>\n",
       "<text text-anchor=\"middle\" x=\"1187\" y=\"-733.7\" font-family=\"Helvetica,sans-Serif\" font-size=\"14.00\">samples = 4</text>\n",
       "<text text-anchor=\"middle\" x=\"1187\" y=\"-718.7\" font-family=\"Helvetica,sans-Serif\" font-size=\"14.00\">value = [1, 3]</text>\n",
       "</g>\n",
       "<!-- 37&#45;&gt;38 -->\n",
       "<g id=\"edge38\" class=\"edge\">\n",
       "<title>37&#45;&gt;38</title>\n",
       "<path fill=\"none\" stroke=\"black\" d=\"M1242.15,-816.6C1235.42,-808.24 1228.12,-799.15 1221.09,-790.41\"/>\n",
       "<polygon fill=\"black\" stroke=\"black\" points=\"1223.85,-788.25 1214.86,-782.65 1218.4,-792.64 1223.85,-788.25\"/>\n",
       "</g>\n",
       "<!-- 41 -->\n",
       "<g id=\"node42\" class=\"node\">\n",
       "<title>41</title>\n",
       "<polygon fill=\"#e88f4f\" stroke=\"black\" points=\"1417.62,-781 1282.38,-781 1282.38,-713 1417.62,-713 1417.62,-781\"/>\n",
       "<text text-anchor=\"middle\" x=\"1350\" y=\"-763.7\" font-family=\"Helvetica,sans-Serif\" font-size=\"14.00\">Insulin_nan &lt;= 48.0</text>\n",
       "<text text-anchor=\"middle\" x=\"1350\" y=\"-748.7\" font-family=\"Helvetica,sans-Serif\" font-size=\"14.00\">gini = 0.18</text>\n",
       "<text text-anchor=\"middle\" x=\"1350\" y=\"-733.7\" font-family=\"Helvetica,sans-Serif\" font-size=\"14.00\">samples = 10</text>\n",
       "<text text-anchor=\"middle\" x=\"1350\" y=\"-718.7\" font-family=\"Helvetica,sans-Serif\" font-size=\"14.00\">value = [9, 1]</text>\n",
       "</g>\n",
       "<!-- 37&#45;&gt;41 -->\n",
       "<g id=\"edge41\" class=\"edge\">\n",
       "<title>37&#45;&gt;41</title>\n",
       "<path fill=\"none\" stroke=\"black\" d=\"M1295.52,-816.6C1302.17,-808.24 1309.38,-799.15 1316.32,-790.41\"/>\n",
       "<polygon fill=\"black\" stroke=\"black\" points=\"1319,-792.67 1322.48,-782.66 1313.52,-788.31 1319,-792.67\"/>\n",
       "</g>\n",
       "<!-- 39 -->\n",
       "<g id=\"node40\" class=\"node\">\n",
       "<title>39</title>\n",
       "<polygon fill=\"#e58139\" stroke=\"black\" points=\"1122,-669.5 1028,-669.5 1028,-616.5 1122,-616.5 1122,-669.5\"/>\n",
       "<text text-anchor=\"middle\" x=\"1075\" y=\"-652.2\" font-family=\"Helvetica,sans-Serif\" font-size=\"14.00\">gini = 0.0</text>\n",
       "<text text-anchor=\"middle\" x=\"1075\" y=\"-637.2\" font-family=\"Helvetica,sans-Serif\" font-size=\"14.00\">samples = 1</text>\n",
       "<text text-anchor=\"middle\" x=\"1075\" y=\"-622.2\" font-family=\"Helvetica,sans-Serif\" font-size=\"14.00\">value = [1, 0]</text>\n",
       "</g>\n",
       "<!-- 38&#45;&gt;39 -->\n",
       "<g id=\"edge39\" class=\"edge\">\n",
       "<title>38&#45;&gt;39</title>\n",
       "<path fill=\"none\" stroke=\"black\" d=\"M1150.33,-712.6C1137.89,-701.27 1124,-688.62 1111.56,-677.3\"/>\n",
       "<polygon fill=\"black\" stroke=\"black\" points=\"1114.1,-674.87 1104.35,-670.73 1109.38,-680.05 1114.1,-674.87\"/>\n",
       "</g>\n",
       "<!-- 40 -->\n",
       "<g id=\"node41\" class=\"node\">\n",
       "<title>40</title>\n",
       "<polygon fill=\"#399de5\" stroke=\"black\" points=\"1234,-669.5 1140,-669.5 1140,-616.5 1234,-616.5 1234,-669.5\"/>\n",
       "<text text-anchor=\"middle\" x=\"1187\" y=\"-652.2\" font-family=\"Helvetica,sans-Serif\" font-size=\"14.00\">gini = 0.0</text>\n",
       "<text text-anchor=\"middle\" x=\"1187\" y=\"-637.2\" font-family=\"Helvetica,sans-Serif\" font-size=\"14.00\">samples = 3</text>\n",
       "<text text-anchor=\"middle\" x=\"1187\" y=\"-622.2\" font-family=\"Helvetica,sans-Serif\" font-size=\"14.00\">value = [0, 3]</text>\n",
       "</g>\n",
       "<!-- 38&#45;&gt;40 -->\n",
       "<g id=\"edge40\" class=\"edge\">\n",
       "<title>38&#45;&gt;40</title>\n",
       "<path fill=\"none\" stroke=\"black\" d=\"M1187,-712.6C1187,-702.47 1187,-691.28 1187,-680.93\"/>\n",
       "<polygon fill=\"black\" stroke=\"black\" points=\"1190.5,-681.22 1187,-671.22 1183.5,-681.22 1190.5,-681.22\"/>\n",
       "</g>\n",
       "<!-- 42 -->\n",
       "<g id=\"node43\" class=\"node\">\n",
       "<title>42</title>\n",
       "<polygon fill=\"#399de5\" stroke=\"black\" points=\"1346,-669.5 1252,-669.5 1252,-616.5 1346,-616.5 1346,-669.5\"/>\n",
       "<text text-anchor=\"middle\" x=\"1299\" y=\"-652.2\" font-family=\"Helvetica,sans-Serif\" font-size=\"14.00\">gini = 0.0</text>\n",
       "<text text-anchor=\"middle\" x=\"1299\" y=\"-637.2\" font-family=\"Helvetica,sans-Serif\" font-size=\"14.00\">samples = 1</text>\n",
       "<text text-anchor=\"middle\" x=\"1299\" y=\"-622.2\" font-family=\"Helvetica,sans-Serif\" font-size=\"14.00\">value = [0, 1]</text>\n",
       "</g>\n",
       "<!-- 41&#45;&gt;42 -->\n",
       "<g id=\"edge42\" class=\"edge\">\n",
       "<title>41&#45;&gt;42</title>\n",
       "<path fill=\"none\" stroke=\"black\" d=\"M1333.3,-712.6C1328.07,-702.14 1322.28,-690.56 1316.97,-679.93\"/>\n",
       "<polygon fill=\"black\" stroke=\"black\" points=\"1320.13,-678.44 1312.53,-671.06 1313.87,-681.57 1320.13,-678.44\"/>\n",
       "</g>\n",
       "<!-- 43 -->\n",
       "<g id=\"node44\" class=\"node\">\n",
       "<title>43</title>\n",
       "<polygon fill=\"#e58139\" stroke=\"black\" points=\"1458,-669.5 1364,-669.5 1364,-616.5 1458,-616.5 1458,-669.5\"/>\n",
       "<text text-anchor=\"middle\" x=\"1411\" y=\"-652.2\" font-family=\"Helvetica,sans-Serif\" font-size=\"14.00\">gini = 0.0</text>\n",
       "<text text-anchor=\"middle\" x=\"1411\" y=\"-637.2\" font-family=\"Helvetica,sans-Serif\" font-size=\"14.00\">samples = 9</text>\n",
       "<text text-anchor=\"middle\" x=\"1411\" y=\"-622.2\" font-family=\"Helvetica,sans-Serif\" font-size=\"14.00\">value = [9, 0]</text>\n",
       "</g>\n",
       "<!-- 41&#45;&gt;43 -->\n",
       "<g id=\"edge43\" class=\"edge\">\n",
       "<title>41&#45;&gt;43</title>\n",
       "<path fill=\"none\" stroke=\"black\" d=\"M1369.97,-712.6C1376.36,-701.93 1383.44,-690.08 1389.91,-679.27\"/>\n",
       "<polygon fill=\"black\" stroke=\"black\" points=\"1392.72,-681.38 1394.85,-671 1386.71,-677.79 1392.72,-681.38\"/>\n",
       "</g>\n",
       "<!-- 46 -->\n",
       "<g id=\"node47\" class=\"node\">\n",
       "<title>46</title>\n",
       "<polygon fill=\"#e99355\" stroke=\"black\" points=\"1713.62,-989 1560.38,-989 1560.38,-921 1713.62,-921 1713.62,-989\"/>\n",
       "<text text-anchor=\"middle\" x=\"1637\" y=\"-971.7\" font-family=\"Helvetica,sans-Serif\" font-size=\"14.00\">SkinThickness &lt;= 35.5</text>\n",
       "<text text-anchor=\"middle\" x=\"1637\" y=\"-956.7\" font-family=\"Helvetica,sans-Serif\" font-size=\"14.00\">gini = 0.219</text>\n",
       "<text text-anchor=\"middle\" x=\"1637\" y=\"-941.7\" font-family=\"Helvetica,sans-Serif\" font-size=\"14.00\">samples = 24</text>\n",
       "<text text-anchor=\"middle\" x=\"1637\" y=\"-926.7\" font-family=\"Helvetica,sans-Serif\" font-size=\"14.00\">value = [21, 3]</text>\n",
       "</g>\n",
       "<!-- 45&#45;&gt;46 -->\n",
       "<g id=\"edge46\" class=\"edge\">\n",
       "<title>45&#45;&gt;46</title>\n",
       "<path fill=\"none\" stroke=\"black\" d=\"M1720.4,-1024.6C1709.59,-1015.71 1697.78,-1006 1686.55,-996.76\"/>\n",
       "<polygon fill=\"black\" stroke=\"black\" points=\"1688.81,-994.08 1678.86,-990.44 1684.36,-999.49 1688.81,-994.08\"/>\n",
       "</g>\n",
       "<!-- 53 -->\n",
       "<g id=\"node54\" class=\"node\">\n",
       "<title>53</title>\n",
       "<polygon fill=\"#f1f8fd\" stroke=\"black\" points=\"1939.5,-989 1830.5,-989 1830.5,-921 1939.5,-921 1939.5,-989\"/>\n",
       "<text text-anchor=\"middle\" x=\"1885\" y=\"-971.7\" font-family=\"Helvetica,sans-Serif\" font-size=\"14.00\">BMI &lt;= 31.0</text>\n",
       "<text text-anchor=\"middle\" x=\"1885\" y=\"-956.7\" font-family=\"Helvetica,sans-Serif\" font-size=\"14.00\">gini = 0.499</text>\n",
       "<text text-anchor=\"middle\" x=\"1885\" y=\"-941.7\" font-family=\"Helvetica,sans-Serif\" font-size=\"14.00\">samples = 27</text>\n",
       "<text text-anchor=\"middle\" x=\"1885\" y=\"-926.7\" font-family=\"Helvetica,sans-Serif\" font-size=\"14.00\">value = [13, 14]</text>\n",
       "</g>\n",
       "<!-- 45&#45;&gt;53 -->\n",
       "<g id=\"edge53\" class=\"edge\">\n",
       "<title>45&#45;&gt;53</title>\n",
       "<path fill=\"none\" stroke=\"black\" d=\"M1801.6,-1024.6C1812.41,-1015.71 1824.22,-1006 1835.45,-996.76\"/>\n",
       "<polygon fill=\"black\" stroke=\"black\" points=\"1837.64,-999.49 1843.14,-990.44 1833.19,-994.08 1837.64,-999.49\"/>\n",
       "</g>\n",
       "<!-- 47 -->\n",
       "<g id=\"node48\" class=\"node\">\n",
       "<title>47</title>\n",
       "<polygon fill=\"#e58139\" stroke=\"black\" points=\"1547.75,-877.5 1446.25,-877.5 1446.25,-824.5 1547.75,-824.5 1547.75,-877.5\"/>\n",
       "<text text-anchor=\"middle\" x=\"1497\" y=\"-860.2\" font-family=\"Helvetica,sans-Serif\" font-size=\"14.00\">gini = 0.0</text>\n",
       "<text text-anchor=\"middle\" x=\"1497\" y=\"-845.2\" font-family=\"Helvetica,sans-Serif\" font-size=\"14.00\">samples = 17</text>\n",
       "<text text-anchor=\"middle\" x=\"1497\" y=\"-830.2\" font-family=\"Helvetica,sans-Serif\" font-size=\"14.00\">value = [17, 0]</text>\n",
       "</g>\n",
       "<!-- 46&#45;&gt;47 -->\n",
       "<g id=\"edge47\" class=\"edge\">\n",
       "<title>46&#45;&gt;47</title>\n",
       "<path fill=\"none\" stroke=\"black\" d=\"M1591.16,-920.6C1575.16,-908.94 1557.24,-895.89 1541.36,-884.32\"/>\n",
       "<polygon fill=\"black\" stroke=\"black\" points=\"1543.65,-881.66 1533.51,-878.6 1539.53,-887.31 1543.65,-881.66\"/>\n",
       "</g>\n",
       "<!-- 48 -->\n",
       "<g id=\"node49\" class=\"node\">\n",
       "<title>48</title>\n",
       "<polygon fill=\"#f8e0ce\" stroke=\"black\" points=\"1708.38,-885 1565.62,-885 1565.62,-817 1708.38,-817 1708.38,-885\"/>\n",
       "<text text-anchor=\"middle\" x=\"1637\" y=\"-867.7\" font-family=\"Helvetica,sans-Serif\" font-size=\"14.00\">Insulin_nan &lt;= 134.5</text>\n",
       "<text text-anchor=\"middle\" x=\"1637\" y=\"-852.7\" font-family=\"Helvetica,sans-Serif\" font-size=\"14.00\">gini = 0.49</text>\n",
       "<text text-anchor=\"middle\" x=\"1637\" y=\"-837.7\" font-family=\"Helvetica,sans-Serif\" font-size=\"14.00\">samples = 7</text>\n",
       "<text text-anchor=\"middle\" x=\"1637\" y=\"-822.7\" font-family=\"Helvetica,sans-Serif\" font-size=\"14.00\">value = [4, 3]</text>\n",
       "</g>\n",
       "<!-- 46&#45;&gt;48 -->\n",
       "<g id=\"edge48\" class=\"edge\">\n",
       "<title>46&#45;&gt;48</title>\n",
       "<path fill=\"none\" stroke=\"black\" d=\"M1637,-920.6C1637,-913.03 1637,-904.87 1637,-896.9\"/>\n",
       "<polygon fill=\"black\" stroke=\"black\" points=\"1640.5,-896.99 1637,-886.99 1633.5,-896.99 1640.5,-896.99\"/>\n",
       "</g>\n",
       "<!-- 49 -->\n",
       "<g id=\"node50\" class=\"node\">\n",
       "<title>49</title>\n",
       "<polygon fill=\"#7bbeee\" stroke=\"black\" points=\"1572.25,-781 1473.75,-781 1473.75,-713 1572.25,-713 1572.25,-781\"/>\n",
       "<text text-anchor=\"middle\" x=\"1523\" y=\"-763.7\" font-family=\"Helvetica,sans-Serif\" font-size=\"14.00\">BMI &lt;= 46.15</text>\n",
       "<text text-anchor=\"middle\" x=\"1523\" y=\"-748.7\" font-family=\"Helvetica,sans-Serif\" font-size=\"14.00\">gini = 0.375</text>\n",
       "<text text-anchor=\"middle\" x=\"1523\" y=\"-733.7\" font-family=\"Helvetica,sans-Serif\" font-size=\"14.00\">samples = 4</text>\n",
       "<text text-anchor=\"middle\" x=\"1523\" y=\"-718.7\" font-family=\"Helvetica,sans-Serif\" font-size=\"14.00\">value = [1, 3]</text>\n",
       "</g>\n",
       "<!-- 48&#45;&gt;49 -->\n",
       "<g id=\"edge49\" class=\"edge\">\n",
       "<title>48&#45;&gt;49</title>\n",
       "<path fill=\"none\" stroke=\"black\" d=\"M1599.67,-816.6C1589.83,-807.8 1579.1,-798.19 1568.86,-789.03\"/>\n",
       "<polygon fill=\"black\" stroke=\"black\" points=\"1571.33,-786.54 1561.54,-782.48 1566.66,-791.76 1571.33,-786.54\"/>\n",
       "</g>\n",
       "<!-- 52 -->\n",
       "<g id=\"node53\" class=\"node\">\n",
       "<title>52</title>\n",
       "<polygon fill=\"#e58139\" stroke=\"black\" points=\"1684,-773.5 1590,-773.5 1590,-720.5 1684,-720.5 1684,-773.5\"/>\n",
       "<text text-anchor=\"middle\" x=\"1637\" y=\"-756.2\" font-family=\"Helvetica,sans-Serif\" font-size=\"14.00\">gini = 0.0</text>\n",
       "<text text-anchor=\"middle\" x=\"1637\" y=\"-741.2\" font-family=\"Helvetica,sans-Serif\" font-size=\"14.00\">samples = 3</text>\n",
       "<text text-anchor=\"middle\" x=\"1637\" y=\"-726.2\" font-family=\"Helvetica,sans-Serif\" font-size=\"14.00\">value = [3, 0]</text>\n",
       "</g>\n",
       "<!-- 48&#45;&gt;52 -->\n",
       "<g id=\"edge52\" class=\"edge\">\n",
       "<title>48&#45;&gt;52</title>\n",
       "<path fill=\"none\" stroke=\"black\" d=\"M1637,-816.6C1637,-806.47 1637,-795.28 1637,-784.93\"/>\n",
       "<polygon fill=\"black\" stroke=\"black\" points=\"1640.5,-785.22 1637,-775.22 1633.5,-785.22 1640.5,-785.22\"/>\n",
       "</g>\n",
       "<!-- 50 -->\n",
       "<g id=\"node51\" class=\"node\">\n",
       "<title>50</title>\n",
       "<polygon fill=\"#399de5\" stroke=\"black\" points=\"1570,-669.5 1476,-669.5 1476,-616.5 1570,-616.5 1570,-669.5\"/>\n",
       "<text text-anchor=\"middle\" x=\"1523\" y=\"-652.2\" font-family=\"Helvetica,sans-Serif\" font-size=\"14.00\">gini = 0.0</text>\n",
       "<text text-anchor=\"middle\" x=\"1523\" y=\"-637.2\" font-family=\"Helvetica,sans-Serif\" font-size=\"14.00\">samples = 3</text>\n",
       "<text text-anchor=\"middle\" x=\"1523\" y=\"-622.2\" font-family=\"Helvetica,sans-Serif\" font-size=\"14.00\">value = [0, 3]</text>\n",
       "</g>\n",
       "<!-- 49&#45;&gt;50 -->\n",
       "<g id=\"edge50\" class=\"edge\">\n",
       "<title>49&#45;&gt;50</title>\n",
       "<path fill=\"none\" stroke=\"black\" d=\"M1523,-712.6C1523,-702.47 1523,-691.28 1523,-680.93\"/>\n",
       "<polygon fill=\"black\" stroke=\"black\" points=\"1526.5,-681.22 1523,-671.22 1519.5,-681.22 1526.5,-681.22\"/>\n",
       "</g>\n",
       "<!-- 51 -->\n",
       "<g id=\"node52\" class=\"node\">\n",
       "<title>51</title>\n",
       "<polygon fill=\"#e58139\" stroke=\"black\" points=\"1682,-669.5 1588,-669.5 1588,-616.5 1682,-616.5 1682,-669.5\"/>\n",
       "<text text-anchor=\"middle\" x=\"1635\" y=\"-652.2\" font-family=\"Helvetica,sans-Serif\" font-size=\"14.00\">gini = 0.0</text>\n",
       "<text text-anchor=\"middle\" x=\"1635\" y=\"-637.2\" font-family=\"Helvetica,sans-Serif\" font-size=\"14.00\">samples = 1</text>\n",
       "<text text-anchor=\"middle\" x=\"1635\" y=\"-622.2\" font-family=\"Helvetica,sans-Serif\" font-size=\"14.00\">value = [1, 0]</text>\n",
       "</g>\n",
       "<!-- 49&#45;&gt;51 -->\n",
       "<g id=\"edge51\" class=\"edge\">\n",
       "<title>49&#45;&gt;51</title>\n",
       "<path fill=\"none\" stroke=\"black\" d=\"M1559.67,-712.6C1572.11,-701.27 1586,-688.62 1598.44,-677.3\"/>\n",
       "<polygon fill=\"black\" stroke=\"black\" points=\"1600.62,-680.05 1605.65,-670.73 1595.9,-674.87 1600.62,-680.05\"/>\n",
       "</g>\n",
       "<!-- 54 -->\n",
       "<g id=\"node55\" class=\"node\">\n",
       "<title>54</title>\n",
       "<polygon fill=\"#efb083\" stroke=\"black\" points=\"1997.62,-885 1772.38,-885 1772.38,-817 1997.62,-817 1997.62,-885\"/>\n",
       "<text text-anchor=\"middle\" x=\"1885\" y=\"-867.7\" font-family=\"Helvetica,sans-Serif\" font-size=\"14.00\">DiabetesPedigreeFunction &lt;= 0.22</text>\n",
       "<text text-anchor=\"middle\" x=\"1885\" y=\"-852.7\" font-family=\"Helvetica,sans-Serif\" font-size=\"14.00\">gini = 0.397</text>\n",
       "<text text-anchor=\"middle\" x=\"1885\" y=\"-837.7\" font-family=\"Helvetica,sans-Serif\" font-size=\"14.00\">samples = 11</text>\n",
       "<text text-anchor=\"middle\" x=\"1885\" y=\"-822.7\" font-family=\"Helvetica,sans-Serif\" font-size=\"14.00\">value = [8, 3]</text>\n",
       "</g>\n",
       "<!-- 53&#45;&gt;54 -->\n",
       "<g id=\"edge54\" class=\"edge\">\n",
       "<title>53&#45;&gt;54</title>\n",
       "<path fill=\"none\" stroke=\"black\" d=\"M1885,-920.6C1885,-913.03 1885,-904.87 1885,-896.9\"/>\n",
       "<polygon fill=\"black\" stroke=\"black\" points=\"1888.5,-896.99 1885,-886.99 1881.5,-896.99 1888.5,-896.99\"/>\n",
       "</g>\n",
       "<!-- 63 -->\n",
       "<g id=\"node64\" class=\"node\">\n",
       "<title>63</title>\n",
       "<polygon fill=\"#93caf1\" stroke=\"black\" points=\"2163.75,-885 2062.25,-885 2062.25,-817 2163.75,-817 2163.75,-885\"/>\n",
       "<text text-anchor=\"middle\" x=\"2113\" y=\"-867.7\" font-family=\"Helvetica,sans-Serif\" font-size=\"14.00\">Age &lt;= 40.0</text>\n",
       "<text text-anchor=\"middle\" x=\"2113\" y=\"-852.7\" font-family=\"Helvetica,sans-Serif\" font-size=\"14.00\">gini = 0.43</text>\n",
       "<text text-anchor=\"middle\" x=\"2113\" y=\"-837.7\" font-family=\"Helvetica,sans-Serif\" font-size=\"14.00\">samples = 16</text>\n",
       "<text text-anchor=\"middle\" x=\"2113\" y=\"-822.7\" font-family=\"Helvetica,sans-Serif\" font-size=\"14.00\">value = [5, 11]</text>\n",
       "</g>\n",
       "<!-- 53&#45;&gt;63 -->\n",
       "<g id=\"edge63\" class=\"edge\">\n",
       "<title>53&#45;&gt;63</title>\n",
       "<path fill=\"none\" stroke=\"black\" d=\"M1939.9,-929.44C1973.72,-914.31 2017.13,-894.89 2052.02,-879.28\"/>\n",
       "<polygon fill=\"black\" stroke=\"black\" points=\"2053.01,-882.67 2060.7,-875.4 2050.15,-876.28 2053.01,-882.67\"/>\n",
       "</g>\n",
       "<!-- 55 -->\n",
       "<g id=\"node56\" class=\"node\">\n",
       "<title>55</title>\n",
       "<polygon fill=\"#399de5\" stroke=\"black\" points=\"1796,-773.5 1702,-773.5 1702,-720.5 1796,-720.5 1796,-773.5\"/>\n",
       "<text text-anchor=\"middle\" x=\"1749\" y=\"-756.2\" font-family=\"Helvetica,sans-Serif\" font-size=\"14.00\">gini = 0.0</text>\n",
       "<text text-anchor=\"middle\" x=\"1749\" y=\"-741.2\" font-family=\"Helvetica,sans-Serif\" font-size=\"14.00\">samples = 1</text>\n",
       "<text text-anchor=\"middle\" x=\"1749\" y=\"-726.2\" font-family=\"Helvetica,sans-Serif\" font-size=\"14.00\">value = [0, 1]</text>\n",
       "</g>\n",
       "<!-- 54&#45;&gt;55 -->\n",
       "<g id=\"edge55\" class=\"edge\">\n",
       "<title>54&#45;&gt;55</title>\n",
       "<path fill=\"none\" stroke=\"black\" d=\"M1840.47,-816.6C1824.93,-804.94 1807.52,-791.89 1792.1,-780.32\"/>\n",
       "<polygon fill=\"black\" stroke=\"black\" points=\"1794.59,-777.81 1784.49,-774.61 1790.39,-783.41 1794.59,-777.81\"/>\n",
       "</g>\n",
       "<!-- 56 -->\n",
       "<g id=\"node57\" class=\"node\">\n",
       "<title>56</title>\n",
       "<polygon fill=\"#eca06a\" stroke=\"black\" points=\"2046.38,-781 1813.62,-781 1813.62,-713 2046.38,-713 2046.38,-781\"/>\n",
       "<text text-anchor=\"middle\" x=\"1930\" y=\"-763.7\" font-family=\"Helvetica,sans-Serif\" font-size=\"14.00\">DiabetesPedigreeFunction &lt;= 0.922</text>\n",
       "<text text-anchor=\"middle\" x=\"1930\" y=\"-748.7\" font-family=\"Helvetica,sans-Serif\" font-size=\"14.00\">gini = 0.32</text>\n",
       "<text text-anchor=\"middle\" x=\"1930\" y=\"-733.7\" font-family=\"Helvetica,sans-Serif\" font-size=\"14.00\">samples = 10</text>\n",
       "<text text-anchor=\"middle\" x=\"1930\" y=\"-718.7\" font-family=\"Helvetica,sans-Serif\" font-size=\"14.00\">value = [8, 2]</text>\n",
       "</g>\n",
       "<!-- 54&#45;&gt;56 -->\n",
       "<g id=\"edge56\" class=\"edge\">\n",
       "<title>54&#45;&gt;56</title>\n",
       "<path fill=\"none\" stroke=\"black\" d=\"M1899.73,-816.6C1903.23,-808.68 1907.01,-800.1 1910.68,-791.79\"/>\n",
       "<polygon fill=\"black\" stroke=\"black\" points=\"1913.79,-793.42 1914.62,-782.86 1907.38,-790.59 1913.79,-793.42\"/>\n",
       "</g>\n",
       "<!-- 57 -->\n",
       "<g id=\"node58\" class=\"node\">\n",
       "<title>57</title>\n",
       "<polygon fill=\"#e89152\" stroke=\"black\" points=\"1894,-677 1770,-677 1770,-609 1894,-609 1894,-677\"/>\n",
       "<text text-anchor=\"middle\" x=\"1832\" y=\"-659.7\" font-family=\"Helvetica,sans-Serif\" font-size=\"14.00\">Glucose &lt;= 153.0</text>\n",
       "<text text-anchor=\"middle\" x=\"1832\" y=\"-644.7\" font-family=\"Helvetica,sans-Serif\" font-size=\"14.00\">gini = 0.198</text>\n",
       "<text text-anchor=\"middle\" x=\"1832\" y=\"-629.7\" font-family=\"Helvetica,sans-Serif\" font-size=\"14.00\">samples = 9</text>\n",
       "<text text-anchor=\"middle\" x=\"1832\" y=\"-614.7\" font-family=\"Helvetica,sans-Serif\" font-size=\"14.00\">value = [8, 1]</text>\n",
       "</g>\n",
       "<!-- 56&#45;&gt;57 -->\n",
       "<g id=\"edge57\" class=\"edge\">\n",
       "<title>56&#45;&gt;57</title>\n",
       "<path fill=\"none\" stroke=\"black\" d=\"M1897.91,-712.6C1889.62,-703.97 1880.59,-694.58 1871.95,-685.58\"/>\n",
       "<polygon fill=\"black\" stroke=\"black\" points=\"1874.66,-683.35 1865.21,-678.57 1869.61,-688.2 1874.66,-683.35\"/>\n",
       "</g>\n",
       "<!-- 62 -->\n",
       "<g id=\"node63\" class=\"node\">\n",
       "<title>62</title>\n",
       "<polygon fill=\"#399de5\" stroke=\"black\" points=\"2006,-669.5 1912,-669.5 1912,-616.5 2006,-616.5 2006,-669.5\"/>\n",
       "<text text-anchor=\"middle\" x=\"1959\" y=\"-652.2\" font-family=\"Helvetica,sans-Serif\" font-size=\"14.00\">gini = 0.0</text>\n",
       "<text text-anchor=\"middle\" x=\"1959\" y=\"-637.2\" font-family=\"Helvetica,sans-Serif\" font-size=\"14.00\">samples = 1</text>\n",
       "<text text-anchor=\"middle\" x=\"1959\" y=\"-622.2\" font-family=\"Helvetica,sans-Serif\" font-size=\"14.00\">value = [0, 1]</text>\n",
       "</g>\n",
       "<!-- 56&#45;&gt;62 -->\n",
       "<g id=\"edge62\" class=\"edge\">\n",
       "<title>56&#45;&gt;62</title>\n",
       "<path fill=\"none\" stroke=\"black\" d=\"M1939.5,-712.6C1942.41,-702.36 1945.63,-691.04 1948.59,-680.6\"/>\n",
       "<polygon fill=\"black\" stroke=\"black\" points=\"1951.91,-681.74 1951.28,-671.16 1945.18,-679.82 1951.91,-681.74\"/>\n",
       "</g>\n",
       "<!-- 58 -->\n",
       "<g id=\"node59\" class=\"node\">\n",
       "<title>58</title>\n",
       "<polygon fill=\"#e58139\" stroke=\"black\" points=\"1748,-565.5 1654,-565.5 1654,-512.5 1748,-512.5 1748,-565.5\"/>\n",
       "<text text-anchor=\"middle\" x=\"1701\" y=\"-548.2\" font-family=\"Helvetica,sans-Serif\" font-size=\"14.00\">gini = 0.0</text>\n",
       "<text text-anchor=\"middle\" x=\"1701\" y=\"-533.2\" font-family=\"Helvetica,sans-Serif\" font-size=\"14.00\">samples = 7</text>\n",
       "<text text-anchor=\"middle\" x=\"1701\" y=\"-518.2\" font-family=\"Helvetica,sans-Serif\" font-size=\"14.00\">value = [7, 0]</text>\n",
       "</g>\n",
       "<!-- 57&#45;&gt;58 -->\n",
       "<g id=\"edge58\" class=\"edge\">\n",
       "<title>57&#45;&gt;58</title>\n",
       "<path fill=\"none\" stroke=\"black\" d=\"M1789.11,-608.6C1774.28,-597.05 1757.68,-584.13 1742.93,-572.65\"/>\n",
       "<polygon fill=\"black\" stroke=\"black\" points=\"1745.25,-570.02 1735.21,-566.64 1740.95,-575.54 1745.25,-570.02\"/>\n",
       "</g>\n",
       "<!-- 59 -->\n",
       "<g id=\"node60\" class=\"node\">\n",
       "<title>59</title>\n",
       "<polygon fill=\"#ffffff\" stroke=\"black\" points=\"1998.38,-573 1765.62,-573 1765.62,-505 1998.38,-505 1998.38,-573\"/>\n",
       "<text text-anchor=\"middle\" x=\"1882\" y=\"-555.7\" font-family=\"Helvetica,sans-Serif\" font-size=\"14.00\">DiabetesPedigreeFunction &lt;= 0.312</text>\n",
       "<text text-anchor=\"middle\" x=\"1882\" y=\"-540.7\" font-family=\"Helvetica,sans-Serif\" font-size=\"14.00\">gini = 0.5</text>\n",
       "<text text-anchor=\"middle\" x=\"1882\" y=\"-525.7\" font-family=\"Helvetica,sans-Serif\" font-size=\"14.00\">samples = 2</text>\n",
       "<text text-anchor=\"middle\" x=\"1882\" y=\"-510.7\" font-family=\"Helvetica,sans-Serif\" font-size=\"14.00\">value = [1, 1]</text>\n",
       "</g>\n",
       "<!-- 57&#45;&gt;59 -->\n",
       "<g id=\"edge59\" class=\"edge\">\n",
       "<title>57&#45;&gt;59</title>\n",
       "<path fill=\"none\" stroke=\"black\" d=\"M1848.37,-608.6C1852.26,-600.68 1856.46,-592.1 1860.53,-583.79\"/>\n",
       "<polygon fill=\"black\" stroke=\"black\" points=\"1863.67,-585.35 1864.93,-574.83 1857.38,-582.27 1863.67,-585.35\"/>\n",
       "</g>\n",
       "<!-- 60 -->\n",
       "<g id=\"node61\" class=\"node\">\n",
       "<title>60</title>\n",
       "<polygon fill=\"#e58139\" stroke=\"black\" points=\"1873,-461.5 1779,-461.5 1779,-408.5 1873,-408.5 1873,-461.5\"/>\n",
       "<text text-anchor=\"middle\" x=\"1826\" y=\"-444.2\" font-family=\"Helvetica,sans-Serif\" font-size=\"14.00\">gini = 0.0</text>\n",
       "<text text-anchor=\"middle\" x=\"1826\" y=\"-429.2\" font-family=\"Helvetica,sans-Serif\" font-size=\"14.00\">samples = 1</text>\n",
       "<text text-anchor=\"middle\" x=\"1826\" y=\"-414.2\" font-family=\"Helvetica,sans-Serif\" font-size=\"14.00\">value = [1, 0]</text>\n",
       "</g>\n",
       "<!-- 59&#45;&gt;60 -->\n",
       "<g id=\"edge60\" class=\"edge\">\n",
       "<title>59&#45;&gt;60</title>\n",
       "<path fill=\"none\" stroke=\"black\" d=\"M1863.66,-504.6C1857.86,-494.03 1851.43,-482.32 1845.55,-471.6\"/>\n",
       "<polygon fill=\"black\" stroke=\"black\" points=\"1848.72,-470.11 1840.84,-463.03 1842.59,-473.48 1848.72,-470.11\"/>\n",
       "</g>\n",
       "<!-- 61 -->\n",
       "<g id=\"node62\" class=\"node\">\n",
       "<title>61</title>\n",
       "<polygon fill=\"#399de5\" stroke=\"black\" points=\"1985,-461.5 1891,-461.5 1891,-408.5 1985,-408.5 1985,-461.5\"/>\n",
       "<text text-anchor=\"middle\" x=\"1938\" y=\"-444.2\" font-family=\"Helvetica,sans-Serif\" font-size=\"14.00\">gini = 0.0</text>\n",
       "<text text-anchor=\"middle\" x=\"1938\" y=\"-429.2\" font-family=\"Helvetica,sans-Serif\" font-size=\"14.00\">samples = 1</text>\n",
       "<text text-anchor=\"middle\" x=\"1938\" y=\"-414.2\" font-family=\"Helvetica,sans-Serif\" font-size=\"14.00\">value = [0, 1]</text>\n",
       "</g>\n",
       "<!-- 59&#45;&gt;61 -->\n",
       "<g id=\"edge61\" class=\"edge\">\n",
       "<title>59&#45;&gt;61</title>\n",
       "<path fill=\"none\" stroke=\"black\" d=\"M1900.34,-504.6C1906.14,-494.03 1912.57,-482.32 1918.45,-471.6\"/>\n",
       "<polygon fill=\"black\" stroke=\"black\" points=\"1921.41,-473.48 1923.16,-463.03 1915.28,-470.11 1921.41,-473.48\"/>\n",
       "</g>\n",
       "<!-- 64 -->\n",
       "<g id=\"node65\" class=\"node\">\n",
       "<title>64</title>\n",
       "<polygon fill=\"#deeffb\" stroke=\"black\" points=\"2161.88,-781 2064.12,-781 2064.12,-713 2161.88,-713 2161.88,-781\"/>\n",
       "<text text-anchor=\"middle\" x=\"2113\" y=\"-763.7\" font-family=\"Helvetica,sans-Serif\" font-size=\"14.00\">Age &lt;= 26.5</text>\n",
       "<text text-anchor=\"middle\" x=\"2113\" y=\"-748.7\" font-family=\"Helvetica,sans-Serif\" font-size=\"14.00\">gini = 0.496</text>\n",
       "<text text-anchor=\"middle\" x=\"2113\" y=\"-733.7\" font-family=\"Helvetica,sans-Serif\" font-size=\"14.00\">samples = 11</text>\n",
       "<text text-anchor=\"middle\" x=\"2113\" y=\"-718.7\" font-family=\"Helvetica,sans-Serif\" font-size=\"14.00\">value = [5, 6]</text>\n",
       "</g>\n",
       "<!-- 63&#45;&gt;64 -->\n",
       "<g id=\"edge64\" class=\"edge\">\n",
       "<title>63&#45;&gt;64</title>\n",
       "<path fill=\"none\" stroke=\"black\" d=\"M2113,-816.6C2113,-809.03 2113,-800.87 2113,-792.9\"/>\n",
       "<polygon fill=\"black\" stroke=\"black\" points=\"2116.5,-792.99 2113,-782.99 2109.5,-792.99 2116.5,-792.99\"/>\n",
       "</g>\n",
       "<!-- 73 -->\n",
       "<g id=\"node74\" class=\"node\">\n",
       "<title>73</title>\n",
       "<polygon fill=\"#399de5\" stroke=\"black\" points=\"2274,-773.5 2180,-773.5 2180,-720.5 2274,-720.5 2274,-773.5\"/>\n",
       "<text text-anchor=\"middle\" x=\"2227\" y=\"-756.2\" font-family=\"Helvetica,sans-Serif\" font-size=\"14.00\">gini = 0.0</text>\n",
       "<text text-anchor=\"middle\" x=\"2227\" y=\"-741.2\" font-family=\"Helvetica,sans-Serif\" font-size=\"14.00\">samples = 5</text>\n",
       "<text text-anchor=\"middle\" x=\"2227\" y=\"-726.2\" font-family=\"Helvetica,sans-Serif\" font-size=\"14.00\">value = [0, 5]</text>\n",
       "</g>\n",
       "<!-- 63&#45;&gt;73 -->\n",
       "<g id=\"edge73\" class=\"edge\">\n",
       "<title>63&#45;&gt;73</title>\n",
       "<path fill=\"none\" stroke=\"black\" d=\"M2150.33,-816.6C2162.99,-805.27 2177.13,-792.62 2189.78,-781.3\"/>\n",
       "<polygon fill=\"black\" stroke=\"black\" points=\"2192.02,-783.99 2197.14,-774.72 2187.36,-778.77 2192.02,-783.99\"/>\n",
       "</g>\n",
       "<!-- 65 -->\n",
       "<g id=\"node66\" class=\"node\">\n",
       "<title>65</title>\n",
       "<polygon fill=\"#399de5\" stroke=\"black\" points=\"2125,-669.5 2031,-669.5 2031,-616.5 2125,-616.5 2125,-669.5\"/>\n",
       "<text text-anchor=\"middle\" x=\"2078\" y=\"-652.2\" font-family=\"Helvetica,sans-Serif\" font-size=\"14.00\">gini = 0.0</text>\n",
       "<text text-anchor=\"middle\" x=\"2078\" y=\"-637.2\" font-family=\"Helvetica,sans-Serif\" font-size=\"14.00\">samples = 4</text>\n",
       "<text text-anchor=\"middle\" x=\"2078\" y=\"-622.2\" font-family=\"Helvetica,sans-Serif\" font-size=\"14.00\">value = [0, 4]</text>\n",
       "</g>\n",
       "<!-- 64&#45;&gt;65 -->\n",
       "<g id=\"edge65\" class=\"edge\">\n",
       "<title>64&#45;&gt;65</title>\n",
       "<path fill=\"none\" stroke=\"black\" d=\"M2101.54,-712.6C2097.99,-702.25 2094.06,-690.8 2090.44,-680.27\"/>\n",
       "<polygon fill=\"black\" stroke=\"black\" points=\"2093.87,-679.46 2087.31,-671.14 2087.25,-681.73 2093.87,-679.46\"/>\n",
       "</g>\n",
       "<!-- 66 -->\n",
       "<g id=\"node67\" class=\"node\">\n",
       "<title>66</title>\n",
       "<polygon fill=\"#efb388\" stroke=\"black\" points=\"2375.38,-677 2142.62,-677 2142.62,-609 2375.38,-609 2375.38,-677\"/>\n",
       "<text text-anchor=\"middle\" x=\"2259\" y=\"-659.7\" font-family=\"Helvetica,sans-Serif\" font-size=\"14.00\">DiabetesPedigreeFunction &lt;= 0.705</text>\n",
       "<text text-anchor=\"middle\" x=\"2259\" y=\"-644.7\" font-family=\"Helvetica,sans-Serif\" font-size=\"14.00\">gini = 0.408</text>\n",
       "<text text-anchor=\"middle\" x=\"2259\" y=\"-629.7\" font-family=\"Helvetica,sans-Serif\" font-size=\"14.00\">samples = 7</text>\n",
       "<text text-anchor=\"middle\" x=\"2259\" y=\"-614.7\" font-family=\"Helvetica,sans-Serif\" font-size=\"14.00\">value = [5, 2]</text>\n",
       "</g>\n",
       "<!-- 64&#45;&gt;66 -->\n",
       "<g id=\"edge66\" class=\"edge\">\n",
       "<title>64&#45;&gt;66</title>\n",
       "<path fill=\"none\" stroke=\"black\" d=\"M2160.81,-712.6C2173.91,-703.44 2188.26,-693.42 2201.83,-683.94\"/>\n",
       "<polygon fill=\"black\" stroke=\"black\" points=\"2203.65,-686.94 2209.85,-678.34 2199.64,-681.2 2203.65,-686.94\"/>\n",
       "</g>\n",
       "<!-- 67 -->\n",
       "<g id=\"node68\" class=\"node\">\n",
       "<title>67</title>\n",
       "<polygon fill=\"#ea9a61\" stroke=\"black\" points=\"2292.62,-573 2139.38,-573 2139.38,-505 2292.62,-505 2292.62,-573\"/>\n",
       "<text text-anchor=\"middle\" x=\"2216\" y=\"-555.7\" font-family=\"Helvetica,sans-Serif\" font-size=\"14.00\">SkinThickness &lt;= 25.5</text>\n",
       "<text text-anchor=\"middle\" x=\"2216\" y=\"-540.7\" font-family=\"Helvetica,sans-Serif\" font-size=\"14.00\">gini = 0.278</text>\n",
       "<text text-anchor=\"middle\" x=\"2216\" y=\"-525.7\" font-family=\"Helvetica,sans-Serif\" font-size=\"14.00\">samples = 6</text>\n",
       "<text text-anchor=\"middle\" x=\"2216\" y=\"-510.7\" font-family=\"Helvetica,sans-Serif\" font-size=\"14.00\">value = [5, 1]</text>\n",
       "</g>\n",
       "<!-- 66&#45;&gt;67 -->\n",
       "<g id=\"edge67\" class=\"edge\">\n",
       "<title>66&#45;&gt;67</title>\n",
       "<path fill=\"none\" stroke=\"black\" d=\"M2244.92,-608.6C2241.62,-600.76 2238.05,-592.29 2234.58,-584.07\"/>\n",
       "<polygon fill=\"black\" stroke=\"black\" points=\"2237.81,-582.72 2230.7,-574.87 2231.36,-585.44 2237.81,-582.72\"/>\n",
       "</g>\n",
       "<!-- 72 -->\n",
       "<g id=\"node73\" class=\"node\">\n",
       "<title>72</title>\n",
       "<polygon fill=\"#399de5\" stroke=\"black\" points=\"2405,-565.5 2311,-565.5 2311,-512.5 2405,-512.5 2405,-565.5\"/>\n",
       "<text text-anchor=\"middle\" x=\"2358\" y=\"-548.2\" font-family=\"Helvetica,sans-Serif\" font-size=\"14.00\">gini = 0.0</text>\n",
       "<text text-anchor=\"middle\" x=\"2358\" y=\"-533.2\" font-family=\"Helvetica,sans-Serif\" font-size=\"14.00\">samples = 1</text>\n",
       "<text text-anchor=\"middle\" x=\"2358\" y=\"-518.2\" font-family=\"Helvetica,sans-Serif\" font-size=\"14.00\">value = [0, 1]</text>\n",
       "</g>\n",
       "<!-- 66&#45;&gt;72 -->\n",
       "<g id=\"edge72\" class=\"edge\">\n",
       "<title>66&#45;&gt;72</title>\n",
       "<path fill=\"none\" stroke=\"black\" d=\"M2291.42,-608.6C2302.2,-597.49 2314.22,-585.11 2325.04,-573.95\"/>\n",
       "<polygon fill=\"black\" stroke=\"black\" points=\"2327.54,-576.41 2332,-566.79 2322.52,-571.53 2327.54,-576.41\"/>\n",
       "</g>\n",
       "<!-- 68 -->\n",
       "<g id=\"node69\" class=\"node\">\n",
       "<title>68</title>\n",
       "<polygon fill=\"#ffffff\" stroke=\"black\" points=\"2243.38,-469 2088.62,-469 2088.62,-401 2243.38,-401 2243.38,-469\"/>\n",
       "<text text-anchor=\"middle\" x=\"2166\" y=\"-451.7\" font-family=\"Helvetica,sans-Serif\" font-size=\"14.00\">BloodPressure &lt;= 65.0</text>\n",
       "<text text-anchor=\"middle\" x=\"2166\" y=\"-436.7\" font-family=\"Helvetica,sans-Serif\" font-size=\"14.00\">gini = 0.5</text>\n",
       "<text text-anchor=\"middle\" x=\"2166\" y=\"-421.7\" font-family=\"Helvetica,sans-Serif\" font-size=\"14.00\">samples = 2</text>\n",
       "<text text-anchor=\"middle\" x=\"2166\" y=\"-406.7\" font-family=\"Helvetica,sans-Serif\" font-size=\"14.00\">value = [1, 1]</text>\n",
       "</g>\n",
       "<!-- 67&#45;&gt;68 -->\n",
       "<g id=\"edge68\" class=\"edge\">\n",
       "<title>67&#45;&gt;68</title>\n",
       "<path fill=\"none\" stroke=\"black\" d=\"M2199.63,-504.6C2195.74,-496.68 2191.54,-488.1 2187.47,-479.79\"/>\n",
       "<polygon fill=\"black\" stroke=\"black\" points=\"2190.62,-478.27 2183.07,-470.83 2184.33,-481.35 2190.62,-478.27\"/>\n",
       "</g>\n",
       "<!-- 71 -->\n",
       "<g id=\"node72\" class=\"node\">\n",
       "<title>71</title>\n",
       "<polygon fill=\"#e58139\" stroke=\"black\" points=\"2355,-461.5 2261,-461.5 2261,-408.5 2355,-408.5 2355,-461.5\"/>\n",
       "<text text-anchor=\"middle\" x=\"2308\" y=\"-444.2\" font-family=\"Helvetica,sans-Serif\" font-size=\"14.00\">gini = 0.0</text>\n",
       "<text text-anchor=\"middle\" x=\"2308\" y=\"-429.2\" font-family=\"Helvetica,sans-Serif\" font-size=\"14.00\">samples = 4</text>\n",
       "<text text-anchor=\"middle\" x=\"2308\" y=\"-414.2\" font-family=\"Helvetica,sans-Serif\" font-size=\"14.00\">value = [4, 0]</text>\n",
       "</g>\n",
       "<!-- 67&#45;&gt;71 -->\n",
       "<g id=\"edge71\" class=\"edge\">\n",
       "<title>67&#45;&gt;71</title>\n",
       "<path fill=\"none\" stroke=\"black\" d=\"M2246.12,-504.6C2256.15,-493.49 2267.31,-481.11 2277.37,-469.95\"/>\n",
       "<polygon fill=\"black\" stroke=\"black\" points=\"2279.7,-472.6 2283.8,-462.83 2274.5,-467.91 2279.7,-472.6\"/>\n",
       "</g>\n",
       "<!-- 69 -->\n",
       "<g id=\"node70\" class=\"node\">\n",
       "<title>69</title>\n",
       "<polygon fill=\"#e58139\" stroke=\"black\" points=\"2157,-357.5 2063,-357.5 2063,-304.5 2157,-304.5 2157,-357.5\"/>\n",
       "<text text-anchor=\"middle\" x=\"2110\" y=\"-340.2\" font-family=\"Helvetica,sans-Serif\" font-size=\"14.00\">gini = 0.0</text>\n",
       "<text text-anchor=\"middle\" x=\"2110\" y=\"-325.2\" font-family=\"Helvetica,sans-Serif\" font-size=\"14.00\">samples = 1</text>\n",
       "<text text-anchor=\"middle\" x=\"2110\" y=\"-310.2\" font-family=\"Helvetica,sans-Serif\" font-size=\"14.00\">value = [1, 0]</text>\n",
       "</g>\n",
       "<!-- 68&#45;&gt;69 -->\n",
       "<g id=\"edge69\" class=\"edge\">\n",
       "<title>68&#45;&gt;69</title>\n",
       "<path fill=\"none\" stroke=\"black\" d=\"M2147.66,-400.6C2141.86,-390.03 2135.43,-378.32 2129.55,-367.6\"/>\n",
       "<polygon fill=\"black\" stroke=\"black\" points=\"2132.72,-366.11 2124.84,-359.03 2126.59,-369.48 2132.72,-366.11\"/>\n",
       "</g>\n",
       "<!-- 70 -->\n",
       "<g id=\"node71\" class=\"node\">\n",
       "<title>70</title>\n",
       "<polygon fill=\"#399de5\" stroke=\"black\" points=\"2269,-357.5 2175,-357.5 2175,-304.5 2269,-304.5 2269,-357.5\"/>\n",
       "<text text-anchor=\"middle\" x=\"2222\" y=\"-340.2\" font-family=\"Helvetica,sans-Serif\" font-size=\"14.00\">gini = 0.0</text>\n",
       "<text text-anchor=\"middle\" x=\"2222\" y=\"-325.2\" font-family=\"Helvetica,sans-Serif\" font-size=\"14.00\">samples = 1</text>\n",
       "<text text-anchor=\"middle\" x=\"2222\" y=\"-310.2\" font-family=\"Helvetica,sans-Serif\" font-size=\"14.00\">value = [0, 1]</text>\n",
       "</g>\n",
       "<!-- 68&#45;&gt;70 -->\n",
       "<g id=\"edge70\" class=\"edge\">\n",
       "<title>68&#45;&gt;70</title>\n",
       "<path fill=\"none\" stroke=\"black\" d=\"M2184.34,-400.6C2190.14,-390.03 2196.57,-378.32 2202.45,-367.6\"/>\n",
       "<polygon fill=\"black\" stroke=\"black\" points=\"2205.41,-369.48 2207.16,-359.03 2199.28,-366.11 2205.41,-369.48\"/>\n",
       "</g>\n",
       "<!-- 75 -->\n",
       "<g id=\"node76\" class=\"node\">\n",
       "<title>75</title>\n",
       "<polygon fill=\"#49a5e7\" stroke=\"black\" points=\"2773.38,-1093 2630.62,-1093 2630.62,-1025 2773.38,-1025 2773.38,-1093\"/>\n",
       "<text text-anchor=\"middle\" x=\"2702\" y=\"-1075.7\" font-family=\"Helvetica,sans-Serif\" font-size=\"14.00\">Insulin_nan &lt;= 166.5</text>\n",
       "<text text-anchor=\"middle\" x=\"2702\" y=\"-1060.7\" font-family=\"Helvetica,sans-Serif\" font-size=\"14.00\">gini = 0.14</text>\n",
       "<text text-anchor=\"middle\" x=\"2702\" y=\"-1045.7\" font-family=\"Helvetica,sans-Serif\" font-size=\"14.00\">samples = 132</text>\n",
       "<text text-anchor=\"middle\" x=\"2702\" y=\"-1030.7\" font-family=\"Helvetica,sans-Serif\" font-size=\"14.00\">value = [10, 122]</text>\n",
       "</g>\n",
       "<!-- 74&#45;&gt;75 -->\n",
       "<g id=\"edge75\" class=\"edge\">\n",
       "<title>74&#45;&gt;75</title>\n",
       "<path fill=\"none\" stroke=\"black\" d=\"M2702,-1128.6C2702,-1121.03 2702,-1112.87 2702,-1104.9\"/>\n",
       "<polygon fill=\"black\" stroke=\"black\" points=\"2705.5,-1104.99 2702,-1094.99 2698.5,-1104.99 2705.5,-1104.99\"/>\n",
       "</g>\n",
       "<!-- 88 -->\n",
       "<g id=\"node89\" class=\"node\">\n",
       "<title>88</title>\n",
       "<polygon fill=\"#d4eaf9\" stroke=\"black\" points=\"3292,-1093 3168,-1093 3168,-1025 3292,-1025 3292,-1093\"/>\n",
       "<text text-anchor=\"middle\" x=\"3230\" y=\"-1075.7\" font-family=\"Helvetica,sans-Serif\" font-size=\"14.00\">Glucose &lt;= 156.5</text>\n",
       "<text text-anchor=\"middle\" x=\"3230\" y=\"-1060.7\" font-family=\"Helvetica,sans-Serif\" font-size=\"14.00\">gini = 0.493</text>\n",
       "<text text-anchor=\"middle\" x=\"3230\" y=\"-1045.7\" font-family=\"Helvetica,sans-Serif\" font-size=\"14.00\">samples = 98</text>\n",
       "<text text-anchor=\"middle\" x=\"3230\" y=\"-1030.7\" font-family=\"Helvetica,sans-Serif\" font-size=\"14.00\">value = [43, 55]</text>\n",
       "</g>\n",
       "<!-- 74&#45;&gt;88 -->\n",
       "<g id=\"edge88\" class=\"edge\">\n",
       "<title>74&#45;&gt;88</title>\n",
       "<path fill=\"none\" stroke=\"black\" d=\"M2777.37,-1147.44C2878.33,-1127.94 3056.34,-1093.55 3156.4,-1074.22\"/>\n",
       "<polygon fill=\"black\" stroke=\"black\" points=\"3156.97,-1077.67 3166.12,-1072.34 3155.64,-1070.8 3156.97,-1077.67\"/>\n",
       "</g>\n",
       "<!-- 76 -->\n",
       "<g id=\"node77\" class=\"node\">\n",
       "<title>76</title>\n",
       "<polygon fill=\"#cee6f8\" stroke=\"black\" points=\"2659.75,-989 2558.25,-989 2558.25,-921 2659.75,-921 2659.75,-989\"/>\n",
       "<text text-anchor=\"middle\" x=\"2609\" y=\"-971.7\" font-family=\"Helvetica,sans-Serif\" font-size=\"14.00\">Age &lt;= 29.0</text>\n",
       "<text text-anchor=\"middle\" x=\"2609\" y=\"-956.7\" font-family=\"Helvetica,sans-Serif\" font-size=\"14.00\">gini = 0.49</text>\n",
       "<text text-anchor=\"middle\" x=\"2609\" y=\"-941.7\" font-family=\"Helvetica,sans-Serif\" font-size=\"14.00\">samples = 21</text>\n",
       "<text text-anchor=\"middle\" x=\"2609\" y=\"-926.7\" font-family=\"Helvetica,sans-Serif\" font-size=\"14.00\">value = [9, 12]</text>\n",
       "</g>\n",
       "<!-- 75&#45;&gt;76 -->\n",
       "<g id=\"edge76\" class=\"edge\">\n",
       "<title>75&#45;&gt;76</title>\n",
       "<path fill=\"none\" stroke=\"black\" d=\"M2671.55,-1024.6C2663.76,-1016.06 2655.29,-1006.77 2647.17,-997.86\"/>\n",
       "<polygon fill=\"black\" stroke=\"black\" points=\"2649.86,-995.62 2640.54,-990.59 2644.69,-1000.34 2649.86,-995.62\"/>\n",
       "</g>\n",
       "<!-- 83 -->\n",
       "<g id=\"node84\" class=\"node\">\n",
       "<title>83</title>\n",
       "<polygon fill=\"#3b9ee5\" stroke=\"black\" points=\"2911.38,-989 2678.62,-989 2678.62,-921 2911.38,-921 2911.38,-989\"/>\n",
       "<text text-anchor=\"middle\" x=\"2795\" y=\"-971.7\" font-family=\"Helvetica,sans-Serif\" font-size=\"14.00\">DiabetesPedigreeFunction &lt;= 0.126</text>\n",
       "<text text-anchor=\"middle\" x=\"2795\" y=\"-956.7\" font-family=\"Helvetica,sans-Serif\" font-size=\"14.00\">gini = 0.018</text>\n",
       "<text text-anchor=\"middle\" x=\"2795\" y=\"-941.7\" font-family=\"Helvetica,sans-Serif\" font-size=\"14.00\">samples = 111</text>\n",
       "<text text-anchor=\"middle\" x=\"2795\" y=\"-926.7\" font-family=\"Helvetica,sans-Serif\" font-size=\"14.00\">value = [1, 110]</text>\n",
       "</g>\n",
       "<!-- 75&#45;&gt;83 -->\n",
       "<g id=\"edge83\" class=\"edge\">\n",
       "<title>75&#45;&gt;83</title>\n",
       "<path fill=\"none\" stroke=\"black\" d=\"M2732.45,-1024.6C2740.24,-1016.06 2748.71,-1006.77 2756.83,-997.86\"/>\n",
       "<polygon fill=\"black\" stroke=\"black\" points=\"2759.31,-1000.34 2763.46,-990.59 2754.14,-995.62 2759.31,-1000.34\"/>\n",
       "</g>\n",
       "<!-- 77 -->\n",
       "<g id=\"node78\" class=\"node\">\n",
       "<title>77</title>\n",
       "<polygon fill=\"#e89152\" stroke=\"black\" points=\"2513,-885 2389,-885 2389,-817 2513,-817 2513,-885\"/>\n",
       "<text text-anchor=\"middle\" x=\"2451\" y=\"-867.7\" font-family=\"Helvetica,sans-Serif\" font-size=\"14.00\">Glucose &lt;= 138.0</text>\n",
       "<text text-anchor=\"middle\" x=\"2451\" y=\"-852.7\" font-family=\"Helvetica,sans-Serif\" font-size=\"14.00\">gini = 0.198</text>\n",
       "<text text-anchor=\"middle\" x=\"2451\" y=\"-837.7\" font-family=\"Helvetica,sans-Serif\" font-size=\"14.00\">samples = 9</text>\n",
       "<text text-anchor=\"middle\" x=\"2451\" y=\"-822.7\" font-family=\"Helvetica,sans-Serif\" font-size=\"14.00\">value = [8, 1]</text>\n",
       "</g>\n",
       "<!-- 76&#45;&gt;77 -->\n",
       "<g id=\"edge77\" class=\"edge\">\n",
       "<title>76&#45;&gt;77</title>\n",
       "<path fill=\"none\" stroke=\"black\" d=\"M2558.14,-921.17C2543.5,-911.71 2527.37,-901.3 2512.17,-891.49\"/>\n",
       "<polygon fill=\"black\" stroke=\"black\" points=\"2514.42,-888.78 2504.12,-886.29 2510.63,-894.66 2514.42,-888.78\"/>\n",
       "</g>\n",
       "<!-- 80 -->\n",
       "<g id=\"node81\" class=\"node\">\n",
       "<title>80</title>\n",
       "<polygon fill=\"#4ba6e7\" stroke=\"black\" points=\"2685.62,-885 2532.38,-885 2532.38,-817 2685.62,-817 2685.62,-885\"/>\n",
       "<text text-anchor=\"middle\" x=\"2609\" y=\"-867.7\" font-family=\"Helvetica,sans-Serif\" font-size=\"14.00\">SkinThickness &lt;= 16.5</text>\n",
       "<text text-anchor=\"middle\" x=\"2609\" y=\"-852.7\" font-family=\"Helvetica,sans-Serif\" font-size=\"14.00\">gini = 0.153</text>\n",
       "<text text-anchor=\"middle\" x=\"2609\" y=\"-837.7\" font-family=\"Helvetica,sans-Serif\" font-size=\"14.00\">samples = 12</text>\n",
       "<text text-anchor=\"middle\" x=\"2609\" y=\"-822.7\" font-family=\"Helvetica,sans-Serif\" font-size=\"14.00\">value = [1, 11]</text>\n",
       "</g>\n",
       "<!-- 76&#45;&gt;80 -->\n",
       "<g id=\"edge80\" class=\"edge\">\n",
       "<title>76&#45;&gt;80</title>\n",
       "<path fill=\"none\" stroke=\"black\" d=\"M2609,-920.6C2609,-913.03 2609,-904.87 2609,-896.9\"/>\n",
       "<polygon fill=\"black\" stroke=\"black\" points=\"2612.5,-896.99 2609,-886.99 2605.5,-896.99 2612.5,-896.99\"/>\n",
       "</g>\n",
       "<!-- 78 -->\n",
       "<g id=\"node79\" class=\"node\">\n",
       "<title>78</title>\n",
       "<polygon fill=\"#e58139\" stroke=\"black\" points=\"2386,-773.5 2292,-773.5 2292,-720.5 2386,-720.5 2386,-773.5\"/>\n",
       "<text text-anchor=\"middle\" x=\"2339\" y=\"-756.2\" font-family=\"Helvetica,sans-Serif\" font-size=\"14.00\">gini = 0.0</text>\n",
       "<text text-anchor=\"middle\" x=\"2339\" y=\"-741.2\" font-family=\"Helvetica,sans-Serif\" font-size=\"14.00\">samples = 8</text>\n",
       "<text text-anchor=\"middle\" x=\"2339\" y=\"-726.2\" font-family=\"Helvetica,sans-Serif\" font-size=\"14.00\">value = [8, 0]</text>\n",
       "</g>\n",
       "<!-- 77&#45;&gt;78 -->\n",
       "<g id=\"edge78\" class=\"edge\">\n",
       "<title>77&#45;&gt;78</title>\n",
       "<path fill=\"none\" stroke=\"black\" d=\"M2414.33,-816.6C2401.89,-805.27 2388,-792.62 2375.56,-781.3\"/>\n",
       "<polygon fill=\"black\" stroke=\"black\" points=\"2378.1,-778.87 2368.35,-774.73 2373.38,-784.05 2378.1,-778.87\"/>\n",
       "</g>\n",
       "<!-- 79 -->\n",
       "<g id=\"node80\" class=\"node\">\n",
       "<title>79</title>\n",
       "<polygon fill=\"#399de5\" stroke=\"black\" points=\"2498,-773.5 2404,-773.5 2404,-720.5 2498,-720.5 2498,-773.5\"/>\n",
       "<text text-anchor=\"middle\" x=\"2451\" y=\"-756.2\" font-family=\"Helvetica,sans-Serif\" font-size=\"14.00\">gini = 0.0</text>\n",
       "<text text-anchor=\"middle\" x=\"2451\" y=\"-741.2\" font-family=\"Helvetica,sans-Serif\" font-size=\"14.00\">samples = 1</text>\n",
       "<text text-anchor=\"middle\" x=\"2451\" y=\"-726.2\" font-family=\"Helvetica,sans-Serif\" font-size=\"14.00\">value = [0, 1]</text>\n",
       "</g>\n",
       "<!-- 77&#45;&gt;79 -->\n",
       "<g id=\"edge79\" class=\"edge\">\n",
       "<title>77&#45;&gt;79</title>\n",
       "<path fill=\"none\" stroke=\"black\" d=\"M2451,-816.6C2451,-806.47 2451,-795.28 2451,-784.93\"/>\n",
       "<polygon fill=\"black\" stroke=\"black\" points=\"2454.5,-785.22 2451,-775.22 2447.5,-785.22 2454.5,-785.22\"/>\n",
       "</g>\n",
       "<!-- 81 -->\n",
       "<g id=\"node82\" class=\"node\">\n",
       "<title>81</title>\n",
       "<polygon fill=\"#e58139\" stroke=\"black\" points=\"2610,-773.5 2516,-773.5 2516,-720.5 2610,-720.5 2610,-773.5\"/>\n",
       "<text text-anchor=\"middle\" x=\"2563\" y=\"-756.2\" font-family=\"Helvetica,sans-Serif\" font-size=\"14.00\">gini = 0.0</text>\n",
       "<text text-anchor=\"middle\" x=\"2563\" y=\"-741.2\" font-family=\"Helvetica,sans-Serif\" font-size=\"14.00\">samples = 1</text>\n",
       "<text text-anchor=\"middle\" x=\"2563\" y=\"-726.2\" font-family=\"Helvetica,sans-Serif\" font-size=\"14.00\">value = [1, 0]</text>\n",
       "</g>\n",
       "<!-- 80&#45;&gt;81 -->\n",
       "<g id=\"edge81\" class=\"edge\">\n",
       "<title>80&#45;&gt;81</title>\n",
       "<path fill=\"none\" stroke=\"black\" d=\"M2593.94,-816.6C2589.22,-806.14 2584,-794.56 2579.21,-783.93\"/>\n",
       "<polygon fill=\"black\" stroke=\"black\" points=\"2582.52,-782.76 2575.22,-775.09 2576.14,-785.64 2582.52,-782.76\"/>\n",
       "</g>\n",
       "<!-- 82 -->\n",
       "<g id=\"node83\" class=\"node\">\n",
       "<title>82</title>\n",
       "<polygon fill=\"#399de5\" stroke=\"black\" points=\"2729.75,-773.5 2628.25,-773.5 2628.25,-720.5 2729.75,-720.5 2729.75,-773.5\"/>\n",
       "<text text-anchor=\"middle\" x=\"2679\" y=\"-756.2\" font-family=\"Helvetica,sans-Serif\" font-size=\"14.00\">gini = 0.0</text>\n",
       "<text text-anchor=\"middle\" x=\"2679\" y=\"-741.2\" font-family=\"Helvetica,sans-Serif\" font-size=\"14.00\">samples = 11</text>\n",
       "<text text-anchor=\"middle\" x=\"2679\" y=\"-726.2\" font-family=\"Helvetica,sans-Serif\" font-size=\"14.00\">value = [0, 11]</text>\n",
       "</g>\n",
       "<!-- 80&#45;&gt;82 -->\n",
       "<g id=\"edge82\" class=\"edge\">\n",
       "<title>80&#45;&gt;82</title>\n",
       "<path fill=\"none\" stroke=\"black\" d=\"M2631.92,-816.6C2639.32,-805.82 2647.54,-793.83 2655.02,-782.94\"/>\n",
       "<polygon fill=\"black\" stroke=\"black\" points=\"2657.73,-785.18 2660.5,-774.95 2651.96,-781.22 2657.73,-785.18\"/>\n",
       "</g>\n",
       "<!-- 84 -->\n",
       "<g id=\"node85\" class=\"node\">\n",
       "<title>84</title>\n",
       "<polygon fill=\"#9ccef2\" stroke=\"black\" points=\"2872.38,-885 2717.62,-885 2717.62,-817 2872.38,-817 2872.38,-885\"/>\n",
       "<text text-anchor=\"middle\" x=\"2795\" y=\"-867.7\" font-family=\"Helvetica,sans-Serif\" font-size=\"14.00\">BloodPressure &lt;= 73.0</text>\n",
       "<text text-anchor=\"middle\" x=\"2795\" y=\"-852.7\" font-family=\"Helvetica,sans-Serif\" font-size=\"14.00\">gini = 0.444</text>\n",
       "<text text-anchor=\"middle\" x=\"2795\" y=\"-837.7\" font-family=\"Helvetica,sans-Serif\" font-size=\"14.00\">samples = 3</text>\n",
       "<text text-anchor=\"middle\" x=\"2795\" y=\"-822.7\" font-family=\"Helvetica,sans-Serif\" font-size=\"14.00\">value = [1, 2]</text>\n",
       "</g>\n",
       "<!-- 83&#45;&gt;84 -->\n",
       "<g id=\"edge84\" class=\"edge\">\n",
       "<title>83&#45;&gt;84</title>\n",
       "<path fill=\"none\" stroke=\"black\" d=\"M2795,-920.6C2795,-913.03 2795,-904.87 2795,-896.9\"/>\n",
       "<polygon fill=\"black\" stroke=\"black\" points=\"2798.5,-896.99 2795,-886.99 2791.5,-896.99 2798.5,-896.99\"/>\n",
       "</g>\n",
       "<!-- 87 -->\n",
       "<g id=\"node88\" class=\"node\">\n",
       "<title>87</title>\n",
       "<polygon fill=\"#399de5\" stroke=\"black\" points=\"2999.5,-877.5 2890.5,-877.5 2890.5,-824.5 2999.5,-824.5 2999.5,-877.5\"/>\n",
       "<text text-anchor=\"middle\" x=\"2945\" y=\"-860.2\" font-family=\"Helvetica,sans-Serif\" font-size=\"14.00\">gini = 0.0</text>\n",
       "<text text-anchor=\"middle\" x=\"2945\" y=\"-845.2\" font-family=\"Helvetica,sans-Serif\" font-size=\"14.00\">samples = 108</text>\n",
       "<text text-anchor=\"middle\" x=\"2945\" y=\"-830.2\" font-family=\"Helvetica,sans-Serif\" font-size=\"14.00\">value = [0, 108]</text>\n",
       "</g>\n",
       "<!-- 83&#45;&gt;87 -->\n",
       "<g id=\"edge87\" class=\"edge\">\n",
       "<title>83&#45;&gt;87</title>\n",
       "<path fill=\"none\" stroke=\"black\" d=\"M2844.12,-920.6C2861.42,-908.84 2880.81,-895.65 2897.94,-884\"/>\n",
       "<polygon fill=\"black\" stroke=\"black\" points=\"2899.64,-887.07 2905.95,-878.56 2895.71,-881.29 2899.64,-887.07\"/>\n",
       "</g>\n",
       "<!-- 85 -->\n",
       "<g id=\"node86\" class=\"node\">\n",
       "<title>85</title>\n",
       "<polygon fill=\"#e58139\" stroke=\"black\" points=\"2842,-773.5 2748,-773.5 2748,-720.5 2842,-720.5 2842,-773.5\"/>\n",
       "<text text-anchor=\"middle\" x=\"2795\" y=\"-756.2\" font-family=\"Helvetica,sans-Serif\" font-size=\"14.00\">gini = 0.0</text>\n",
       "<text text-anchor=\"middle\" x=\"2795\" y=\"-741.2\" font-family=\"Helvetica,sans-Serif\" font-size=\"14.00\">samples = 1</text>\n",
       "<text text-anchor=\"middle\" x=\"2795\" y=\"-726.2\" font-family=\"Helvetica,sans-Serif\" font-size=\"14.00\">value = [1, 0]</text>\n",
       "</g>\n",
       "<!-- 84&#45;&gt;85 -->\n",
       "<g id=\"edge85\" class=\"edge\">\n",
       "<title>84&#45;&gt;85</title>\n",
       "<path fill=\"none\" stroke=\"black\" d=\"M2795,-816.6C2795,-806.47 2795,-795.28 2795,-784.93\"/>\n",
       "<polygon fill=\"black\" stroke=\"black\" points=\"2798.5,-785.22 2795,-775.22 2791.5,-785.22 2798.5,-785.22\"/>\n",
       "</g>\n",
       "<!-- 86 -->\n",
       "<g id=\"node87\" class=\"node\">\n",
       "<title>86</title>\n",
       "<polygon fill=\"#399de5\" stroke=\"black\" points=\"2954,-773.5 2860,-773.5 2860,-720.5 2954,-720.5 2954,-773.5\"/>\n",
       "<text text-anchor=\"middle\" x=\"2907\" y=\"-756.2\" font-family=\"Helvetica,sans-Serif\" font-size=\"14.00\">gini = 0.0</text>\n",
       "<text text-anchor=\"middle\" x=\"2907\" y=\"-741.2\" font-family=\"Helvetica,sans-Serif\" font-size=\"14.00\">samples = 2</text>\n",
       "<text text-anchor=\"middle\" x=\"2907\" y=\"-726.2\" font-family=\"Helvetica,sans-Serif\" font-size=\"14.00\">value = [0, 2]</text>\n",
       "</g>\n",
       "<!-- 84&#45;&gt;86 -->\n",
       "<g id=\"edge86\" class=\"edge\">\n",
       "<title>84&#45;&gt;86</title>\n",
       "<path fill=\"none\" stroke=\"black\" d=\"M2831.67,-816.6C2844.11,-805.27 2858,-792.62 2870.44,-781.3\"/>\n",
       "<polygon fill=\"black\" stroke=\"black\" points=\"2872.62,-784.05 2877.65,-774.73 2867.9,-778.87 2872.62,-784.05\"/>\n",
       "</g>\n",
       "<!-- 89 -->\n",
       "<g id=\"node90\" class=\"node\">\n",
       "<title>89</title>\n",
       "<polygon fill=\"#f7d6bf\" stroke=\"black\" points=\"3284.5,-989 3175.5,-989 3175.5,-921 3284.5,-921 3284.5,-989\"/>\n",
       "<text text-anchor=\"middle\" x=\"3230\" y=\"-971.7\" font-family=\"Helvetica,sans-Serif\" font-size=\"14.00\">Age &lt;= 28.5</text>\n",
       "<text text-anchor=\"middle\" x=\"3230\" y=\"-956.7\" font-family=\"Helvetica,sans-Serif\" font-size=\"14.00\">gini = 0.481</text>\n",
       "<text text-anchor=\"middle\" x=\"3230\" y=\"-941.7\" font-family=\"Helvetica,sans-Serif\" font-size=\"14.00\">samples = 67</text>\n",
       "<text text-anchor=\"middle\" x=\"3230\" y=\"-926.7\" font-family=\"Helvetica,sans-Serif\" font-size=\"14.00\">value = [40, 27]</text>\n",
       "</g>\n",
       "<!-- 88&#45;&gt;89 -->\n",
       "<g id=\"edge89\" class=\"edge\">\n",
       "<title>88&#45;&gt;89</title>\n",
       "<path fill=\"none\" stroke=\"black\" d=\"M3230,-1024.6C3230,-1017.03 3230,-1008.87 3230,-1000.9\"/>\n",
       "<polygon fill=\"black\" stroke=\"black\" points=\"3233.5,-1000.99 3230,-990.99 3226.5,-1000.99 3233.5,-1000.99\"/>\n",
       "</g>\n",
       "<!-- 118 -->\n",
       "<g id=\"node119\" class=\"node\">\n",
       "<title>118</title>\n",
       "<polygon fill=\"#4ea8e8\" stroke=\"black\" points=\"3669.75,-989 3568.25,-989 3568.25,-921 3669.75,-921 3669.75,-989\"/>\n",
       "<text text-anchor=\"middle\" x=\"3619\" y=\"-971.7\" font-family=\"Helvetica,sans-Serif\" font-size=\"14.00\">BMI &lt;= 45.95</text>\n",
       "<text text-anchor=\"middle\" x=\"3619\" y=\"-956.7\" font-family=\"Helvetica,sans-Serif\" font-size=\"14.00\">gini = 0.175</text>\n",
       "<text text-anchor=\"middle\" x=\"3619\" y=\"-941.7\" font-family=\"Helvetica,sans-Serif\" font-size=\"14.00\">samples = 31</text>\n",
       "<text text-anchor=\"middle\" x=\"3619\" y=\"-926.7\" font-family=\"Helvetica,sans-Serif\" font-size=\"14.00\">value = [3, 28]</text>\n",
       "</g>\n",
       "<!-- 88&#45;&gt;118 -->\n",
       "<g id=\"edge118\" class=\"edge\">\n",
       "<title>88&#45;&gt;118</title>\n",
       "<path fill=\"none\" stroke=\"black\" d=\"M3292.5,-1041.61C3365.22,-1022.54 3484.57,-991.25 3557.05,-972.24\"/>\n",
       "<polygon fill=\"black\" stroke=\"black\" points=\"3557.58,-975.72 3566.37,-969.8 3555.81,-968.95 3557.58,-975.72\"/>\n",
       "</g>\n",
       "<!-- 90 -->\n",
       "<g id=\"node91\" class=\"node\">\n",
       "<title>90</title>\n",
       "<polygon fill=\"#e9965a\" stroke=\"black\" points=\"3212.38,-885 3057.62,-885 3057.62,-817 3212.38,-817 3212.38,-885\"/>\n",
       "<text text-anchor=\"middle\" x=\"3135\" y=\"-867.7\" font-family=\"Helvetica,sans-Serif\" font-size=\"14.00\">BloodPressure &lt;= 53.0</text>\n",
       "<text text-anchor=\"middle\" x=\"3135\" y=\"-852.7\" font-family=\"Helvetica,sans-Serif\" font-size=\"14.00\">gini = 0.245</text>\n",
       "<text text-anchor=\"middle\" x=\"3135\" y=\"-837.7\" font-family=\"Helvetica,sans-Serif\" font-size=\"14.00\">samples = 28</text>\n",
       "<text text-anchor=\"middle\" x=\"3135\" y=\"-822.7\" font-family=\"Helvetica,sans-Serif\" font-size=\"14.00\">value = [24, 4]</text>\n",
       "</g>\n",
       "<!-- 89&#45;&gt;90 -->\n",
       "<g id=\"edge90\" class=\"edge\">\n",
       "<title>89&#45;&gt;90</title>\n",
       "<path fill=\"none\" stroke=\"black\" d=\"M3198.89,-920.6C3190.94,-912.06 3182.28,-902.77 3173.99,-893.86\"/>\n",
       "<polygon fill=\"black\" stroke=\"black\" points=\"3176.58,-891.51 3167.21,-886.58 3171.46,-896.28 3176.58,-891.51\"/>\n",
       "</g>\n",
       "<!-- 99 -->\n",
       "<g id=\"node100\" class=\"node\">\n",
       "<title>99</title>\n",
       "<polygon fill=\"#c3e1f7\" stroke=\"black\" points=\"3380.5,-885 3271.5,-885 3271.5,-817 3380.5,-817 3380.5,-885\"/>\n",
       "<text text-anchor=\"middle\" x=\"3326\" y=\"-867.7\" font-family=\"Helvetica,sans-Serif\" font-size=\"14.00\">BMI &lt;= 38.95</text>\n",
       "<text text-anchor=\"middle\" x=\"3326\" y=\"-852.7\" font-family=\"Helvetica,sans-Serif\" font-size=\"14.00\">gini = 0.484</text>\n",
       "<text text-anchor=\"middle\" x=\"3326\" y=\"-837.7\" font-family=\"Helvetica,sans-Serif\" font-size=\"14.00\">samples = 39</text>\n",
       "<text text-anchor=\"middle\" x=\"3326\" y=\"-822.7\" font-family=\"Helvetica,sans-Serif\" font-size=\"14.00\">value = [16, 23]</text>\n",
       "</g>\n",
       "<!-- 89&#45;&gt;99 -->\n",
       "<g id=\"edge99\" class=\"edge\">\n",
       "<title>89&#45;&gt;99</title>\n",
       "<path fill=\"none\" stroke=\"black\" d=\"M3261.43,-920.6C3269.56,-911.97 3278.4,-902.58 3286.86,-893.58\"/>\n",
       "<polygon fill=\"black\" stroke=\"black\" points=\"3289.15,-896.26 3293.46,-886.58 3284.06,-891.46 3289.15,-896.26\"/>\n",
       "</g>\n",
       "<!-- 91 -->\n",
       "<g id=\"node92\" class=\"node\">\n",
       "<title>91</title>\n",
       "<polygon fill=\"#399de5\" stroke=\"black\" points=\"3066,-773.5 2972,-773.5 2972,-720.5 3066,-720.5 3066,-773.5\"/>\n",
       "<text text-anchor=\"middle\" x=\"3019\" y=\"-756.2\" font-family=\"Helvetica,sans-Serif\" font-size=\"14.00\">gini = 0.0</text>\n",
       "<text text-anchor=\"middle\" x=\"3019\" y=\"-741.2\" font-family=\"Helvetica,sans-Serif\" font-size=\"14.00\">samples = 1</text>\n",
       "<text text-anchor=\"middle\" x=\"3019\" y=\"-726.2\" font-family=\"Helvetica,sans-Serif\" font-size=\"14.00\">value = [0, 1]</text>\n",
       "</g>\n",
       "<!-- 90&#45;&gt;91 -->\n",
       "<g id=\"edge91\" class=\"edge\">\n",
       "<title>90&#45;&gt;91</title>\n",
       "<path fill=\"none\" stroke=\"black\" d=\"M3097.02,-816.6C3084.13,-805.27 3069.75,-792.62 3056.87,-781.3\"/>\n",
       "<polygon fill=\"black\" stroke=\"black\" points=\"3059.19,-778.68 3049.37,-774.71 3054.57,-783.94 3059.19,-778.68\"/>\n",
       "</g>\n",
       "<!-- 92 -->\n",
       "<g id=\"node93\" class=\"node\">\n",
       "<title>92</title>\n",
       "<polygon fill=\"#e89152\" stroke=\"black\" points=\"3185.75,-781 3084.25,-781 3084.25,-713 3185.75,-713 3185.75,-781\"/>\n",
       "<text text-anchor=\"middle\" x=\"3135\" y=\"-763.7\" font-family=\"Helvetica,sans-Serif\" font-size=\"14.00\">Age &lt;= 23.5</text>\n",
       "<text text-anchor=\"middle\" x=\"3135\" y=\"-748.7\" font-family=\"Helvetica,sans-Serif\" font-size=\"14.00\">gini = 0.198</text>\n",
       "<text text-anchor=\"middle\" x=\"3135\" y=\"-733.7\" font-family=\"Helvetica,sans-Serif\" font-size=\"14.00\">samples = 27</text>\n",
       "<text text-anchor=\"middle\" x=\"3135\" y=\"-718.7\" font-family=\"Helvetica,sans-Serif\" font-size=\"14.00\">value = [24, 3]</text>\n",
       "</g>\n",
       "<!-- 90&#45;&gt;92 -->\n",
       "<g id=\"edge92\" class=\"edge\">\n",
       "<title>90&#45;&gt;92</title>\n",
       "<path fill=\"none\" stroke=\"black\" d=\"M3135,-816.6C3135,-809.03 3135,-800.87 3135,-792.9\"/>\n",
       "<polygon fill=\"black\" stroke=\"black\" points=\"3138.5,-792.99 3135,-782.99 3131.5,-792.99 3138.5,-792.99\"/>\n",
       "</g>\n",
       "<!-- 93 -->\n",
       "<g id=\"node94\" class=\"node\">\n",
       "<title>93</title>\n",
       "<polygon fill=\"#e58139\" stroke=\"black\" points=\"3054.75,-669.5 2953.25,-669.5 2953.25,-616.5 3054.75,-616.5 3054.75,-669.5\"/>\n",
       "<text text-anchor=\"middle\" x=\"3004\" y=\"-652.2\" font-family=\"Helvetica,sans-Serif\" font-size=\"14.00\">gini = 0.0</text>\n",
       "<text text-anchor=\"middle\" x=\"3004\" y=\"-637.2\" font-family=\"Helvetica,sans-Serif\" font-size=\"14.00\">samples = 14</text>\n",
       "<text text-anchor=\"middle\" x=\"3004\" y=\"-622.2\" font-family=\"Helvetica,sans-Serif\" font-size=\"14.00\">value = [14, 0]</text>\n",
       "</g>\n",
       "<!-- 92&#45;&gt;93 -->\n",
       "<g id=\"edge93\" class=\"edge\">\n",
       "<title>92&#45;&gt;93</title>\n",
       "<path fill=\"none\" stroke=\"black\" d=\"M3092.11,-712.6C3077.28,-701.05 3060.68,-688.13 3045.93,-676.65\"/>\n",
       "<polygon fill=\"black\" stroke=\"black\" points=\"3048.25,-674.02 3038.21,-670.64 3043.95,-679.54 3048.25,-674.02\"/>\n",
       "</g>\n",
       "<!-- 94 -->\n",
       "<g id=\"node95\" class=\"node\">\n",
       "<title>94</title>\n",
       "<polygon fill=\"#eda774\" stroke=\"black\" points=\"3197,-677 3073,-677 3073,-609 3197,-609 3197,-677\"/>\n",
       "<text text-anchor=\"middle\" x=\"3135\" y=\"-659.7\" font-family=\"Helvetica,sans-Serif\" font-size=\"14.00\">Glucose &lt;= 127.5</text>\n",
       "<text text-anchor=\"middle\" x=\"3135\" y=\"-644.7\" font-family=\"Helvetica,sans-Serif\" font-size=\"14.00\">gini = 0.355</text>\n",
       "<text text-anchor=\"middle\" x=\"3135\" y=\"-629.7\" font-family=\"Helvetica,sans-Serif\" font-size=\"14.00\">samples = 13</text>\n",
       "<text text-anchor=\"middle\" x=\"3135\" y=\"-614.7\" font-family=\"Helvetica,sans-Serif\" font-size=\"14.00\">value = [10, 3]</text>\n",
       "</g>\n",
       "<!-- 92&#45;&gt;94 -->\n",
       "<g id=\"edge94\" class=\"edge\">\n",
       "<title>92&#45;&gt;94</title>\n",
       "<path fill=\"none\" stroke=\"black\" d=\"M3135,-712.6C3135,-705.03 3135,-696.87 3135,-688.9\"/>\n",
       "<polygon fill=\"black\" stroke=\"black\" points=\"3138.5,-688.99 3135,-678.99 3131.5,-688.99 3138.5,-688.99\"/>\n",
       "</g>\n",
       "<!-- 95 -->\n",
       "<g id=\"node96\" class=\"node\">\n",
       "<title>95</title>\n",
       "<polygon fill=\"#e58139\" stroke=\"black\" points=\"3055,-565.5 2961,-565.5 2961,-512.5 3055,-512.5 3055,-565.5\"/>\n",
       "<text text-anchor=\"middle\" x=\"3008\" y=\"-548.2\" font-family=\"Helvetica,sans-Serif\" font-size=\"14.00\">gini = 0.0</text>\n",
       "<text text-anchor=\"middle\" x=\"3008\" y=\"-533.2\" font-family=\"Helvetica,sans-Serif\" font-size=\"14.00\">samples = 8</text>\n",
       "<text text-anchor=\"middle\" x=\"3008\" y=\"-518.2\" font-family=\"Helvetica,sans-Serif\" font-size=\"14.00\">value = [8, 0]</text>\n",
       "</g>\n",
       "<!-- 94&#45;&gt;95 -->\n",
       "<g id=\"edge95\" class=\"edge\">\n",
       "<title>94&#45;&gt;95</title>\n",
       "<path fill=\"none\" stroke=\"black\" d=\"M3093.42,-608.6C3079.04,-597.05 3062.95,-584.13 3048.65,-572.65\"/>\n",
       "<polygon fill=\"black\" stroke=\"black\" points=\"3051.17,-570.19 3041.19,-566.65 3046.79,-575.64 3051.17,-570.19\"/>\n",
       "</g>\n",
       "<!-- 96 -->\n",
       "<g id=\"node97\" class=\"node\">\n",
       "<title>96</title>\n",
       "<polygon fill=\"#bddef6\" stroke=\"black\" points=\"3197,-573 3073,-573 3073,-505 3197,-505 3197,-573\"/>\n",
       "<text text-anchor=\"middle\" x=\"3135\" y=\"-555.7\" font-family=\"Helvetica,sans-Serif\" font-size=\"14.00\">Glucose &lt;= 135.5</text>\n",
       "<text text-anchor=\"middle\" x=\"3135\" y=\"-540.7\" font-family=\"Helvetica,sans-Serif\" font-size=\"14.00\">gini = 0.48</text>\n",
       "<text text-anchor=\"middle\" x=\"3135\" y=\"-525.7\" font-family=\"Helvetica,sans-Serif\" font-size=\"14.00\">samples = 5</text>\n",
       "<text text-anchor=\"middle\" x=\"3135\" y=\"-510.7\" font-family=\"Helvetica,sans-Serif\" font-size=\"14.00\">value = [2, 3]</text>\n",
       "</g>\n",
       "<!-- 94&#45;&gt;96 -->\n",
       "<g id=\"edge96\" class=\"edge\">\n",
       "<title>94&#45;&gt;96</title>\n",
       "<path fill=\"none\" stroke=\"black\" d=\"M3135,-608.6C3135,-601.03 3135,-592.87 3135,-584.9\"/>\n",
       "<polygon fill=\"black\" stroke=\"black\" points=\"3138.5,-584.99 3135,-574.99 3131.5,-584.99 3138.5,-584.99\"/>\n",
       "</g>\n",
       "<!-- 97 -->\n",
       "<g id=\"node98\" class=\"node\">\n",
       "<title>97</title>\n",
       "<polygon fill=\"#399de5\" stroke=\"black\" points=\"3069,-461.5 2975,-461.5 2975,-408.5 3069,-408.5 3069,-461.5\"/>\n",
       "<text text-anchor=\"middle\" x=\"3022\" y=\"-444.2\" font-family=\"Helvetica,sans-Serif\" font-size=\"14.00\">gini = 0.0</text>\n",
       "<text text-anchor=\"middle\" x=\"3022\" y=\"-429.2\" font-family=\"Helvetica,sans-Serif\" font-size=\"14.00\">samples = 3</text>\n",
       "<text text-anchor=\"middle\" x=\"3022\" y=\"-414.2\" font-family=\"Helvetica,sans-Serif\" font-size=\"14.00\">value = [0, 3]</text>\n",
       "</g>\n",
       "<!-- 96&#45;&gt;97 -->\n",
       "<g id=\"edge97\" class=\"edge\">\n",
       "<title>96&#45;&gt;97</title>\n",
       "<path fill=\"none\" stroke=\"black\" d=\"M3098,-504.6C3085.45,-493.27 3071.43,-480.62 3058.89,-469.3\"/>\n",
       "<polygon fill=\"black\" stroke=\"black\" points=\"3061.37,-466.82 3051.6,-462.72 3056.68,-472.02 3061.37,-466.82\"/>\n",
       "</g>\n",
       "<!-- 98 -->\n",
       "<g id=\"node99\" class=\"node\">\n",
       "<title>98</title>\n",
       "<polygon fill=\"#e58139\" stroke=\"black\" points=\"3181,-461.5 3087,-461.5 3087,-408.5 3181,-408.5 3181,-461.5\"/>\n",
       "<text text-anchor=\"middle\" x=\"3134\" y=\"-444.2\" font-family=\"Helvetica,sans-Serif\" font-size=\"14.00\">gini = 0.0</text>\n",
       "<text text-anchor=\"middle\" x=\"3134\" y=\"-429.2\" font-family=\"Helvetica,sans-Serif\" font-size=\"14.00\">samples = 2</text>\n",
       "<text text-anchor=\"middle\" x=\"3134\" y=\"-414.2\" font-family=\"Helvetica,sans-Serif\" font-size=\"14.00\">value = [2, 0]</text>\n",
       "</g>\n",
       "<!-- 96&#45;&gt;98 -->\n",
       "<g id=\"edge98\" class=\"edge\">\n",
       "<title>96&#45;&gt;98</title>\n",
       "<path fill=\"none\" stroke=\"black\" d=\"M3134.67,-504.6C3134.57,-494.47 3134.46,-483.28 3134.36,-472.93\"/>\n",
       "<polygon fill=\"black\" stroke=\"black\" points=\"3137.86,-473.18 3134.27,-463.22 3130.87,-473.25 3137.86,-473.18\"/>\n",
       "</g>\n",
       "<!-- 100 -->\n",
       "<g id=\"node101\" class=\"node\">\n",
       "<title>100</title>\n",
       "<polygon fill=\"#fcefe6\" stroke=\"black\" points=\"3442.38,-781 3209.62,-781 3209.62,-713 3442.38,-713 3442.38,-781\"/>\n",
       "<text text-anchor=\"middle\" x=\"3326\" y=\"-763.7\" font-family=\"Helvetica,sans-Serif\" font-size=\"14.00\">DiabetesPedigreeFunction &lt;= 0.857</text>\n",
       "<text text-anchor=\"middle\" x=\"3326\" y=\"-748.7\" font-family=\"Helvetica,sans-Serif\" font-size=\"14.00\">gini = 0.498</text>\n",
       "<text text-anchor=\"middle\" x=\"3326\" y=\"-733.7\" font-family=\"Helvetica,sans-Serif\" font-size=\"14.00\">samples = 30</text>\n",
       "<text text-anchor=\"middle\" x=\"3326\" y=\"-718.7\" font-family=\"Helvetica,sans-Serif\" font-size=\"14.00\">value = [16, 14]</text>\n",
       "</g>\n",
       "<!-- 99&#45;&gt;100 -->\n",
       "<g id=\"edge100\" class=\"edge\">\n",
       "<title>99&#45;&gt;100</title>\n",
       "<path fill=\"none\" stroke=\"black\" d=\"M3326,-816.6C3326,-809.03 3326,-800.87 3326,-792.9\"/>\n",
       "<polygon fill=\"black\" stroke=\"black\" points=\"3329.5,-792.99 3326,-782.99 3322.5,-792.99 3329.5,-792.99\"/>\n",
       "</g>\n",
       "<!-- 117 -->\n",
       "<g id=\"node118\" class=\"node\">\n",
       "<title>117</title>\n",
       "<polygon fill=\"#399de5\" stroke=\"black\" points=\"3554,-773.5 3460,-773.5 3460,-720.5 3554,-720.5 3554,-773.5\"/>\n",
       "<text text-anchor=\"middle\" x=\"3507\" y=\"-756.2\" font-family=\"Helvetica,sans-Serif\" font-size=\"14.00\">gini = 0.0</text>\n",
       "<text text-anchor=\"middle\" x=\"3507\" y=\"-741.2\" font-family=\"Helvetica,sans-Serif\" font-size=\"14.00\">samples = 9</text>\n",
       "<text text-anchor=\"middle\" x=\"3507\" y=\"-726.2\" font-family=\"Helvetica,sans-Serif\" font-size=\"14.00\">value = [0, 9]</text>\n",
       "</g>\n",
       "<!-- 99&#45;&gt;117 -->\n",
       "<g id=\"edge117\" class=\"edge\">\n",
       "<title>99&#45;&gt;117</title>\n",
       "<path fill=\"none\" stroke=\"black\" d=\"M3380.95,-820.1C3402.82,-808.09 3428.18,-794.02 3451,-781 3451.88,-780.5 3452.77,-779.99 3453.66,-779.48\"/>\n",
       "<polygon fill=\"black\" stroke=\"black\" points=\"3455.13,-782.67 3462.04,-774.64 3451.63,-776.61 3455.13,-782.67\"/>\n",
       "</g>\n",
       "<!-- 101 -->\n",
       "<g id=\"node102\" class=\"node\">\n",
       "<title>101</title>\n",
       "<polygon fill=\"#f3c4a3\" stroke=\"black\" points=\"3404.38,-677 3249.62,-677 3249.62,-609 3404.38,-609 3404.38,-677\"/>\n",
       "<text text-anchor=\"middle\" x=\"3327\" y=\"-659.7\" font-family=\"Helvetica,sans-Serif\" font-size=\"14.00\">BloodPressure &lt;= 77.0</text>\n",
       "<text text-anchor=\"middle\" x=\"3327\" y=\"-644.7\" font-family=\"Helvetica,sans-Serif\" font-size=\"14.00\">gini = 0.454</text>\n",
       "<text text-anchor=\"middle\" x=\"3327\" y=\"-629.7\" font-family=\"Helvetica,sans-Serif\" font-size=\"14.00\">samples = 23</text>\n",
       "<text text-anchor=\"middle\" x=\"3327\" y=\"-614.7\" font-family=\"Helvetica,sans-Serif\" font-size=\"14.00\">value = [15, 8]</text>\n",
       "</g>\n",
       "<!-- 100&#45;&gt;101 -->\n",
       "<g id=\"edge101\" class=\"edge\">\n",
       "<title>100&#45;&gt;101</title>\n",
       "<path fill=\"none\" stroke=\"black\" d=\"M3326.33,-712.6C3326.4,-705.03 3326.48,-696.87 3326.56,-688.9\"/>\n",
       "<polygon fill=\"black\" stroke=\"black\" points=\"3330.06,-689.02 3326.66,-678.99 3323.06,-688.95 3330.06,-689.02\"/>\n",
       "</g>\n",
       "<!-- 114 -->\n",
       "<g id=\"node115\" class=\"node\">\n",
       "<title>114</title>\n",
       "<polygon fill=\"#5aade9\" stroke=\"black\" points=\"3657.25,-677 3558.75,-677 3558.75,-609 3657.25,-609 3657.25,-677\"/>\n",
       "<text text-anchor=\"middle\" x=\"3608\" y=\"-659.7\" font-family=\"Helvetica,sans-Serif\" font-size=\"14.00\">BMI &lt;= 25.55</text>\n",
       "<text text-anchor=\"middle\" x=\"3608\" y=\"-644.7\" font-family=\"Helvetica,sans-Serif\" font-size=\"14.00\">gini = 0.245</text>\n",
       "<text text-anchor=\"middle\" x=\"3608\" y=\"-629.7\" font-family=\"Helvetica,sans-Serif\" font-size=\"14.00\">samples = 7</text>\n",
       "<text text-anchor=\"middle\" x=\"3608\" y=\"-614.7\" font-family=\"Helvetica,sans-Serif\" font-size=\"14.00\">value = [1, 6]</text>\n",
       "</g>\n",
       "<!-- 100&#45;&gt;114 -->\n",
       "<g id=\"edge114\" class=\"edge\">\n",
       "<title>100&#45;&gt;114</title>\n",
       "<path fill=\"none\" stroke=\"black\" d=\"M3418.34,-712.6C3460.88,-697.21 3510.16,-679.39 3547.83,-665.77\"/>\n",
       "<polygon fill=\"black\" stroke=\"black\" points=\"3548.99,-669.07 3557.2,-662.37 3546.6,-662.48 3548.99,-669.07\"/>\n",
       "</g>\n",
       "<!-- 102 -->\n",
       "<g id=\"node103\" class=\"node\">\n",
       "<title>102</title>\n",
       "<polygon fill=\"#eca06a\" stroke=\"black\" points=\"3398.38,-573 3255.62,-573 3255.62,-505 3398.38,-505 3398.38,-573\"/>\n",
       "<text text-anchor=\"middle\" x=\"3327\" y=\"-555.7\" font-family=\"Helvetica,sans-Serif\" font-size=\"14.00\">Insulin_nan &lt;= 305.5</text>\n",
       "<text text-anchor=\"middle\" x=\"3327\" y=\"-540.7\" font-family=\"Helvetica,sans-Serif\" font-size=\"14.00\">gini = 0.32</text>\n",
       "<text text-anchor=\"middle\" x=\"3327\" y=\"-525.7\" font-family=\"Helvetica,sans-Serif\" font-size=\"14.00\">samples = 15</text>\n",
       "<text text-anchor=\"middle\" x=\"3327\" y=\"-510.7\" font-family=\"Helvetica,sans-Serif\" font-size=\"14.00\">value = [12, 3]</text>\n",
       "</g>\n",
       "<!-- 101&#45;&gt;102 -->\n",
       "<g id=\"edge102\" class=\"edge\">\n",
       "<title>101&#45;&gt;102</title>\n",
       "<path fill=\"none\" stroke=\"black\" d=\"M3327,-608.6C3327,-601.03 3327,-592.87 3327,-584.9\"/>\n",
       "<polygon fill=\"black\" stroke=\"black\" points=\"3330.5,-584.99 3327,-574.99 3323.5,-584.99 3330.5,-584.99\"/>\n",
       "</g>\n",
       "<!-- 107 -->\n",
       "<g id=\"node108\" class=\"node\">\n",
       "<title>107</title>\n",
       "<polygon fill=\"#b0d8f5\" stroke=\"black\" points=\"3543,-573 3419,-573 3419,-505 3543,-505 3543,-573\"/>\n",
       "<text text-anchor=\"middle\" x=\"3481\" y=\"-555.7\" font-family=\"Helvetica,sans-Serif\" font-size=\"14.00\">Glucose &lt;= 117.5</text>\n",
       "<text text-anchor=\"middle\" x=\"3481\" y=\"-540.7\" font-family=\"Helvetica,sans-Serif\" font-size=\"14.00\">gini = 0.469</text>\n",
       "<text text-anchor=\"middle\" x=\"3481\" y=\"-525.7\" font-family=\"Helvetica,sans-Serif\" font-size=\"14.00\">samples = 8</text>\n",
       "<text text-anchor=\"middle\" x=\"3481\" y=\"-510.7\" font-family=\"Helvetica,sans-Serif\" font-size=\"14.00\">value = [3, 5]</text>\n",
       "</g>\n",
       "<!-- 101&#45;&gt;107 -->\n",
       "<g id=\"edge107\" class=\"edge\">\n",
       "<title>101&#45;&gt;107</title>\n",
       "<path fill=\"none\" stroke=\"black\" d=\"M3377.43,-608.6C3391.39,-599.36 3406.67,-589.23 3421.12,-579.66\"/>\n",
       "<polygon fill=\"black\" stroke=\"black\" points=\"3422.8,-582.75 3429.2,-574.31 3418.93,-576.91 3422.8,-582.75\"/>\n",
       "</g>\n",
       "<!-- 103 -->\n",
       "<g id=\"node104\" class=\"node\">\n",
       "<title>103</title>\n",
       "<polygon fill=\"#e58139\" stroke=\"black\" points=\"3300.75,-461.5 3199.25,-461.5 3199.25,-408.5 3300.75,-408.5 3300.75,-461.5\"/>\n",
       "<text text-anchor=\"middle\" x=\"3250\" y=\"-444.2\" font-family=\"Helvetica,sans-Serif\" font-size=\"14.00\">gini = 0.0</text>\n",
       "<text text-anchor=\"middle\" x=\"3250\" y=\"-429.2\" font-family=\"Helvetica,sans-Serif\" font-size=\"14.00\">samples = 10</text>\n",
       "<text text-anchor=\"middle\" x=\"3250\" y=\"-414.2\" font-family=\"Helvetica,sans-Serif\" font-size=\"14.00\">value = [10, 0]</text>\n",
       "</g>\n",
       "<!-- 102&#45;&gt;103 -->\n",
       "<g id=\"edge103\" class=\"edge\">\n",
       "<title>102&#45;&gt;103</title>\n",
       "<path fill=\"none\" stroke=\"black\" d=\"M3301.79,-504.6C3293.56,-493.71 3284.42,-481.59 3276.13,-470.61\"/>\n",
       "<polygon fill=\"black\" stroke=\"black\" points=\"3279.14,-468.79 3270.32,-462.91 3273.55,-473 3279.14,-468.79\"/>\n",
       "</g>\n",
       "<!-- 104 -->\n",
       "<g id=\"node105\" class=\"node\">\n",
       "<title>104</title>\n",
       "<polygon fill=\"#bddef6\" stroke=\"black\" points=\"3417.25,-469 3318.75,-469 3318.75,-401 3417.25,-401 3417.25,-469\"/>\n",
       "<text text-anchor=\"middle\" x=\"3368\" y=\"-451.7\" font-family=\"Helvetica,sans-Serif\" font-size=\"14.00\">BMI &lt;= 34.35</text>\n",
       "<text text-anchor=\"middle\" x=\"3368\" y=\"-436.7\" font-family=\"Helvetica,sans-Serif\" font-size=\"14.00\">gini = 0.48</text>\n",
       "<text text-anchor=\"middle\" x=\"3368\" y=\"-421.7\" font-family=\"Helvetica,sans-Serif\" font-size=\"14.00\">samples = 5</text>\n",
       "<text text-anchor=\"middle\" x=\"3368\" y=\"-406.7\" font-family=\"Helvetica,sans-Serif\" font-size=\"14.00\">value = [2, 3]</text>\n",
       "</g>\n",
       "<!-- 102&#45;&gt;104 -->\n",
       "<g id=\"edge104\" class=\"edge\">\n",
       "<title>102&#45;&gt;104</title>\n",
       "<path fill=\"none\" stroke=\"black\" d=\"M3340.42,-504.6C3343.58,-496.76 3346.98,-488.29 3350.29,-480.07\"/>\n",
       "<polygon fill=\"black\" stroke=\"black\" points=\"3353.5,-481.46 3353.98,-470.88 3347,-478.85 3353.5,-481.46\"/>\n",
       "</g>\n",
       "<!-- 105 -->\n",
       "<g id=\"node106\" class=\"node\">\n",
       "<title>105</title>\n",
       "<polygon fill=\"#399de5\" stroke=\"black\" points=\"3310,-357.5 3216,-357.5 3216,-304.5 3310,-304.5 3310,-357.5\"/>\n",
       "<text text-anchor=\"middle\" x=\"3263\" y=\"-340.2\" font-family=\"Helvetica,sans-Serif\" font-size=\"14.00\">gini = 0.0</text>\n",
       "<text text-anchor=\"middle\" x=\"3263\" y=\"-325.2\" font-family=\"Helvetica,sans-Serif\" font-size=\"14.00\">samples = 3</text>\n",
       "<text text-anchor=\"middle\" x=\"3263\" y=\"-310.2\" font-family=\"Helvetica,sans-Serif\" font-size=\"14.00\">value = [0, 3]</text>\n",
       "</g>\n",
       "<!-- 104&#45;&gt;105 -->\n",
       "<g id=\"edge105\" class=\"edge\">\n",
       "<title>104&#45;&gt;105</title>\n",
       "<path fill=\"none\" stroke=\"black\" d=\"M3333.62,-400.6C3322.07,-389.38 3309.18,-376.86 3297.62,-365.63\"/>\n",
       "<polygon fill=\"black\" stroke=\"black\" points=\"3300.16,-363.22 3290.55,-358.76 3295.28,-368.24 3300.16,-363.22\"/>\n",
       "</g>\n",
       "<!-- 106 -->\n",
       "<g id=\"node107\" class=\"node\">\n",
       "<title>106</title>\n",
       "<polygon fill=\"#e58139\" stroke=\"black\" points=\"3422,-357.5 3328,-357.5 3328,-304.5 3422,-304.5 3422,-357.5\"/>\n",
       "<text text-anchor=\"middle\" x=\"3375\" y=\"-340.2\" font-family=\"Helvetica,sans-Serif\" font-size=\"14.00\">gini = 0.0</text>\n",
       "<text text-anchor=\"middle\" x=\"3375\" y=\"-325.2\" font-family=\"Helvetica,sans-Serif\" font-size=\"14.00\">samples = 2</text>\n",
       "<text text-anchor=\"middle\" x=\"3375\" y=\"-310.2\" font-family=\"Helvetica,sans-Serif\" font-size=\"14.00\">value = [2, 0]</text>\n",
       "</g>\n",
       "<!-- 104&#45;&gt;106 -->\n",
       "<g id=\"edge106\" class=\"edge\">\n",
       "<title>104&#45;&gt;106</title>\n",
       "<path fill=\"none\" stroke=\"black\" d=\"M3370.29,-400.6C3370.99,-390.47 3371.76,-379.28 3372.47,-368.93\"/>\n",
       "<polygon fill=\"black\" stroke=\"black\" points=\"3375.94,-369.43 3373.13,-359.22 3368.96,-368.95 3375.94,-369.43\"/>\n",
       "</g>\n",
       "<!-- 108 -->\n",
       "<g id=\"node109\" class=\"node\">\n",
       "<title>108</title>\n",
       "<polygon fill=\"#399de5\" stroke=\"black\" points=\"3529,-461.5 3435,-461.5 3435,-408.5 3529,-408.5 3529,-461.5\"/>\n",
       "<text text-anchor=\"middle\" x=\"3482\" y=\"-444.2\" font-family=\"Helvetica,sans-Serif\" font-size=\"14.00\">gini = 0.0</text>\n",
       "<text text-anchor=\"middle\" x=\"3482\" y=\"-429.2\" font-family=\"Helvetica,sans-Serif\" font-size=\"14.00\">samples = 4</text>\n",
       "<text text-anchor=\"middle\" x=\"3482\" y=\"-414.2\" font-family=\"Helvetica,sans-Serif\" font-size=\"14.00\">value = [0, 4]</text>\n",
       "</g>\n",
       "<!-- 107&#45;&gt;108 -->\n",
       "<g id=\"edge108\" class=\"edge\">\n",
       "<title>107&#45;&gt;108</title>\n",
       "<path fill=\"none\" stroke=\"black\" d=\"M3481.33,-504.6C3481.43,-494.47 3481.54,-483.28 3481.64,-472.93\"/>\n",
       "<polygon fill=\"black\" stroke=\"black\" points=\"3485.13,-473.25 3481.73,-463.22 3478.14,-473.18 3485.13,-473.25\"/>\n",
       "</g>\n",
       "<!-- 109 -->\n",
       "<g id=\"node110\" class=\"node\">\n",
       "<title>109</title>\n",
       "<polygon fill=\"#eeab7b\" stroke=\"black\" points=\"3671,-469 3547,-469 3547,-401 3671,-401 3671,-469\"/>\n",
       "<text text-anchor=\"middle\" x=\"3609\" y=\"-451.7\" font-family=\"Helvetica,sans-Serif\" font-size=\"14.00\">Glucose &lt;= 136.5</text>\n",
       "<text text-anchor=\"middle\" x=\"3609\" y=\"-436.7\" font-family=\"Helvetica,sans-Serif\" font-size=\"14.00\">gini = 0.375</text>\n",
       "<text text-anchor=\"middle\" x=\"3609\" y=\"-421.7\" font-family=\"Helvetica,sans-Serif\" font-size=\"14.00\">samples = 4</text>\n",
       "<text text-anchor=\"middle\" x=\"3609\" y=\"-406.7\" font-family=\"Helvetica,sans-Serif\" font-size=\"14.00\">value = [3, 1]</text>\n",
       "</g>\n",
       "<!-- 107&#45;&gt;109 -->\n",
       "<g id=\"edge109\" class=\"edge\">\n",
       "<title>107&#45;&gt;109</title>\n",
       "<path fill=\"none\" stroke=\"black\" d=\"M3522.91,-504.6C3534.18,-495.62 3546.5,-485.81 3558.2,-476.49\"/>\n",
       "<polygon fill=\"black\" stroke=\"black\" points=\"3560.17,-479.39 3565.81,-470.42 3555.81,-473.91 3560.17,-479.39\"/>\n",
       "</g>\n",
       "<!-- 110 -->\n",
       "<g id=\"node111\" class=\"node\">\n",
       "<title>110</title>\n",
       "<polygon fill=\"#e58139\" stroke=\"black\" points=\"3599,-357.5 3505,-357.5 3505,-304.5 3599,-304.5 3599,-357.5\"/>\n",
       "<text text-anchor=\"middle\" x=\"3552\" y=\"-340.2\" font-family=\"Helvetica,sans-Serif\" font-size=\"14.00\">gini = 0.0</text>\n",
       "<text text-anchor=\"middle\" x=\"3552\" y=\"-325.2\" font-family=\"Helvetica,sans-Serif\" font-size=\"14.00\">samples = 2</text>\n",
       "<text text-anchor=\"middle\" x=\"3552\" y=\"-310.2\" font-family=\"Helvetica,sans-Serif\" font-size=\"14.00\">value = [2, 0]</text>\n",
       "</g>\n",
       "<!-- 109&#45;&gt;110 -->\n",
       "<g id=\"edge110\" class=\"edge\">\n",
       "<title>109&#45;&gt;110</title>\n",
       "<path fill=\"none\" stroke=\"black\" d=\"M3590.34,-400.6C3584.43,-390.03 3577.88,-378.32 3571.9,-367.6\"/>\n",
       "<polygon fill=\"black\" stroke=\"black\" points=\"3575.04,-366.05 3567.1,-359.03 3568.93,-369.46 3575.04,-366.05\"/>\n",
       "</g>\n",
       "<!-- 111 -->\n",
       "<g id=\"node112\" class=\"node\">\n",
       "<title>111</title>\n",
       "<polygon fill=\"#ffffff\" stroke=\"black\" points=\"3715.25,-365 3616.75,-365 3616.75,-297 3715.25,-297 3715.25,-365\"/>\n",
       "<text text-anchor=\"middle\" x=\"3666\" y=\"-347.7\" font-family=\"Helvetica,sans-Serif\" font-size=\"14.00\">BMI &lt;= 35.35</text>\n",
       "<text text-anchor=\"middle\" x=\"3666\" y=\"-332.7\" font-family=\"Helvetica,sans-Serif\" font-size=\"14.00\">gini = 0.5</text>\n",
       "<text text-anchor=\"middle\" x=\"3666\" y=\"-317.7\" font-family=\"Helvetica,sans-Serif\" font-size=\"14.00\">samples = 2</text>\n",
       "<text text-anchor=\"middle\" x=\"3666\" y=\"-302.7\" font-family=\"Helvetica,sans-Serif\" font-size=\"14.00\">value = [1, 1]</text>\n",
       "</g>\n",
       "<!-- 109&#45;&gt;111 -->\n",
       "<g id=\"edge111\" class=\"edge\">\n",
       "<title>109&#45;&gt;111</title>\n",
       "<path fill=\"none\" stroke=\"black\" d=\"M3627.66,-400.6C3632.14,-392.59 3636.99,-383.91 3641.68,-375.52\"/>\n",
       "<polygon fill=\"black\" stroke=\"black\" points=\"3644.73,-377.23 3646.56,-366.79 3638.62,-373.82 3644.73,-377.23\"/>\n",
       "</g>\n",
       "<!-- 112 -->\n",
       "<g id=\"node113\" class=\"node\">\n",
       "<title>112</title>\n",
       "<polygon fill=\"#399de5\" stroke=\"black\" points=\"3657,-253.5 3563,-253.5 3563,-200.5 3657,-200.5 3657,-253.5\"/>\n",
       "<text text-anchor=\"middle\" x=\"3610\" y=\"-236.2\" font-family=\"Helvetica,sans-Serif\" font-size=\"14.00\">gini = 0.0</text>\n",
       "<text text-anchor=\"middle\" x=\"3610\" y=\"-221.2\" font-family=\"Helvetica,sans-Serif\" font-size=\"14.00\">samples = 1</text>\n",
       "<text text-anchor=\"middle\" x=\"3610\" y=\"-206.2\" font-family=\"Helvetica,sans-Serif\" font-size=\"14.00\">value = [0, 1]</text>\n",
       "</g>\n",
       "<!-- 111&#45;&gt;112 -->\n",
       "<g id=\"edge112\" class=\"edge\">\n",
       "<title>111&#45;&gt;112</title>\n",
       "<path fill=\"none\" stroke=\"black\" d=\"M3647.66,-296.6C3641.86,-286.03 3635.43,-274.32 3629.55,-263.6\"/>\n",
       "<polygon fill=\"black\" stroke=\"black\" points=\"3632.72,-262.11 3624.84,-255.03 3626.59,-265.48 3632.72,-262.11\"/>\n",
       "</g>\n",
       "<!-- 113 -->\n",
       "<g id=\"node114\" class=\"node\">\n",
       "<title>113</title>\n",
       "<polygon fill=\"#e58139\" stroke=\"black\" points=\"3769,-253.5 3675,-253.5 3675,-200.5 3769,-200.5 3769,-253.5\"/>\n",
       "<text text-anchor=\"middle\" x=\"3722\" y=\"-236.2\" font-family=\"Helvetica,sans-Serif\" font-size=\"14.00\">gini = 0.0</text>\n",
       "<text text-anchor=\"middle\" x=\"3722\" y=\"-221.2\" font-family=\"Helvetica,sans-Serif\" font-size=\"14.00\">samples = 1</text>\n",
       "<text text-anchor=\"middle\" x=\"3722\" y=\"-206.2\" font-family=\"Helvetica,sans-Serif\" font-size=\"14.00\">value = [1, 0]</text>\n",
       "</g>\n",
       "<!-- 111&#45;&gt;113 -->\n",
       "<g id=\"edge113\" class=\"edge\">\n",
       "<title>111&#45;&gt;113</title>\n",
       "<path fill=\"none\" stroke=\"black\" d=\"M3684.34,-296.6C3690.14,-286.03 3696.57,-274.32 3702.45,-263.6\"/>\n",
       "<polygon fill=\"black\" stroke=\"black\" points=\"3705.41,-265.48 3707.16,-255.03 3699.28,-262.11 3705.41,-265.48\"/>\n",
       "</g>\n",
       "<!-- 115 -->\n",
       "<g id=\"node116\" class=\"node\">\n",
       "<title>115</title>\n",
       "<polygon fill=\"#e58139\" stroke=\"black\" points=\"3655,-565.5 3561,-565.5 3561,-512.5 3655,-512.5 3655,-565.5\"/>\n",
       "<text text-anchor=\"middle\" x=\"3608\" y=\"-548.2\" font-family=\"Helvetica,sans-Serif\" font-size=\"14.00\">gini = 0.0</text>\n",
       "<text text-anchor=\"middle\" x=\"3608\" y=\"-533.2\" font-family=\"Helvetica,sans-Serif\" font-size=\"14.00\">samples = 1</text>\n",
       "<text text-anchor=\"middle\" x=\"3608\" y=\"-518.2\" font-family=\"Helvetica,sans-Serif\" font-size=\"14.00\">value = [1, 0]</text>\n",
       "</g>\n",
       "<!-- 114&#45;&gt;115 -->\n",
       "<g id=\"edge115\" class=\"edge\">\n",
       "<title>114&#45;&gt;115</title>\n",
       "<path fill=\"none\" stroke=\"black\" d=\"M3608,-608.6C3608,-598.47 3608,-587.28 3608,-576.93\"/>\n",
       "<polygon fill=\"black\" stroke=\"black\" points=\"3611.5,-577.22 3608,-567.22 3604.5,-577.22 3611.5,-577.22\"/>\n",
       "</g>\n",
       "<!-- 116 -->\n",
       "<g id=\"node117\" class=\"node\">\n",
       "<title>116</title>\n",
       "<polygon fill=\"#399de5\" stroke=\"black\" points=\"3767,-565.5 3673,-565.5 3673,-512.5 3767,-512.5 3767,-565.5\"/>\n",
       "<text text-anchor=\"middle\" x=\"3720\" y=\"-548.2\" font-family=\"Helvetica,sans-Serif\" font-size=\"14.00\">gini = 0.0</text>\n",
       "<text text-anchor=\"middle\" x=\"3720\" y=\"-533.2\" font-family=\"Helvetica,sans-Serif\" font-size=\"14.00\">samples = 6</text>\n",
       "<text text-anchor=\"middle\" x=\"3720\" y=\"-518.2\" font-family=\"Helvetica,sans-Serif\" font-size=\"14.00\">value = [0, 6]</text>\n",
       "</g>\n",
       "<!-- 114&#45;&gt;116 -->\n",
       "<g id=\"edge116\" class=\"edge\">\n",
       "<title>114&#45;&gt;116</title>\n",
       "<path fill=\"none\" stroke=\"black\" d=\"M3644.67,-608.6C3657.11,-597.27 3671,-584.62 3683.44,-573.3\"/>\n",
       "<polygon fill=\"black\" stroke=\"black\" points=\"3685.62,-576.05 3690.65,-566.73 3680.9,-570.87 3685.62,-576.05\"/>\n",
       "</g>\n",
       "<!-- 119 -->\n",
       "<g id=\"node120\" class=\"node\">\n",
       "<title>119</title>\n",
       "<polygon fill=\"#40a0e6\" stroke=\"black\" points=\"3696.38,-885 3541.62,-885 3541.62,-817 3696.38,-817 3696.38,-885\"/>\n",
       "<text text-anchor=\"middle\" x=\"3619\" y=\"-867.7\" font-family=\"Helvetica,sans-Serif\" font-size=\"14.00\">BloodPressure &lt;= 52.0</text>\n",
       "<text text-anchor=\"middle\" x=\"3619\" y=\"-852.7\" font-family=\"Helvetica,sans-Serif\" font-size=\"14.00\">gini = 0.067</text>\n",
       "<text text-anchor=\"middle\" x=\"3619\" y=\"-837.7\" font-family=\"Helvetica,sans-Serif\" font-size=\"14.00\">samples = 29</text>\n",
       "<text text-anchor=\"middle\" x=\"3619\" y=\"-822.7\" font-family=\"Helvetica,sans-Serif\" font-size=\"14.00\">value = [1, 28]</text>\n",
       "</g>\n",
       "<!-- 118&#45;&gt;119 -->\n",
       "<g id=\"edge119\" class=\"edge\">\n",
       "<title>118&#45;&gt;119</title>\n",
       "<path fill=\"none\" stroke=\"black\" d=\"M3619,-920.6C3619,-913.03 3619,-904.87 3619,-896.9\"/>\n",
       "<polygon fill=\"black\" stroke=\"black\" points=\"3622.5,-896.99 3619,-886.99 3615.5,-896.99 3622.5,-896.99\"/>\n",
       "</g>\n",
       "<!-- 122 -->\n",
       "<g id=\"node123\" class=\"node\">\n",
       "<title>122</title>\n",
       "<polygon fill=\"#e58139\" stroke=\"black\" points=\"3808,-877.5 3714,-877.5 3714,-824.5 3808,-824.5 3808,-877.5\"/>\n",
       "<text text-anchor=\"middle\" x=\"3761\" y=\"-860.2\" font-family=\"Helvetica,sans-Serif\" font-size=\"14.00\">gini = 0.0</text>\n",
       "<text text-anchor=\"middle\" x=\"3761\" y=\"-845.2\" font-family=\"Helvetica,sans-Serif\" font-size=\"14.00\">samples = 2</text>\n",
       "<text text-anchor=\"middle\" x=\"3761\" y=\"-830.2\" font-family=\"Helvetica,sans-Serif\" font-size=\"14.00\">value = [2, 0]</text>\n",
       "</g>\n",
       "<!-- 118&#45;&gt;122 -->\n",
       "<g id=\"edge122\" class=\"edge\">\n",
       "<title>118&#45;&gt;122</title>\n",
       "<path fill=\"none\" stroke=\"black\" d=\"M3665.5,-920.6C3681.72,-908.94 3699.9,-895.89 3716,-884.32\"/>\n",
       "<polygon fill=\"black\" stroke=\"black\" points=\"3717.9,-887.27 3723.98,-878.59 3713.82,-881.58 3717.9,-887.27\"/>\n",
       "</g>\n",
       "<!-- 120 -->\n",
       "<g id=\"node121\" class=\"node\">\n",
       "<title>120</title>\n",
       "<polygon fill=\"#e58139\" stroke=\"black\" points=\"3666,-773.5 3572,-773.5 3572,-720.5 3666,-720.5 3666,-773.5\"/>\n",
       "<text text-anchor=\"middle\" x=\"3619\" y=\"-756.2\" font-family=\"Helvetica,sans-Serif\" font-size=\"14.00\">gini = 0.0</text>\n",
       "<text text-anchor=\"middle\" x=\"3619\" y=\"-741.2\" font-family=\"Helvetica,sans-Serif\" font-size=\"14.00\">samples = 1</text>\n",
       "<text text-anchor=\"middle\" x=\"3619\" y=\"-726.2\" font-family=\"Helvetica,sans-Serif\" font-size=\"14.00\">value = [1, 0]</text>\n",
       "</g>\n",
       "<!-- 119&#45;&gt;120 -->\n",
       "<g id=\"edge120\" class=\"edge\">\n",
       "<title>119&#45;&gt;120</title>\n",
       "<path fill=\"none\" stroke=\"black\" d=\"M3619,-816.6C3619,-806.47 3619,-795.28 3619,-784.93\"/>\n",
       "<polygon fill=\"black\" stroke=\"black\" points=\"3622.5,-785.22 3619,-775.22 3615.5,-785.22 3622.5,-785.22\"/>\n",
       "</g>\n",
       "<!-- 121 -->\n",
       "<g id=\"node122\" class=\"node\">\n",
       "<title>121</title>\n",
       "<polygon fill=\"#399de5\" stroke=\"black\" points=\"3785.75,-773.5 3684.25,-773.5 3684.25,-720.5 3785.75,-720.5 3785.75,-773.5\"/>\n",
       "<text text-anchor=\"middle\" x=\"3735\" y=\"-756.2\" font-family=\"Helvetica,sans-Serif\" font-size=\"14.00\">gini = 0.0</text>\n",
       "<text text-anchor=\"middle\" x=\"3735\" y=\"-741.2\" font-family=\"Helvetica,sans-Serif\" font-size=\"14.00\">samples = 28</text>\n",
       "<text text-anchor=\"middle\" x=\"3735\" y=\"-726.2\" font-family=\"Helvetica,sans-Serif\" font-size=\"14.00\">value = [0, 28]</text>\n",
       "</g>\n",
       "<!-- 119&#45;&gt;121 -->\n",
       "<g id=\"edge121\" class=\"edge\">\n",
       "<title>119&#45;&gt;121</title>\n",
       "<path fill=\"none\" stroke=\"black\" d=\"M3656.98,-816.6C3669.87,-805.27 3684.25,-792.62 3697.13,-781.3\"/>\n",
       "<polygon fill=\"black\" stroke=\"black\" points=\"3699.43,-783.94 3704.63,-774.71 3694.81,-778.68 3699.43,-783.94\"/>\n",
       "</g>\n",
       "</g>\n",
       "</svg>\n"
      ],
      "text/plain": [
       "<graphviz.sources.Source at 0x7fac766d8df0>"
      ]
     },
     "execution_count": 52,
     "metadata": {},
     "output_type": "execute_result"
    }
   ],
   "source": [
    "# graphviz를 통해 시각화 합니다.\n",
    "\n",
    "import graphviz\n",
    "from sklearn.tree import export_graphviz\n",
    "\n",
    "dot_tree = export_graphviz(model, feature_names=feature_names, filled=True)\n",
    "graphviz.Source(dot_tree)"
   ]
  },
  {
   "cell_type": "code",
   "execution_count": 53,
   "id": "c2c98bf7",
   "metadata": {},
   "outputs": [
    {
     "data": {
      "text/plain": [
       "array([0.09487231, 0.04389988, 0.03507233, 0.08068411, 0.03818837,\n",
       "       0.07366808, 0.        , 0.63361492, 0.        ])"
      ]
     },
     "execution_count": 53,
     "metadata": {},
     "output_type": "execute_result"
    }
   ],
   "source": [
    "# feature의 중요도를 추출하기\n",
    "\n",
    "model.feature_importances_"
   ]
  },
  {
   "cell_type": "code",
   "execution_count": 54,
   "id": "9b6229c9",
   "metadata": {},
   "outputs": [
    {
     "data": {
      "text/plain": [
       "<AxesSubplot:>"
      ]
     },
     "execution_count": 54,
     "metadata": {},
     "output_type": "execute_result"
    },
    {
     "data": {
      "image/png": "[encoded data removed]",
      "text/plain": [
       "<Figure size 432x288 with 1 Axes>"
      ]
     },
     "metadata": {},
     "output_type": "display_data"
    }
   ],
   "source": [
    "# feature의 중요도 시각화 하기\n",
    "\n",
    "sns.barplot(x=model.feature_importances_, y=feature_names)"
   ]
  },
  {
   "cell_type": "markdown",
   "id": "eb609fdb",
   "metadata": {},
   "source": [
    "## Accuracy 측정하기 - new\n",
    "\n",
    "[Pregnancies를 범주화 했을 때]\n",
    "- Overfitting 되기 쉬운 연속된 수치형 변수인 Pregnancies를 범주형으로 바꿔줌(Pregnancies_high)\n",
    "- 원래는 feature의 중요도가 높았지만 범주화 하면서 중요도가 낮아짐\n",
    "- Accuracy 증가\n",
    "\n",
    "[Age를 범주화 했을 때]\n",
    "- Accuracy 감소\n",
    "- 확연히 구분되지 않는 feature를 범주화 하면 오히려 정확도가 떨어질 수 있음 -> 별로 큰 도움인 되지 않음\n",
    "\n",
    "[Insulin 결측치를 평균값으로 대체 했을 때]\n",
    "- Accuracy 증가"
   ]
  },
  {
   "cell_type": "code",
   "execution_count": 55,
   "id": "e9cf073f",
   "metadata": {},
   "outputs": [
    {
     "data": {
      "text/plain": [
       "19"
      ]
     },
     "execution_count": 55,
     "metadata": {},
     "output_type": "execute_result"
    }
   ],
   "source": [
    "# (실제값-예측값) = 0이면 같게 예측한 것.\n",
    "# 여기에서 절대값을 씌운 값이 1인 값이 다르게 예측한 값이 된다.\n",
    "# 44 => 39(Pregnancies) => 49(Age 25) => 55(Age 30) \n",
    "# => 23(Age는 원래대로, Insulin 평균값으로 결측치 처리) => 16(Insulin 중앙값으로 결측치 처리)\n",
    "# => 15(인슐린&글루코스 상관계수로 파생변수를 생성)\n",
    "# => 15(인슐린 수치가 600 이상인 outlier 제거)\n",
    "\n",
    "diff_count = abs(y_test - y_predict).sum()\n",
    "diff_count"
   ]
  },
  {
   "cell_type": "code",
   "execution_count": 56,
   "id": "491f87b3",
   "metadata": {},
   "outputs": [
    {
     "data": {
      "text/plain": [
       "87.66233766233766"
      ]
     },
     "execution_count": 56,
     "metadata": {},
     "output_type": "execute_result"
    }
   ],
   "source": [
    "# 100점 만점 중 몇 점을 맞았는지\n",
    "\n",
    "(len(y_test) - diff_count) / len(y_test) * 100"
   ]
  },
  {
   "cell_type": "code",
   "execution_count": 57,
   "id": "1184c17c",
   "metadata": {},
   "outputs": [
    {
     "data": {
      "text/plain": [
       "87.66233766233766"
      ]
     },
     "execution_count": 57,
     "metadata": {},
     "output_type": "execute_result"
    }
   ],
   "source": [
    "# 위에서처럼 직접 구할 수도 있지만 미리 구현된 알고리즘을 가져와 사용할 수도 있음\n",
    "\n",
    "from sklearn.metrics import accuracy_score\n",
    "\n",
    "accuracy_score(y_test, y_predict) * 100"
   ]
  },
  {
   "cell_type": "code",
   "execution_count": 58,
   "id": "8ccac088",
   "metadata": {},
   "outputs": [
    {
     "data": {
      "text/plain": [
       "87.66233766233766"
      ]
     },
     "execution_count": 58,
     "metadata": {},
     "output_type": "execute_result"
    }
   ],
   "source": [
    "# model의 score로도 점수를 계산할 수 있음.\n",
    "\n",
    "model.score(X_test, y_test) * 100"
   ]
  }
 ],
 "metadata": {
  "kernelspec": {
   "display_name": "Python 3 (ipykernel)",
   "language": "python",
   "name": "python3"
  },
  "language_info": {
   "codemirror_mode": {
    "name": "ipython",
    "version": 3
   },
   "file_extension": ".py",
   "mimetype": "text/x-python",
   "name": "python",
   "nbconvert_exporter": "python",
   "pygments_lexer": "ipython3",
   "version": "3.9.12"
  },
  "toc": {
   "base_numbering": 1,
   "nav_menu": {},
   "number_sections": true,
   "sideBar": true,
   "skip_h1_title": false,
   "title_cell": "Table of Contents",
   "title_sidebar": "Contents",
   "toc_cell": false,
   "toc_position": {
    "height": "calc(100% - 180px)",
    "left": "10px",
    "top": "150px",
    "width": "211.854px"
   },
   "toc_section_display": true,
   "toc_window_display": true
  }
 },
 "nbformat": 4,
 "nbformat_minor": 5
}
