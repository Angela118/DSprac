{
 "cells": [
  {
   "cell_type": "markdown",
   "metadata": {
    "id": "PiZHfVejjYnn"
   },
   "source": [
    "# 고객 대출등급 분류 해커톤\n",
    "\n",
    "* 정형 데이터\n",
    "* 분류\n",
    "* 금융\n",
    "* Macro F1 score\n",
    "* [고객 대출등급 분류 바로가기](https://dacon.io/competitions/official/236214/overview/description)\n",
    "\n",
    "[설명]  \n",
    "대출 고객과 관련된 데이터 분석을 통해 고객의 대출등급 예측하는 AI 모델을 개발해야 합니다.\n",
    "\n",
    "[주제]  \n",
    "고객의 대출등급을 예측하는 AI 알고리즘 개발"
   ]
  },
  {
   "cell_type": "markdown",
   "metadata": {
    "id": "__V7WSU_jYnr"
   },
   "source": [
    "___\n",
    "## 패키지 선언"
   ]
  },
  {
   "cell_type": "code",
   "execution_count": 49,
   "metadata": {
    "id": "1fbc7_g5jYns"
   },
   "outputs": [],
   "source": [
    "# 추가로 사용하실 패키지를 자유롭게 선언해주세요.\n",
    "import pandas as pd\n",
    "import numpy as np\n",
    "\n",
    "import seaborn as sns\n",
    "sns.set_style(\"whitegrid\")\n",
    "\n",
    "# 그래프 한글 폰트\n",
    "# import matplotlib.pyplot as plt\n",
    "# plt.rcParams['font.family'] ='Malgun Gothic'\n",
    "# plt.rcParams['axes.unicode_minus'] =False\n",
    "from matplotlib import rc\n",
    "rc('font', family='AppleGothic')"
   ]
  },
  {
   "cell_type": "markdown",
   "metadata": {
    "id": "752JFy07jYnu"
   },
   "source": [
    "## 데이터 로드\n"
   ]
  },
  {
   "cell_type": "code",
   "execution_count": 50,
   "metadata": {
    "id": "AdtNNYXojYnu",
    "outputId": "7c170b59-52a2-473c-fafc-cf179ac2d252"
   },
   "outputs": [
    {
     "data": {
      "text/html": [
       "<div>\n",
       "<style scoped>\n",
       "    .dataframe tbody tr th:only-of-type {\n",
       "        vertical-align: middle;\n",
       "    }\n",
       "\n",
       "    .dataframe tbody tr th {\n",
       "        vertical-align: top;\n",
       "    }\n",
       "\n",
       "    .dataframe thead th {\n",
       "        text-align: right;\n",
       "    }\n",
       "</style>\n",
       "<table border=\"1\" class=\"dataframe\">\n",
       "  <thead>\n",
       "    <tr style=\"text-align: right;\">\n",
       "      <th></th>\n",
       "      <th>ID</th>\n",
       "      <th>대출금액</th>\n",
       "      <th>대출기간</th>\n",
       "      <th>근로기간</th>\n",
       "      <th>주택소유상태</th>\n",
       "      <th>연간소득</th>\n",
       "      <th>부채_대비_소득_비율</th>\n",
       "      <th>총계좌수</th>\n",
       "      <th>대출목적</th>\n",
       "      <th>최근_2년간_연체_횟수</th>\n",
       "      <th>총상환원금</th>\n",
       "      <th>총상환이자</th>\n",
       "      <th>총연체금액</th>\n",
       "      <th>연체계좌수</th>\n",
       "      <th>대출등급</th>\n",
       "    </tr>\n",
       "  </thead>\n",
       "  <tbody>\n",
       "    <tr>\n",
       "      <th>0</th>\n",
       "      <td>TRAIN_00000</td>\n",
       "      <td>12480000</td>\n",
       "      <td>36 months</td>\n",
       "      <td>6 years</td>\n",
       "      <td>RENT</td>\n",
       "      <td>72000000</td>\n",
       "      <td>18.90</td>\n",
       "      <td>15</td>\n",
       "      <td>부채 통합</td>\n",
       "      <td>0</td>\n",
       "      <td>0</td>\n",
       "      <td>0.0</td>\n",
       "      <td>0.0</td>\n",
       "      <td>0.0</td>\n",
       "      <td>C</td>\n",
       "    </tr>\n",
       "    <tr>\n",
       "      <th>1</th>\n",
       "      <td>TRAIN_00001</td>\n",
       "      <td>14400000</td>\n",
       "      <td>60 months</td>\n",
       "      <td>10+ years</td>\n",
       "      <td>MORTGAGE</td>\n",
       "      <td>130800000</td>\n",
       "      <td>22.33</td>\n",
       "      <td>21</td>\n",
       "      <td>주택 개선</td>\n",
       "      <td>0</td>\n",
       "      <td>373572</td>\n",
       "      <td>234060.0</td>\n",
       "      <td>0.0</td>\n",
       "      <td>0.0</td>\n",
       "      <td>B</td>\n",
       "    </tr>\n",
       "    <tr>\n",
       "      <th>2</th>\n",
       "      <td>TRAIN_00002</td>\n",
       "      <td>12000000</td>\n",
       "      <td>36 months</td>\n",
       "      <td>5 years</td>\n",
       "      <td>MORTGAGE</td>\n",
       "      <td>96000000</td>\n",
       "      <td>8.60</td>\n",
       "      <td>14</td>\n",
       "      <td>부채 통합</td>\n",
       "      <td>0</td>\n",
       "      <td>928644</td>\n",
       "      <td>151944.0</td>\n",
       "      <td>0.0</td>\n",
       "      <td>0.0</td>\n",
       "      <td>A</td>\n",
       "    </tr>\n",
       "    <tr>\n",
       "      <th>3</th>\n",
       "      <td>TRAIN_00003</td>\n",
       "      <td>14400000</td>\n",
       "      <td>36 months</td>\n",
       "      <td>8 years</td>\n",
       "      <td>MORTGAGE</td>\n",
       "      <td>132000000</td>\n",
       "      <td>15.09</td>\n",
       "      <td>15</td>\n",
       "      <td>부채 통합</td>\n",
       "      <td>0</td>\n",
       "      <td>325824</td>\n",
       "      <td>153108.0</td>\n",
       "      <td>0.0</td>\n",
       "      <td>0.0</td>\n",
       "      <td>C</td>\n",
       "    </tr>\n",
       "    <tr>\n",
       "      <th>4</th>\n",
       "      <td>TRAIN_00004</td>\n",
       "      <td>18000000</td>\n",
       "      <td>60 months</td>\n",
       "      <td>Unknown</td>\n",
       "      <td>RENT</td>\n",
       "      <td>71736000</td>\n",
       "      <td>25.39</td>\n",
       "      <td>19</td>\n",
       "      <td>주요 구매</td>\n",
       "      <td>0</td>\n",
       "      <td>228540</td>\n",
       "      <td>148956.0</td>\n",
       "      <td>0.0</td>\n",
       "      <td>0.0</td>\n",
       "      <td>B</td>\n",
       "    </tr>\n",
       "  </tbody>\n",
       "</table>\n",
       "</div>"
      ],
      "text/plain": [
       "            ID      대출금액        대출기간       근로기간    주택소유상태       연간소득  \\\n",
       "0  TRAIN_00000  12480000   36 months    6 years      RENT   72000000   \n",
       "1  TRAIN_00001  14400000   60 months  10+ years  MORTGAGE  130800000   \n",
       "2  TRAIN_00002  12000000   36 months    5 years  MORTGAGE   96000000   \n",
       "3  TRAIN_00003  14400000   36 months    8 years  MORTGAGE  132000000   \n",
       "4  TRAIN_00004  18000000   60 months    Unknown      RENT   71736000   \n",
       "\n",
       "   부채_대비_소득_비율  총계좌수   대출목적  최근_2년간_연체_횟수   총상환원금     총상환이자  총연체금액  연체계좌수 대출등급  \n",
       "0        18.90    15  부채 통합             0       0       0.0    0.0    0.0    C  \n",
       "1        22.33    21  주택 개선             0  373572  234060.0    0.0    0.0    B  \n",
       "2         8.60    14  부채 통합             0  928644  151944.0    0.0    0.0    A  \n",
       "3        15.09    15  부채 통합             0  325824  153108.0    0.0    0.0    C  \n",
       "4        25.39    19  주요 구매             0  228540  148956.0    0.0    0.0    B  "
      ]
     },
     "execution_count": 50,
     "metadata": {},
     "output_type": "execute_result"
    }
   ],
   "source": [
    "df = pd.read_csv('./train.csv')\n",
    "df.head()"
   ]
  },
  {
   "cell_type": "markdown",
   "metadata": {
    "id": "z5WQCVUUjYnt"
   },
   "source": [
    "____\n",
    "# EDA 와 Feature Engineering"
   ]
  },
  {
   "cell_type": "markdown",
   "metadata": {
    "id": "znpjEAmIjYnw"
   },
   "source": [
    "## 데이터의 이해"
   ]
  },
  {
   "cell_type": "code",
   "execution_count": 51,
   "metadata": {
    "id": "XCOsUWgdjYnw",
    "outputId": "214a4266-9b97-4f7c-c388-b17d891fb958"
   },
   "outputs": [
    {
     "name": "stdout",
     "output_type": "stream",
     "text": [
      "<class 'pandas.core.frame.DataFrame'>\n",
      "RangeIndex: 96294 entries, 0 to 96293\n",
      "Data columns (total 15 columns):\n",
      " #   Column        Non-Null Count  Dtype  \n",
      "---  ------        --------------  -----  \n",
      " 0   ID            96294 non-null  object \n",
      " 1   대출금액          96294 non-null  int64  \n",
      " 2   대출기간          96294 non-null  object \n",
      " 3   근로기간          96294 non-null  object \n",
      " 4   주택소유상태        96294 non-null  object \n",
      " 5   연간소득          96294 non-null  int64  \n",
      " 6   부채_대비_소득_비율   96294 non-null  float64\n",
      " 7   총계좌수          96294 non-null  int64  \n",
      " 8   대출목적          96294 non-null  object \n",
      " 9   최근_2년간_연체_횟수  96294 non-null  int64  \n",
      " 10  총상환원금         96294 non-null  int64  \n",
      " 11  총상환이자         96294 non-null  float64\n",
      " 12  총연체금액         96294 non-null  float64\n",
      " 13  연체계좌수         96294 non-null  float64\n",
      " 14  대출등급          96294 non-null  object \n",
      "dtypes: float64(4), int64(5), object(6)\n",
      "memory usage: 11.0+ MB\n"
     ]
    }
   ],
   "source": [
    "df.info()"
   ]
  },
  {
   "cell_type": "code",
   "execution_count": 52,
   "metadata": {
    "id": "8iiIuVSsjYnw",
    "outputId": "2b1435c1-32eb-4607-fd62-49adb82008bd"
   },
   "outputs": [
    {
     "data": {
      "text/html": [
       "<div>\n",
       "<style scoped>\n",
       "    .dataframe tbody tr th:only-of-type {\n",
       "        vertical-align: middle;\n",
       "    }\n",
       "\n",
       "    .dataframe tbody tr th {\n",
       "        vertical-align: top;\n",
       "    }\n",
       "\n",
       "    .dataframe thead th {\n",
       "        text-align: right;\n",
       "    }\n",
       "</style>\n",
       "<table border=\"1\" class=\"dataframe\">\n",
       "  <thead>\n",
       "    <tr style=\"text-align: right;\">\n",
       "      <th></th>\n",
       "      <th>대출금액</th>\n",
       "      <th>연간소득</th>\n",
       "      <th>부채_대비_소득_비율</th>\n",
       "      <th>총계좌수</th>\n",
       "      <th>최근_2년간_연체_횟수</th>\n",
       "      <th>총상환원금</th>\n",
       "      <th>총상환이자</th>\n",
       "      <th>총연체금액</th>\n",
       "      <th>연체계좌수</th>\n",
       "    </tr>\n",
       "  </thead>\n",
       "  <tbody>\n",
       "    <tr>\n",
       "      <th>count</th>\n",
       "      <td>9.629400e+04</td>\n",
       "      <td>9.629400e+04</td>\n",
       "      <td>96294.000000</td>\n",
       "      <td>96294.000000</td>\n",
       "      <td>96294.000000</td>\n",
       "      <td>9.629400e+04</td>\n",
       "      <td>9.629400e+04</td>\n",
       "      <td>96294.000000</td>\n",
       "      <td>96294.000000</td>\n",
       "    </tr>\n",
       "    <tr>\n",
       "      <th>mean</th>\n",
       "      <td>1.830400e+07</td>\n",
       "      <td>9.392672e+07</td>\n",
       "      <td>19.379590</td>\n",
       "      <td>25.304827</td>\n",
       "      <td>0.345681</td>\n",
       "      <td>8.225035e+05</td>\n",
       "      <td>4.282282e+05</td>\n",
       "      <td>54.380584</td>\n",
       "      <td>0.005805</td>\n",
       "    </tr>\n",
       "    <tr>\n",
       "      <th>std</th>\n",
       "      <td>1.032908e+07</td>\n",
       "      <td>9.956871e+07</td>\n",
       "      <td>33.569559</td>\n",
       "      <td>12.088566</td>\n",
       "      <td>0.919119</td>\n",
       "      <td>1.027745e+06</td>\n",
       "      <td>4.402111e+05</td>\n",
       "      <td>1414.769218</td>\n",
       "      <td>0.079966</td>\n",
       "    </tr>\n",
       "    <tr>\n",
       "      <th>min</th>\n",
       "      <td>1.200000e+06</td>\n",
       "      <td>0.000000e+00</td>\n",
       "      <td>0.000000</td>\n",
       "      <td>4.000000</td>\n",
       "      <td>0.000000</td>\n",
       "      <td>0.000000e+00</td>\n",
       "      <td>0.000000e+00</td>\n",
       "      <td>0.000000</td>\n",
       "      <td>0.000000</td>\n",
       "    </tr>\n",
       "    <tr>\n",
       "      <th>25%</th>\n",
       "      <td>1.020000e+07</td>\n",
       "      <td>5.760000e+07</td>\n",
       "      <td>12.650000</td>\n",
       "      <td>17.000000</td>\n",
       "      <td>0.000000</td>\n",
       "      <td>3.075720e+05</td>\n",
       "      <td>1.346160e+05</td>\n",
       "      <td>0.000000</td>\n",
       "      <td>0.000000</td>\n",
       "    </tr>\n",
       "    <tr>\n",
       "      <th>50%</th>\n",
       "      <td>1.680000e+07</td>\n",
       "      <td>7.800000e+07</td>\n",
       "      <td>18.740000</td>\n",
       "      <td>24.000000</td>\n",
       "      <td>0.000000</td>\n",
       "      <td>5.976960e+05</td>\n",
       "      <td>2.870040e+05</td>\n",
       "      <td>0.000000</td>\n",
       "      <td>0.000000</td>\n",
       "    </tr>\n",
       "    <tr>\n",
       "      <th>75%</th>\n",
       "      <td>2.400000e+07</td>\n",
       "      <td>1.128000e+08</td>\n",
       "      <td>25.540000</td>\n",
       "      <td>32.000000</td>\n",
       "      <td>0.000000</td>\n",
       "      <td>1.055076e+06</td>\n",
       "      <td>5.702160e+05</td>\n",
       "      <td>0.000000</td>\n",
       "      <td>0.000000</td>\n",
       "    </tr>\n",
       "    <tr>\n",
       "      <th>max</th>\n",
       "      <td>4.200000e+07</td>\n",
       "      <td>1.080000e+10</td>\n",
       "      <td>9999.000000</td>\n",
       "      <td>169.000000</td>\n",
       "      <td>30.000000</td>\n",
       "      <td>4.195594e+07</td>\n",
       "      <td>5.653416e+06</td>\n",
       "      <td>75768.000000</td>\n",
       "      <td>4.000000</td>\n",
       "    </tr>\n",
       "  </tbody>\n",
       "</table>\n",
       "</div>"
      ],
      "text/plain": [
       "               대출금액          연간소득   부채_대비_소득_비율          총계좌수  최근_2년간_연체_횟수  \\\n",
       "count  9.629400e+04  9.629400e+04  96294.000000  96294.000000  96294.000000   \n",
       "mean   1.830400e+07  9.392672e+07     19.379590     25.304827      0.345681   \n",
       "std    1.032908e+07  9.956871e+07     33.569559     12.088566      0.919119   \n",
       "min    1.200000e+06  0.000000e+00      0.000000      4.000000      0.000000   \n",
       "25%    1.020000e+07  5.760000e+07     12.650000     17.000000      0.000000   \n",
       "50%    1.680000e+07  7.800000e+07     18.740000     24.000000      0.000000   \n",
       "75%    2.400000e+07  1.128000e+08     25.540000     32.000000      0.000000   \n",
       "max    4.200000e+07  1.080000e+10   9999.000000    169.000000     30.000000   \n",
       "\n",
       "              총상환원금         총상환이자         총연체금액         연체계좌수  \n",
       "count  9.629400e+04  9.629400e+04  96294.000000  96294.000000  \n",
       "mean   8.225035e+05  4.282282e+05     54.380584      0.005805  \n",
       "std    1.027745e+06  4.402111e+05   1414.769218      0.079966  \n",
       "min    0.000000e+00  0.000000e+00      0.000000      0.000000  \n",
       "25%    3.075720e+05  1.346160e+05      0.000000      0.000000  \n",
       "50%    5.976960e+05  2.870040e+05      0.000000      0.000000  \n",
       "75%    1.055076e+06  5.702160e+05      0.000000      0.000000  \n",
       "max    4.195594e+07  5.653416e+06  75768.000000      4.000000  "
      ]
     },
     "execution_count": 52,
     "metadata": {},
     "output_type": "execute_result"
    }
   ],
   "source": [
    "df.describe()"
   ]
  },
  {
   "cell_type": "markdown",
   "metadata": {
    "id": "R5ij_4MnjYnv"
   },
   "source": [
    "## 1-B. EDA"
   ]
  },
  {
   "cell_type": "markdown",
   "metadata": {},
   "source": [
    "## Feature Engineering"
   ]
  },
  {
   "cell_type": "markdown",
   "metadata": {
    "id": "cHV2RJ-9jYnx"
   },
   "source": [
    "### 결측치/이상치 탐색"
   ]
  },
  {
   "cell_type": "code",
   "execution_count": 53,
   "metadata": {},
   "outputs": [
    {
     "data": {
      "text/plain": [
       "ID              0\n",
       "대출금액            0\n",
       "대출기간            0\n",
       "근로기간            0\n",
       "주택소유상태          0\n",
       "연간소득            0\n",
       "부채_대비_소득_비율     0\n",
       "총계좌수            0\n",
       "대출목적            0\n",
       "최근_2년간_연체_횟수    0\n",
       "총상환원금           0\n",
       "총상환이자           0\n",
       "총연체금액           0\n",
       "연체계좌수           0\n",
       "대출등급            0\n",
       "dtype: int64"
      ]
     },
     "execution_count": 53,
     "metadata": {},
     "output_type": "execute_result"
    }
   ],
   "source": [
    "# 결측치 갯수 확인\n",
    "\n",
    "df.isnull().sum()"
   ]
  },
  {
   "cell_type": "code",
   "execution_count": 54,
   "metadata": {},
   "outputs": [
    {
     "data": {
      "text/plain": [
       "주택소유상태\n",
       "MORTGAGE    47934\n",
       "RENT        37705\n",
       "OWN         10654\n",
       "ANY             1\n",
       "Name: count, dtype: int64"
      ]
     },
     "execution_count": 54,
     "metadata": {},
     "output_type": "execute_result"
    }
   ],
   "source": [
    "# 숫자 데이터가 아닌 데이터들 위주로 결측치로 볼 수 있는 값이 있는지 확인\n",
    "\n",
    "df[\"주택소유상태\"].value_counts()"
   ]
  },
  {
   "cell_type": "code",
   "execution_count": 55,
   "metadata": {},
   "outputs": [
    {
     "data": {
      "text/plain": [
       "주택소유상태\n",
       "MORTGAGE    47934\n",
       "RENT        37705\n",
       "OWN         10654\n",
       "Name: count, dtype: int64"
      ]
     },
     "execution_count": 55,
     "metadata": {},
     "output_type": "execute_result"
    }
   ],
   "source": [
    "df[\"주택소유상태\"] = df[\"주택소유상태\"].replace('ANY', np.nan)\n",
    "df[\"주택소유상태\"].value_counts()"
   ]
  },
  {
   "cell_type": "code",
   "execution_count": 56,
   "metadata": {},
   "outputs": [
    {
     "data": {
      "text/plain": [
       "ID              0\n",
       "대출금액            0\n",
       "대출기간            0\n",
       "근로기간            0\n",
       "주택소유상태          1\n",
       "연간소득            0\n",
       "부채_대비_소득_비율     0\n",
       "총계좌수            0\n",
       "대출목적            0\n",
       "최근_2년간_연체_횟수    0\n",
       "총상환원금           0\n",
       "총상환이자           0\n",
       "총연체금액           0\n",
       "연체계좌수           0\n",
       "대출등급            0\n",
       "dtype: int64"
      ]
     },
     "execution_count": 56,
     "metadata": {},
     "output_type": "execute_result"
    }
   ],
   "source": [
    "df.isnull().sum()"
   ]
  },
  {
   "cell_type": "code",
   "execution_count": 57,
   "metadata": {},
   "outputs": [
    {
     "data": {
      "text/plain": [
       "ID              0\n",
       "대출금액            0\n",
       "대출기간            0\n",
       "근로기간            0\n",
       "주택소유상태          0\n",
       "연간소득            0\n",
       "부채_대비_소득_비율     0\n",
       "총계좌수            0\n",
       "대출목적            0\n",
       "최근_2년간_연체_횟수    0\n",
       "총상환원금           0\n",
       "총상환이자           0\n",
       "총연체금액           0\n",
       "연체계좌수           0\n",
       "대출등급            0\n",
       "dtype: int64"
      ]
     },
     "execution_count": 57,
     "metadata": {},
     "output_type": "execute_result"
    }
   ],
   "source": [
    "df.dropna(axis=0, inplace=True)\n",
    "df.isnull().sum()"
   ]
  },
  {
   "cell_type": "markdown",
   "metadata": {},
   "source": [
    "- ANY를 결측치로 보고 삭제"
   ]
  },
  {
   "cell_type": "code",
   "execution_count": 58,
   "metadata": {},
   "outputs": [
    {
     "data": {
      "text/plain": [
       "대출목적\n",
       "부채 통합     55150\n",
       "신용 카드     24500\n",
       "주택 개선      6160\n",
       "기타         4724\n",
       "주요 구매      1803\n",
       "의료         1039\n",
       "자동차         797\n",
       "소규모 사업      787\n",
       "이사          506\n",
       "휴가          466\n",
       "주택          301\n",
       "재생 에너지       60\n",
       "Name: count, dtype: int64"
      ]
     },
     "execution_count": 58,
     "metadata": {},
     "output_type": "execute_result"
    }
   ],
   "source": [
    "df[\"대출목적\"].value_counts()"
   ]
  },
  {
   "cell_type": "code",
   "execution_count": 59,
   "metadata": {},
   "outputs": [
    {
     "data": {
      "text/plain": [
       "근로기간\n",
       "10+ years    31584\n",
       "2 years       8450\n",
       "< 1 year      7774\n",
       "3 years       7581\n",
       "1 year        6249\n",
       "Unknown       5671\n",
       "5 years       5665\n",
       "4 years       5588\n",
       "8 years       4888\n",
       "6 years       3874\n",
       "7 years       3814\n",
       "9 years       3744\n",
       "10+years       896\n",
       "<1 year        370\n",
       "3               89\n",
       "1 years         56\n",
       "Name: count, dtype: int64"
      ]
     },
     "execution_count": 59,
     "metadata": {},
     "output_type": "execute_result"
    }
   ],
   "source": [
    "df[\"근로기간\"].value_counts()"
   ]
  },
  {
   "cell_type": "markdown",
   "metadata": {},
   "source": [
    "- Unknown을 결측치로 보지 않겠음"
   ]
  },
  {
   "cell_type": "code",
   "execution_count": 60,
   "metadata": {},
   "outputs": [
    {
     "data": {
      "text/plain": [
       "대출기간\n",
       "36 months    64478\n",
       "60 months    31815\n",
       "Name: count, dtype: int64"
      ]
     },
     "execution_count": 60,
     "metadata": {},
     "output_type": "execute_result"
    }
   ],
   "source": [
    "df[\"대출기간\"].value_counts()"
   ]
  },
  {
   "cell_type": "code",
   "execution_count": 61,
   "metadata": {},
   "outputs": [
    {
     "data": {
      "text/plain": [
       "['C', 'B', 'A', 'D', 'F', 'G', 'E']"
      ]
     },
     "execution_count": 61,
     "metadata": {},
     "output_type": "execute_result"
    }
   ],
   "source": [
    "df[\"대출등급\"].unique().tolist()"
   ]
  },
  {
   "cell_type": "markdown",
   "metadata": {},
   "source": [
    "### one-hot encoding\n",
    "\n",
    "- 주택소유상태\n",
    "- 대출목적\n",
    "- 근로기간\n",
    "- 대출기간"
   ]
  },
  {
   "cell_type": "code",
   "execution_count": 62,
   "metadata": {
    "scrolled": false
   },
   "outputs": [
    {
     "data": {
      "text/html": [
       "<div>\n",
       "<style scoped>\n",
       "    .dataframe tbody tr th:only-of-type {\n",
       "        vertical-align: middle;\n",
       "    }\n",
       "\n",
       "    .dataframe tbody tr th {\n",
       "        vertical-align: top;\n",
       "    }\n",
       "\n",
       "    .dataframe thead th {\n",
       "        text-align: right;\n",
       "    }\n",
       "</style>\n",
       "<table border=\"1\" class=\"dataframe\">\n",
       "  <thead>\n",
       "    <tr style=\"text-align: right;\">\n",
       "      <th></th>\n",
       "      <th>ID</th>\n",
       "      <th>대출금액</th>\n",
       "      <th>근로기간</th>\n",
       "      <th>연간소득</th>\n",
       "      <th>부채_대비_소득_비율</th>\n",
       "      <th>총계좌수</th>\n",
       "      <th>최근_2년간_연체_횟수</th>\n",
       "      <th>총상환원금</th>\n",
       "      <th>총상환이자</th>\n",
       "      <th>총연체금액</th>\n",
       "      <th>...</th>\n",
       "      <th>대출목적_의료</th>\n",
       "      <th>대출목적_이사</th>\n",
       "      <th>대출목적_자동차</th>\n",
       "      <th>대출목적_재생 에너지</th>\n",
       "      <th>대출목적_주요 구매</th>\n",
       "      <th>대출목적_주택</th>\n",
       "      <th>대출목적_주택 개선</th>\n",
       "      <th>대출목적_휴가</th>\n",
       "      <th>대출기간_ 36 months</th>\n",
       "      <th>대출기간_ 60 months</th>\n",
       "    </tr>\n",
       "  </thead>\n",
       "  <tbody>\n",
       "    <tr>\n",
       "      <th>0</th>\n",
       "      <td>TRAIN_00000</td>\n",
       "      <td>12480000</td>\n",
       "      <td>6 years</td>\n",
       "      <td>72000000</td>\n",
       "      <td>18.90</td>\n",
       "      <td>15</td>\n",
       "      <td>0</td>\n",
       "      <td>0</td>\n",
       "      <td>0.0</td>\n",
       "      <td>0.0</td>\n",
       "      <td>...</td>\n",
       "      <td>False</td>\n",
       "      <td>False</td>\n",
       "      <td>False</td>\n",
       "      <td>False</td>\n",
       "      <td>False</td>\n",
       "      <td>False</td>\n",
       "      <td>False</td>\n",
       "      <td>False</td>\n",
       "      <td>True</td>\n",
       "      <td>False</td>\n",
       "    </tr>\n",
       "    <tr>\n",
       "      <th>1</th>\n",
       "      <td>TRAIN_00001</td>\n",
       "      <td>14400000</td>\n",
       "      <td>10+ years</td>\n",
       "      <td>130800000</td>\n",
       "      <td>22.33</td>\n",
       "      <td>21</td>\n",
       "      <td>0</td>\n",
       "      <td>373572</td>\n",
       "      <td>234060.0</td>\n",
       "      <td>0.0</td>\n",
       "      <td>...</td>\n",
       "      <td>False</td>\n",
       "      <td>False</td>\n",
       "      <td>False</td>\n",
       "      <td>False</td>\n",
       "      <td>False</td>\n",
       "      <td>False</td>\n",
       "      <td>True</td>\n",
       "      <td>False</td>\n",
       "      <td>False</td>\n",
       "      <td>True</td>\n",
       "    </tr>\n",
       "    <tr>\n",
       "      <th>2</th>\n",
       "      <td>TRAIN_00002</td>\n",
       "      <td>12000000</td>\n",
       "      <td>5 years</td>\n",
       "      <td>96000000</td>\n",
       "      <td>8.60</td>\n",
       "      <td>14</td>\n",
       "      <td>0</td>\n",
       "      <td>928644</td>\n",
       "      <td>151944.0</td>\n",
       "      <td>0.0</td>\n",
       "      <td>...</td>\n",
       "      <td>False</td>\n",
       "      <td>False</td>\n",
       "      <td>False</td>\n",
       "      <td>False</td>\n",
       "      <td>False</td>\n",
       "      <td>False</td>\n",
       "      <td>False</td>\n",
       "      <td>False</td>\n",
       "      <td>True</td>\n",
       "      <td>False</td>\n",
       "    </tr>\n",
       "    <tr>\n",
       "      <th>3</th>\n",
       "      <td>TRAIN_00003</td>\n",
       "      <td>14400000</td>\n",
       "      <td>8 years</td>\n",
       "      <td>132000000</td>\n",
       "      <td>15.09</td>\n",
       "      <td>15</td>\n",
       "      <td>0</td>\n",
       "      <td>325824</td>\n",
       "      <td>153108.0</td>\n",
       "      <td>0.0</td>\n",
       "      <td>...</td>\n",
       "      <td>False</td>\n",
       "      <td>False</td>\n",
       "      <td>False</td>\n",
       "      <td>False</td>\n",
       "      <td>False</td>\n",
       "      <td>False</td>\n",
       "      <td>False</td>\n",
       "      <td>False</td>\n",
       "      <td>True</td>\n",
       "      <td>False</td>\n",
       "    </tr>\n",
       "    <tr>\n",
       "      <th>4</th>\n",
       "      <td>TRAIN_00004</td>\n",
       "      <td>18000000</td>\n",
       "      <td>Unknown</td>\n",
       "      <td>71736000</td>\n",
       "      <td>25.39</td>\n",
       "      <td>19</td>\n",
       "      <td>0</td>\n",
       "      <td>228540</td>\n",
       "      <td>148956.0</td>\n",
       "      <td>0.0</td>\n",
       "      <td>...</td>\n",
       "      <td>False</td>\n",
       "      <td>False</td>\n",
       "      <td>False</td>\n",
       "      <td>False</td>\n",
       "      <td>True</td>\n",
       "      <td>False</td>\n",
       "      <td>False</td>\n",
       "      <td>False</td>\n",
       "      <td>False</td>\n",
       "      <td>True</td>\n",
       "    </tr>\n",
       "    <tr>\n",
       "      <th>...</th>\n",
       "      <td>...</td>\n",
       "      <td>...</td>\n",
       "      <td>...</td>\n",
       "      <td>...</td>\n",
       "      <td>...</td>\n",
       "      <td>...</td>\n",
       "      <td>...</td>\n",
       "      <td>...</td>\n",
       "      <td>...</td>\n",
       "      <td>...</td>\n",
       "      <td>...</td>\n",
       "      <td>...</td>\n",
       "      <td>...</td>\n",
       "      <td>...</td>\n",
       "      <td>...</td>\n",
       "      <td>...</td>\n",
       "      <td>...</td>\n",
       "      <td>...</td>\n",
       "      <td>...</td>\n",
       "      <td>...</td>\n",
       "      <td>...</td>\n",
       "    </tr>\n",
       "    <tr>\n",
       "      <th>96289</th>\n",
       "      <td>TRAIN_96289</td>\n",
       "      <td>14400000</td>\n",
       "      <td>10+ years</td>\n",
       "      <td>210000000</td>\n",
       "      <td>9.33</td>\n",
       "      <td>33</td>\n",
       "      <td>0</td>\n",
       "      <td>974580</td>\n",
       "      <td>492168.0</td>\n",
       "      <td>0.0</td>\n",
       "      <td>...</td>\n",
       "      <td>False</td>\n",
       "      <td>False</td>\n",
       "      <td>False</td>\n",
       "      <td>False</td>\n",
       "      <td>False</td>\n",
       "      <td>False</td>\n",
       "      <td>False</td>\n",
       "      <td>False</td>\n",
       "      <td>True</td>\n",
       "      <td>False</td>\n",
       "    </tr>\n",
       "    <tr>\n",
       "      <th>96290</th>\n",
       "      <td>TRAIN_96290</td>\n",
       "      <td>28800000</td>\n",
       "      <td>10+ years</td>\n",
       "      <td>132000000</td>\n",
       "      <td>5.16</td>\n",
       "      <td>25</td>\n",
       "      <td>0</td>\n",
       "      <td>583728</td>\n",
       "      <td>855084.0</td>\n",
       "      <td>0.0</td>\n",
       "      <td>...</td>\n",
       "      <td>False</td>\n",
       "      <td>False</td>\n",
       "      <td>False</td>\n",
       "      <td>False</td>\n",
       "      <td>False</td>\n",
       "      <td>False</td>\n",
       "      <td>True</td>\n",
       "      <td>False</td>\n",
       "      <td>False</td>\n",
       "      <td>True</td>\n",
       "    </tr>\n",
       "    <tr>\n",
       "      <th>96291</th>\n",
       "      <td>TRAIN_96291</td>\n",
       "      <td>14400000</td>\n",
       "      <td>1 year</td>\n",
       "      <td>84000000</td>\n",
       "      <td>11.24</td>\n",
       "      <td>22</td>\n",
       "      <td>0</td>\n",
       "      <td>1489128</td>\n",
       "      <td>241236.0</td>\n",
       "      <td>0.0</td>\n",
       "      <td>...</td>\n",
       "      <td>False</td>\n",
       "      <td>False</td>\n",
       "      <td>False</td>\n",
       "      <td>False</td>\n",
       "      <td>False</td>\n",
       "      <td>False</td>\n",
       "      <td>False</td>\n",
       "      <td>False</td>\n",
       "      <td>True</td>\n",
       "      <td>False</td>\n",
       "    </tr>\n",
       "    <tr>\n",
       "      <th>96292</th>\n",
       "      <td>TRAIN_96292</td>\n",
       "      <td>15600000</td>\n",
       "      <td>5 years</td>\n",
       "      <td>66330000</td>\n",
       "      <td>17.30</td>\n",
       "      <td>21</td>\n",
       "      <td>2</td>\n",
       "      <td>1378368</td>\n",
       "      <td>818076.0</td>\n",
       "      <td>0.0</td>\n",
       "      <td>...</td>\n",
       "      <td>False</td>\n",
       "      <td>False</td>\n",
       "      <td>False</td>\n",
       "      <td>False</td>\n",
       "      <td>False</td>\n",
       "      <td>False</td>\n",
       "      <td>False</td>\n",
       "      <td>False</td>\n",
       "      <td>True</td>\n",
       "      <td>False</td>\n",
       "    </tr>\n",
       "    <tr>\n",
       "      <th>96293</th>\n",
       "      <td>TRAIN_96293</td>\n",
       "      <td>8640000</td>\n",
       "      <td>10+ years</td>\n",
       "      <td>50400000</td>\n",
       "      <td>11.80</td>\n",
       "      <td>14</td>\n",
       "      <td>0</td>\n",
       "      <td>596148</td>\n",
       "      <td>274956.0</td>\n",
       "      <td>0.0</td>\n",
       "      <td>...</td>\n",
       "      <td>False</td>\n",
       "      <td>False</td>\n",
       "      <td>False</td>\n",
       "      <td>False</td>\n",
       "      <td>False</td>\n",
       "      <td>False</td>\n",
       "      <td>False</td>\n",
       "      <td>False</td>\n",
       "      <td>True</td>\n",
       "      <td>False</td>\n",
       "    </tr>\n",
       "  </tbody>\n",
       "</table>\n",
       "<p>96293 rows × 29 columns</p>\n",
       "</div>"
      ],
      "text/plain": [
       "                ID      대출금액       근로기간       연간소득  부채_대비_소득_비율  총계좌수  \\\n",
       "0      TRAIN_00000  12480000    6 years   72000000        18.90    15   \n",
       "1      TRAIN_00001  14400000  10+ years  130800000        22.33    21   \n",
       "2      TRAIN_00002  12000000    5 years   96000000         8.60    14   \n",
       "3      TRAIN_00003  14400000    8 years  132000000        15.09    15   \n",
       "4      TRAIN_00004  18000000    Unknown   71736000        25.39    19   \n",
       "...            ...       ...        ...        ...          ...   ...   \n",
       "96289  TRAIN_96289  14400000  10+ years  210000000         9.33    33   \n",
       "96290  TRAIN_96290  28800000  10+ years  132000000         5.16    25   \n",
       "96291  TRAIN_96291  14400000     1 year   84000000        11.24    22   \n",
       "96292  TRAIN_96292  15600000    5 years   66330000        17.30    21   \n",
       "96293  TRAIN_96293   8640000  10+ years   50400000        11.80    14   \n",
       "\n",
       "       최근_2년간_연체_횟수    총상환원금     총상환이자  총연체금액  ...  대출목적_의료 대출목적_이사  대출목적_자동차  \\\n",
       "0                 0        0       0.0    0.0  ...    False   False     False   \n",
       "1                 0   373572  234060.0    0.0  ...    False   False     False   \n",
       "2                 0   928644  151944.0    0.0  ...    False   False     False   \n",
       "3                 0   325824  153108.0    0.0  ...    False   False     False   \n",
       "4                 0   228540  148956.0    0.0  ...    False   False     False   \n",
       "...             ...      ...       ...    ...  ...      ...     ...       ...   \n",
       "96289             0   974580  492168.0    0.0  ...    False   False     False   \n",
       "96290             0   583728  855084.0    0.0  ...    False   False     False   \n",
       "96291             0  1489128  241236.0    0.0  ...    False   False     False   \n",
       "96292             2  1378368  818076.0    0.0  ...    False   False     False   \n",
       "96293             0   596148  274956.0    0.0  ...    False   False     False   \n",
       "\n",
       "       대출목적_재생 에너지  대출목적_주요 구매  대출목적_주택  대출목적_주택 개선  대출목적_휴가  대출기간_ 36 months  \\\n",
       "0            False       False    False       False    False             True   \n",
       "1            False       False    False        True    False            False   \n",
       "2            False       False    False       False    False             True   \n",
       "3            False       False    False       False    False             True   \n",
       "4            False        True    False       False    False            False   \n",
       "...            ...         ...      ...         ...      ...              ...   \n",
       "96289        False       False    False       False    False             True   \n",
       "96290        False       False    False        True    False            False   \n",
       "96291        False       False    False       False    False             True   \n",
       "96292        False       False    False       False    False             True   \n",
       "96293        False       False    False       False    False             True   \n",
       "\n",
       "       대출기간_ 60 months  \n",
       "0                False  \n",
       "1                 True  \n",
       "2                False  \n",
       "3                False  \n",
       "4                 True  \n",
       "...                ...  \n",
       "96289            False  \n",
       "96290             True  \n",
       "96291            False  \n",
       "96292            False  \n",
       "96293            False  \n",
       "\n",
       "[96293 rows x 29 columns]"
      ]
     },
     "execution_count": 62,
     "metadata": {},
     "output_type": "execute_result"
    }
   ],
   "source": [
    "ohe_list = ['주택소유상태', '대출목적', '대출기간']\n",
    "\n",
    "df_ohe = pd.get_dummies(df, columns=ohe_list)\n",
    "df_ohe"
   ]
  },
  {
   "cell_type": "code",
   "execution_count": 63,
   "metadata": {},
   "outputs": [
    {
     "data": {
      "text/plain": [
       "['ID',\n",
       " '대출금액',\n",
       " '근로기간',\n",
       " '연간소득',\n",
       " '부채_대비_소득_비율',\n",
       " '총계좌수',\n",
       " '최근_2년간_연체_횟수',\n",
       " '총상환원금',\n",
       " '총상환이자',\n",
       " '총연체금액',\n",
       " '연체계좌수',\n",
       " '대출등급',\n",
       " '주택소유상태_MORTGAGE',\n",
       " '주택소유상태_OWN',\n",
       " '주택소유상태_RENT',\n",
       " '대출목적_기타',\n",
       " '대출목적_부채 통합',\n",
       " '대출목적_소규모 사업',\n",
       " '대출목적_신용 카드',\n",
       " '대출목적_의료',\n",
       " '대출목적_이사',\n",
       " '대출목적_자동차',\n",
       " '대출목적_재생 에너지',\n",
       " '대출목적_주요 구매',\n",
       " '대출목적_주택',\n",
       " '대출목적_주택 개선',\n",
       " '대출목적_휴가',\n",
       " '대출기간_ 36 months',\n",
       " '대출기간_ 60 months']"
      ]
     },
     "execution_count": 63,
     "metadata": {},
     "output_type": "execute_result"
    }
   ],
   "source": [
    "df_ohe.columns.tolist()"
   ]
  },
  {
   "cell_type": "code",
   "execution_count": 66,
   "metadata": {},
   "outputs": [
    {
     "data": {
      "text/plain": [
       "['ID',\n",
       " '대출금액',\n",
       " '연간소득',\n",
       " '부채_대비_소득_비율',\n",
       " '총계좌수',\n",
       " '최근_2년간_연체_횟수',\n",
       " '총상환원금',\n",
       " '총상환이자',\n",
       " '총연체금액',\n",
       " '연체계좌수',\n",
       " '대출등급',\n",
       " '주택소유상태_MORTGAGE',\n",
       " '주택소유상태_OWN',\n",
       " '주택소유상태_RENT',\n",
       " '대출목적_기타',\n",
       " '대출목적_부채 통합',\n",
       " '대출목적_소규모 사업',\n",
       " '대출목적_신용 카드',\n",
       " '대출목적_의료',\n",
       " '대출목적_이사',\n",
       " '대출목적_자동차',\n",
       " '대출목적_재생 에너지',\n",
       " '대출목적_주요 구매',\n",
       " '대출목적_주택',\n",
       " '대출목적_주택 개선',\n",
       " '대출목적_휴가',\n",
       " '대출기간_ 36 months',\n",
       " '대출기간_ 60 months']"
      ]
     },
     "execution_count": 66,
     "metadata": {},
     "output_type": "execute_result"
    }
   ],
   "source": [
    "df = df_ohe.drop('근로기간', axis=1)\n",
    "df.columns.tolist()"
   ]
  },
  {
   "cell_type": "markdown",
   "metadata": {},
   "source": [
    "- 근로기간 -> 칼럼 삭제    // 이유 공부하기"
   ]
  },
  {
   "cell_type": "markdown",
   "metadata": {},
   "source": [
    "### 대출등급 label encoding\n",
    "\n",
    "- A: 6\n",
    "- B: 5\n",
    "- C: 4\n",
    "- D: 3\n",
    "- E: 2\n",
    "- F: 1\n",
    "- G: 0"
   ]
  },
  {
   "cell_type": "code",
   "execution_count": 69,
   "metadata": {},
   "outputs": [
    {
     "data": {
      "text/plain": [
       "0        4\n",
       "1        5\n",
       "2        6\n",
       "3        4\n",
       "4        5\n",
       "        ..\n",
       "96289    4\n",
       "96290    2\n",
       "96291    6\n",
       "96292    3\n",
       "96293    4\n",
       "Name: 대출등급, Length: 96293, dtype: int64"
      ]
     },
     "execution_count": 69,
     "metadata": {},
     "output_type": "execute_result"
    }
   ],
   "source": [
    "def label_encoder(x):\n",
    "    if type(x) is int:\n",
    "        return x\n",
    "    return 6 - (ord(x)-65)    # ord(): char를 정수로 변형\n",
    "\n",
    "df['대출등급'] = df['대출등급'].apply(lambda x: label_encoder(x)).astype(int)\n",
    "df['대출등급']"
   ]
  },
  {
   "cell_type": "code",
   "execution_count": 73,
   "metadata": {},
   "outputs": [
    {
     "data": {
      "text/plain": [
       "['ID',\n",
       " '대출금액',\n",
       " '연간소득',\n",
       " '부채_대비_소득_비율',\n",
       " '총계좌수',\n",
       " '최근_2년간_연체_횟수',\n",
       " '총상환원금',\n",
       " '총상환이자',\n",
       " '총연체금액',\n",
       " '연체계좌수',\n",
       " '대출등급',\n",
       " '주택소유상태_MORTGAGE',\n",
       " '주택소유상태_OWN',\n",
       " '주택소유상태_RENT',\n",
       " '대출목적_기타',\n",
       " '대출목적_부채 통합',\n",
       " '대출목적_소규모 사업',\n",
       " '대출목적_신용 카드',\n",
       " '대출목적_의료',\n",
       " '대출목적_이사',\n",
       " '대출목적_자동차',\n",
       " '대출목적_재생 에너지',\n",
       " '대출목적_주요 구매',\n",
       " '대출목적_주택',\n",
       " '대출목적_주택 개선',\n",
       " '대출목적_휴가',\n",
       " '대출기간_ 36 months',\n",
       " '대출기간_ 60 months']"
      ]
     },
     "execution_count": 73,
     "metadata": {},
     "output_type": "execute_result"
    }
   ],
   "source": [
    "df.columns.tolist()"
   ]
  },
  {
   "cell_type": "markdown",
   "metadata": {
    "id": "z-jsSez3jYny"
   },
   "source": [
    "___\n",
    "# 모델선택"
   ]
  },
  {
   "cell_type": "code",
   "execution_count": 77,
   "metadata": {
    "id": "2Ma7AGdGjYny"
   },
   "outputs": [],
   "source": [
    "# EDA를 통해 데이터셋에 어울리는 모델을 선택해주세요.\n",
    "\n",
    "from sklearn.tree import DecisionTreeClassifier\n",
    "from sklearn.ensemble import RandomForestClassifier, GradientBoostingClassifier\n",
    "\n",
    "from sklearn.metrics import accuracy_score, f1_score\n",
    "from sklearn.model_selection import train_test_split"
   ]
  },
  {
   "cell_type": "markdown",
   "metadata": {
    "id": "A_aRqG1tjYny"
   },
   "source": [
    "___\n",
    "# 모델 훈련"
   ]
  },
  {
   "cell_type": "markdown",
   "metadata": {},
   "source": [
    "## Features - Target column 분리하기"
   ]
  },
  {
   "cell_type": "code",
   "execution_count": 80,
   "metadata": {},
   "outputs": [
    {
     "data": {
      "text/html": [
       "<div>\n",
       "<style scoped>\n",
       "    .dataframe tbody tr th:only-of-type {\n",
       "        vertical-align: middle;\n",
       "    }\n",
       "\n",
       "    .dataframe tbody tr th {\n",
       "        vertical-align: top;\n",
       "    }\n",
       "\n",
       "    .dataframe thead th {\n",
       "        text-align: right;\n",
       "    }\n",
       "</style>\n",
       "<table border=\"1\" class=\"dataframe\">\n",
       "  <thead>\n",
       "    <tr style=\"text-align: right;\">\n",
       "      <th></th>\n",
       "      <th>대출금액</th>\n",
       "      <th>연간소득</th>\n",
       "      <th>부채_대비_소득_비율</th>\n",
       "      <th>총계좌수</th>\n",
       "      <th>최근_2년간_연체_횟수</th>\n",
       "      <th>총상환원금</th>\n",
       "      <th>총상환이자</th>\n",
       "      <th>총연체금액</th>\n",
       "      <th>연체계좌수</th>\n",
       "      <th>주택소유상태_MORTGAGE</th>\n",
       "      <th>...</th>\n",
       "      <th>대출목적_의료</th>\n",
       "      <th>대출목적_이사</th>\n",
       "      <th>대출목적_자동차</th>\n",
       "      <th>대출목적_재생 에너지</th>\n",
       "      <th>대출목적_주요 구매</th>\n",
       "      <th>대출목적_주택</th>\n",
       "      <th>대출목적_주택 개선</th>\n",
       "      <th>대출목적_휴가</th>\n",
       "      <th>대출기간_ 36 months</th>\n",
       "      <th>대출기간_ 60 months</th>\n",
       "    </tr>\n",
       "  </thead>\n",
       "  <tbody>\n",
       "    <tr>\n",
       "      <th>0</th>\n",
       "      <td>12480000</td>\n",
       "      <td>72000000</td>\n",
       "      <td>18.90</td>\n",
       "      <td>15</td>\n",
       "      <td>0</td>\n",
       "      <td>0</td>\n",
       "      <td>0.0</td>\n",
       "      <td>0.0</td>\n",
       "      <td>0.0</td>\n",
       "      <td>False</td>\n",
       "      <td>...</td>\n",
       "      <td>False</td>\n",
       "      <td>False</td>\n",
       "      <td>False</td>\n",
       "      <td>False</td>\n",
       "      <td>False</td>\n",
       "      <td>False</td>\n",
       "      <td>False</td>\n",
       "      <td>False</td>\n",
       "      <td>True</td>\n",
       "      <td>False</td>\n",
       "    </tr>\n",
       "    <tr>\n",
       "      <th>1</th>\n",
       "      <td>14400000</td>\n",
       "      <td>130800000</td>\n",
       "      <td>22.33</td>\n",
       "      <td>21</td>\n",
       "      <td>0</td>\n",
       "      <td>373572</td>\n",
       "      <td>234060.0</td>\n",
       "      <td>0.0</td>\n",
       "      <td>0.0</td>\n",
       "      <td>True</td>\n",
       "      <td>...</td>\n",
       "      <td>False</td>\n",
       "      <td>False</td>\n",
       "      <td>False</td>\n",
       "      <td>False</td>\n",
       "      <td>False</td>\n",
       "      <td>False</td>\n",
       "      <td>True</td>\n",
       "      <td>False</td>\n",
       "      <td>False</td>\n",
       "      <td>True</td>\n",
       "    </tr>\n",
       "    <tr>\n",
       "      <th>2</th>\n",
       "      <td>12000000</td>\n",
       "      <td>96000000</td>\n",
       "      <td>8.60</td>\n",
       "      <td>14</td>\n",
       "      <td>0</td>\n",
       "      <td>928644</td>\n",
       "      <td>151944.0</td>\n",
       "      <td>0.0</td>\n",
       "      <td>0.0</td>\n",
       "      <td>True</td>\n",
       "      <td>...</td>\n",
       "      <td>False</td>\n",
       "      <td>False</td>\n",
       "      <td>False</td>\n",
       "      <td>False</td>\n",
       "      <td>False</td>\n",
       "      <td>False</td>\n",
       "      <td>False</td>\n",
       "      <td>False</td>\n",
       "      <td>True</td>\n",
       "      <td>False</td>\n",
       "    </tr>\n",
       "    <tr>\n",
       "      <th>3</th>\n",
       "      <td>14400000</td>\n",
       "      <td>132000000</td>\n",
       "      <td>15.09</td>\n",
       "      <td>15</td>\n",
       "      <td>0</td>\n",
       "      <td>325824</td>\n",
       "      <td>153108.0</td>\n",
       "      <td>0.0</td>\n",
       "      <td>0.0</td>\n",
       "      <td>True</td>\n",
       "      <td>...</td>\n",
       "      <td>False</td>\n",
       "      <td>False</td>\n",
       "      <td>False</td>\n",
       "      <td>False</td>\n",
       "      <td>False</td>\n",
       "      <td>False</td>\n",
       "      <td>False</td>\n",
       "      <td>False</td>\n",
       "      <td>True</td>\n",
       "      <td>False</td>\n",
       "    </tr>\n",
       "    <tr>\n",
       "      <th>4</th>\n",
       "      <td>18000000</td>\n",
       "      <td>71736000</td>\n",
       "      <td>25.39</td>\n",
       "      <td>19</td>\n",
       "      <td>0</td>\n",
       "      <td>228540</td>\n",
       "      <td>148956.0</td>\n",
       "      <td>0.0</td>\n",
       "      <td>0.0</td>\n",
       "      <td>False</td>\n",
       "      <td>...</td>\n",
       "      <td>False</td>\n",
       "      <td>False</td>\n",
       "      <td>False</td>\n",
       "      <td>False</td>\n",
       "      <td>True</td>\n",
       "      <td>False</td>\n",
       "      <td>False</td>\n",
       "      <td>False</td>\n",
       "      <td>False</td>\n",
       "      <td>True</td>\n",
       "    </tr>\n",
       "  </tbody>\n",
       "</table>\n",
       "<p>5 rows × 26 columns</p>\n",
       "</div>"
      ],
      "text/plain": [
       "       대출금액       연간소득  부채_대비_소득_비율  총계좌수  최근_2년간_연체_횟수   총상환원금     총상환이자  \\\n",
       "0  12480000   72000000        18.90    15             0       0       0.0   \n",
       "1  14400000  130800000        22.33    21             0  373572  234060.0   \n",
       "2  12000000   96000000         8.60    14             0  928644  151944.0   \n",
       "3  14400000  132000000        15.09    15             0  325824  153108.0   \n",
       "4  18000000   71736000        25.39    19             0  228540  148956.0   \n",
       "\n",
       "   총연체금액  연체계좌수  주택소유상태_MORTGAGE  ...  대출목적_의료  대출목적_이사  대출목적_자동차  \\\n",
       "0    0.0    0.0            False  ...    False    False     False   \n",
       "1    0.0    0.0             True  ...    False    False     False   \n",
       "2    0.0    0.0             True  ...    False    False     False   \n",
       "3    0.0    0.0             True  ...    False    False     False   \n",
       "4    0.0    0.0            False  ...    False    False     False   \n",
       "\n",
       "   대출목적_재생 에너지  대출목적_주요 구매  대출목적_주택  대출목적_주택 개선  대출목적_휴가  대출기간_ 36 months  \\\n",
       "0        False       False    False       False    False             True   \n",
       "1        False       False    False        True    False            False   \n",
       "2        False       False    False       False    False             True   \n",
       "3        False       False    False       False    False             True   \n",
       "4        False        True    False       False    False            False   \n",
       "\n",
       "   대출기간_ 60 months  \n",
       "0            False  \n",
       "1             True  \n",
       "2            False  \n",
       "3            False  \n",
       "4             True  \n",
       "\n",
       "[5 rows x 26 columns]"
      ]
     },
     "execution_count": 80,
     "metadata": {},
     "output_type": "execute_result"
    }
   ],
   "source": [
    "X = df.copy().drop(['ID', '대출등급'], axis=1)\n",
    "X.head()"
   ]
  },
  {
   "cell_type": "code",
   "execution_count": 81,
   "metadata": {},
   "outputs": [
    {
     "data": {
      "text/plain": [
       "0        4\n",
       "1        5\n",
       "2        6\n",
       "3        4\n",
       "4        5\n",
       "        ..\n",
       "96289    4\n",
       "96290    2\n",
       "96291    6\n",
       "96292    3\n",
       "96293    4\n",
       "Name: 대출등급, Length: 96293, dtype: int64"
      ]
     },
     "execution_count": 81,
     "metadata": {},
     "output_type": "execute_result"
    }
   ],
   "source": [
    "y = df['대출등급']\n",
    "y"
   ]
  },
  {
   "cell_type": "code",
   "execution_count": 82,
   "metadata": {
    "id": "nceFIcdFjYnz"
   },
   "outputs": [],
   "source": [
    "# train set, test set 분류\n",
    "\n",
    "X_train, X_test, y_train, y_test = train_test_split(X, y, test_size=0.2, random_state=42)"
   ]
  },
  {
   "cell_type": "code",
   "execution_count": 83,
   "metadata": {},
   "outputs": [
    {
     "data": {
      "text/plain": [
       "((77034, 26), (77034,))"
      ]
     },
     "execution_count": 83,
     "metadata": {},
     "output_type": "execute_result"
    }
   ],
   "source": [
    "X_train.shape, y_train.shape"
   ]
  },
  {
   "cell_type": "code",
   "execution_count": 84,
   "metadata": {},
   "outputs": [
    {
     "data": {
      "text/plain": [
       "((19259, 26), (19259,))"
      ]
     },
     "execution_count": 84,
     "metadata": {},
     "output_type": "execute_result"
    }
   ],
   "source": [
    "X_test.shape, y_test.shape"
   ]
  },
  {
   "cell_type": "markdown",
   "metadata": {
    "id": "O-sqEyqRjYnz"
   },
   "source": [
    "___\n",
    "# 4. 미션 4) 하이퍼 파라미터 튜닝"
   ]
  },
  {
   "cell_type": "code",
   "execution_count": 20,
   "metadata": {
    "id": "CUImBG9cjYnz"
   },
   "outputs": [],
   "source": [
    "from sklearn.model_selection import GridSearchCV, RandomizedSearchCV\n",
    "\n",
    "# SearchCV를 통해 하이퍼 파라미터를 튜닝해주세요."
   ]
  },
  {
   "cell_type": "markdown",
   "metadata": {
    "id": "53yVj3OejYn0"
   },
   "source": [
    "___\n",
    "# 5. 미션 5) 모델 평가 및 선택\n",
    "\n",
    "* 해당 대회의 평가 방식은 Macro F1 score 입니다."
   ]
  },
  {
   "cell_type": "code",
   "execution_count": 21,
   "metadata": {
    "id": "mjv3z0z2jYn0"
   },
   "outputs": [],
   "source": [
    "from sklearn.metrics import f1_score"
   ]
  },
  {
   "cell_type": "code",
   "execution_count": 22,
   "metadata": {
    "id": "7YFyyejrjYn0"
   },
   "outputs": [
    {
     "ename": "NameError",
     "evalue": "name 'y_true' is not defined",
     "output_type": "error",
     "traceback": [
      "\u001b[0;31m---------------------------------------------------------------------------\u001b[0m",
      "\u001b[0;31mNameError\u001b[0m                                 Traceback (most recent call last)",
      "Input \u001b[0;32mIn [22]\u001b[0m, in \u001b[0;36m<cell line: 2>\u001b[0;34m()\u001b[0m\n\u001b[1;32m      1\u001b[0m \u001b[38;5;66;03m# Macro F1 score\u001b[39;00m\n\u001b[0;32m----> 2\u001b[0m f1_score(\u001b[43my_true\u001b[49m, y_pred, average\u001b[38;5;241m=\u001b[39m\u001b[38;5;124m'\u001b[39m\u001b[38;5;124mmacro\u001b[39m\u001b[38;5;124m'\u001b[39m)\n",
      "\u001b[0;31mNameError\u001b[0m: name 'y_true' is not defined"
     ]
    }
   ],
   "source": [
    "# Macro F1 score\n",
    "f1_score(y_true, y_pred, average='macro')"
   ]
  },
  {
   "cell_type": "code",
   "execution_count": null,
   "metadata": {},
   "outputs": [],
   "source": []
  },
  {
   "cell_type": "code",
   "execution_count": null,
   "metadata": {},
   "outputs": [],
   "source": []
  }
 ],
 "metadata": {
  "colab": {
   "provenance": []
  },
  "kernelspec": {
   "display_name": "Python 3 (ipykernel)",
   "language": "python",
   "name": "python3"
  },
  "language_info": {
   "codemirror_mode": {
    "name": "ipython",
    "version": 3
   },
   "file_extension": ".py",
   "mimetype": "text/x-python",
   "name": "python",
   "nbconvert_exporter": "python",
   "pygments_lexer": "ipython3",
   "version": "3.9.12"
  },
  "toc": {
   "base_numbering": 1,
   "nav_menu": {},
   "number_sections": true,
   "sideBar": true,
   "skip_h1_title": false,
   "title_cell": "Table of Contents",
   "title_sidebar": "Contents",
   "toc_cell": false,
   "toc_position": {},
   "toc_section_display": true,
   "toc_window_display": false
  }
 },
 "nbformat": 4,
 "nbformat_minor": 1
}
